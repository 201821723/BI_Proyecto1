{
  "cells": [
    {
      "cell_type": "markdown",
      "metadata": {
        "id": "uRaJG3JK5cwD"
      },
      "source": [
        "# **Proyecto 1 - Etapa II**\n",
        "\n",
        "Integrantes:\n",
        "*   Kevin Gamez\n",
        "*   Andres Bravo\n",
        "*   Sara Plazas"
      ]
    },
    {
      "cell_type": "markdown",
      "metadata": {
        "id": "A4CHj-IGUsB1"
      },
      "source": [
        "# Entendimiento de los datos"
      ]
    },
    {
      "cell_type": "code",
      "execution_count": null,
      "metadata": {
        "colab": {
          "base_uri": "https://localhost:8080/"
        },
        "id": "KcGDyXM_80k4",
        "outputId": "9b3d3bf9-8914-417b-cd60-b1ff84fd150b"
      },
      "outputs": [
        {
          "name": "stdout",
          "output_type": "stream",
          "text": [
            "Looking in indexes: https://pypi.org/simple, https://us-python.pkg.dev/colab-wheels/public/simple/\n",
            "Collecting dill\n",
            "  Downloading dill-0.3.6-py3-none-any.whl (110 kB)\n",
            "\u001b[2K     \u001b[90m━━━━━━━━━━━━━━━━━━━━━━━━━━━━━━━━━━━━━━━\u001b[0m \u001b[32m110.5/110.5 kB\u001b[0m \u001b[31m4.2 MB/s\u001b[0m eta \u001b[36m0:00:00\u001b[0m\n",
            "\u001b[?25hInstalling collected packages: dill\n",
            "Successfully installed dill-0.3.6\n",
            "Looking in indexes: https://pypi.org/simple, https://us-python.pkg.dev/colab-wheels/public/simple/\n",
            "Collecting num2words\n",
            "  Downloading num2words-0.5.12-py3-none-any.whl (125 kB)\n",
            "\u001b[2K     \u001b[90m━━━━━━━━━━━━━━━━━━━━━━━━━━━━━━━━━━━━━━━\u001b[0m \u001b[32m125.2/125.2 kB\u001b[0m \u001b[31m4.6 MB/s\u001b[0m eta \u001b[36m0:00:00\u001b[0m\n",
            "\u001b[?25hCollecting docopt>=0.6.2\n",
            "  Downloading docopt-0.6.2.tar.gz (25 kB)\n",
            "  Preparing metadata (setup.py) ... \u001b[?25l\u001b[?25hdone\n",
            "Building wheels for collected packages: docopt\n",
            "  Building wheel for docopt (setup.py) ... \u001b[?25l\u001b[?25hdone\n",
            "  Created wheel for docopt: filename=docopt-0.6.2-py2.py3-none-any.whl size=13721 sha256=a3a1f79a36e3ad55a535f3a10def827465560ee054a7126b860f351b5a00748b\n",
            "  Stored in directory: /root/.cache/pip/wheels/70/4a/46/1309fc853b8d395e60bafaf1b6df7845bdd82c95fd59dd8d2b\n",
            "Successfully built docopt\n",
            "Installing collected packages: docopt, num2words\n",
            "Successfully installed docopt-0.6.2 num2words-0.5.12\n",
            "/bin/bash: -c: line 0: syntax error near unexpected token `('\n",
            "/bin/bash: -c: line 0: `pip install [https://github.com/pandas-profiling/pandas-profiling/archive/master.zip](https://github.com/pandas-profiling/pandas-profiling/archive/master.zip)'\n",
            "Looking in indexes: https://pypi.org/simple, https://us-python.pkg.dev/colab-wheels/public/simple/\n",
            "Collecting langdetect\n",
            "  Downloading langdetect-1.0.9.tar.gz (981 kB)\n",
            "\u001b[2K     \u001b[90m━━━━━━━━━━━━━━━━━━━━━━━━━━━━━━━━━━━━━━\u001b[0m \u001b[32m981.5/981.5 kB\u001b[0m \u001b[31m16.2 MB/s\u001b[0m eta \u001b[36m0:00:00\u001b[0m\n",
            "\u001b[?25h  Preparing metadata (setup.py) ... \u001b[?25l\u001b[?25hdone\n",
            "Requirement already satisfied: six in /usr/local/lib/python3.9/dist-packages (from langdetect) (1.16.0)\n",
            "Building wheels for collected packages: langdetect\n",
            "  Building wheel for langdetect (setup.py) ... \u001b[?25l\u001b[?25hdone\n",
            "  Created wheel for langdetect: filename=langdetect-1.0.9-py3-none-any.whl size=993243 sha256=e6dc3ba1eb8a56cd459936453e85def58e9c161b71bb8803236f4cf2e637ebd6\n",
            "  Stored in directory: /root/.cache/pip/wheels/d1/c1/d9/7e068de779d863bc8f8fc9467d85e25cfe47fa5051fff1a1bb\n",
            "Successfully built langdetect\n",
            "Installing collected packages: langdetect\n",
            "Successfully installed langdetect-1.0.9\n",
            "Looking in indexes: https://pypi.org/simple, https://us-python.pkg.dev/colab-wheels/public/simple/\n",
            "Collecting stanza\n",
            "  Downloading stanza-1.5.0-py3-none-any.whl (802 kB)\n",
            "\u001b[2K     \u001b[90m━━━━━━━━━━━━━━━━━━━━━━━━━━━━━━━━━━━━━━\u001b[0m \u001b[32m802.5/802.5 kB\u001b[0m \u001b[31m14.2 MB/s\u001b[0m eta \u001b[36m0:00:00\u001b[0m\n",
            "\u001b[?25hCollecting emoji\n",
            "  Downloading emoji-2.2.0.tar.gz (240 kB)\n",
            "\u001b[2K     \u001b[90m━━━━━━━━━━━━━━━━━━━━━━━━━━━━━━━━━━━━━━\u001b[0m \u001b[32m240.9/240.9 kB\u001b[0m \u001b[31m24.4 MB/s\u001b[0m eta \u001b[36m0:00:00\u001b[0m\n",
            "\u001b[?25h  Preparing metadata (setup.py) ... \u001b[?25l\u001b[?25hdone\n",
            "Requirement already satisfied: torch>=1.3.0 in /usr/local/lib/python3.9/dist-packages (from stanza) (2.0.0+cu118)\n",
            "Requirement already satisfied: numpy in /usr/local/lib/python3.9/dist-packages (from stanza) (1.24.3)\n",
            "Requirement already satisfied: tqdm in /usr/local/lib/python3.9/dist-packages (from stanza) (4.65.0)\n",
            "Requirement already satisfied: protobuf in /usr/local/lib/python3.9/dist-packages (from stanza) (3.20.3)\n",
            "Requirement already satisfied: requests in /usr/local/lib/python3.9/dist-packages (from stanza) (2.27.1)\n",
            "Requirement already satisfied: six in /usr/local/lib/python3.9/dist-packages (from stanza) (1.16.0)\n",
            "Requirement already satisfied: sympy in /usr/local/lib/python3.9/dist-packages (from torch>=1.3.0->stanza) (1.11.1)\n",
            "Requirement already satisfied: triton==2.0.0 in /usr/local/lib/python3.9/dist-packages (from torch>=1.3.0->stanza) (2.0.0)\n",
            "Requirement already satisfied: networkx in /usr/local/lib/python3.9/dist-packages (from torch>=1.3.0->stanza) (3.1)\n",
            "Requirement already satisfied: jinja2 in /usr/local/lib/python3.9/dist-packages (from torch>=1.3.0->stanza) (3.1.2)\n",
            "Requirement already satisfied: typing-extensions in /usr/local/lib/python3.9/dist-packages (from torch>=1.3.0->stanza) (4.5.0)\n",
            "Requirement already satisfied: filelock in /usr/local/lib/python3.9/dist-packages (from torch>=1.3.0->stanza) (3.12.0)\n",
            "Requirement already satisfied: cmake in /usr/local/lib/python3.9/dist-packages (from triton==2.0.0->torch>=1.3.0->stanza) (3.25.2)\n",
            "Requirement already satisfied: lit in /usr/local/lib/python3.9/dist-packages (from triton==2.0.0->torch>=1.3.0->stanza) (16.0.2)\n",
            "Requirement already satisfied: charset-normalizer~=2.0.0 in /usr/local/lib/python3.9/dist-packages (from requests->stanza) (2.0.12)\n",
            "Requirement already satisfied: urllib3<1.27,>=1.21.1 in /usr/local/lib/python3.9/dist-packages (from requests->stanza) (1.26.15)\n",
            "Requirement already satisfied: certifi>=2017.4.17 in /usr/local/lib/python3.9/dist-packages (from requests->stanza) (2022.12.7)\n",
            "Requirement already satisfied: idna<4,>=2.5 in /usr/local/lib/python3.9/dist-packages (from requests->stanza) (3.4)\n",
            "Requirement already satisfied: MarkupSafe>=2.0 in /usr/local/lib/python3.9/dist-packages (from jinja2->torch>=1.3.0->stanza) (2.1.2)\n",
            "Requirement already satisfied: mpmath>=0.19 in /usr/local/lib/python3.9/dist-packages (from sympy->torch>=1.3.0->stanza) (1.3.0)\n",
            "Building wheels for collected packages: emoji\n",
            "  Building wheel for emoji (setup.py) ... \u001b[?25l\u001b[?25hdone\n",
            "  Created wheel for emoji: filename=emoji-2.2.0-py3-none-any.whl size=234926 sha256=7e75881ad781cae54669c41235870c92e012f158dc6f1c3c9f45c0c052c5522c\n",
            "  Stored in directory: /root/.cache/pip/wheels/9a/b8/0f/f580817231cbf59f6ade9fd132ff60ada1de9f7dc85521f857\n",
            "Successfully built emoji\n",
            "Installing collected packages: emoji, stanza\n",
            "Successfully installed emoji-2.2.0 stanza-1.5.0\n"
          ]
        }
      ],
      "source": [
        "#Instalaciones\n",
        "#biblioteca para serializar objetos complejos en Python\n",
        "!pip install dill\n",
        "#Libreria para remplazar numeros por palabras\n",
        "!pip install num2words\n",
        "#Instalar  pandas profiler\n",
        "!pip install [https://github.com/pandas-profiling/pandas-profiling/archive/master.zip](https://github.com/pandas-profiling/pandas-profiling/archive/master.zip)\n",
        "\n",
        "#deteccion de lenguaje para eliminar entradas que no esten en español\n",
        "!pip install langdetect\n",
        "#Procesamientno de lenguaje natural en espaañol\n",
        "!pip install stanza"
      ]
    },
    {
      "cell_type": "code",
      "execution_count": null,
      "metadata": {
        "colab": {
          "base_uri": "https://localhost:8080/"
        },
        "id": "mcvzH-95R0aP",
        "outputId": "2ec62d70-e1e5-40ae-b1e3-22f5dd31ff5c"
      },
      "outputs": [
        {
          "name": "stdout",
          "output_type": "stream",
          "text": [
            "/bin/bash: dill: command not found\n"
          ]
        }
      ],
      "source": [
        "!dill --version"
      ]
    },
    {
      "cell_type": "code",
      "execution_count": null,
      "metadata": {
        "colab": {
          "base_uri": "https://localhost:8080/",
          "height": 150,
          "referenced_widgets": [
            "4bb292c3269e4f03b5ca475207127290",
            "d7b95c0ab18c4306b808ba43b1be2845",
            "b6800d7fe6af49ef9cb0105c9804a7f6",
            "2bc86082198045b293e0dd78afa8bd0d",
            "8374edffc7044370a167669c4f5a7c2c",
            "4506227dbbed461da908acd868b28a6e",
            "613d058a6c9648969911d25f8308cd83",
            "d7b9a44ae80048e3b8146379c6059917",
            "1e2c1b2877f9477c9378624996f08746",
            "408b4c772c69495c92dd3aaf1280f3aa",
            "115f589e29b9434dbe4156b9037a6a73",
            "91f2657cbcc24da5afdaf9b744ba0b25",
            "f9e2568b5444463fa9cf0482d6db38e3",
            "32099af64d06442eaf9174ea425c43a7",
            "d20f8b4b851a47a2a9702f71da96c4ec",
            "eab448ca450f4fdd8578b8fe9a9b1be1",
            "c8179eedc39b47a8b29a2100290effa2",
            "4970d05ef5a84ca7a716a999907551e8",
            "dc9c644842e3418599a57c51cc42fd85",
            "1c89c815618b42d0abadfcb246e45397",
            "784147c7d2a541e79333aba27993bffb",
            "57ab7fb19dc04c1890f2856fae44208e"
          ]
        },
        "id": "RhxM_C9SWb3E",
        "outputId": "c85e1814-46ce-4d2a-f6fe-200f7d03ed93"
      },
      "outputs": [
        {
          "data": {
            "application/vnd.jupyter.widget-view+json": {
              "model_id": "4bb292c3269e4f03b5ca475207127290",
              "version_major": 2,
              "version_minor": 0
            },
            "text/plain": [
              "Downloading https://raw.githubusercontent.com/stanfordnlp/stanza-resources/main/resources_1.5.0.json:   0%|   …"
            ]
          },
          "metadata": {},
          "output_type": "display_data"
        },
        {
          "name": "stderr",
          "output_type": "stream",
          "text": [
            "INFO:stanza:Downloading default packages for language: es (Spanish) ...\n"
          ]
        },
        {
          "data": {
            "application/vnd.jupyter.widget-view+json": {
              "model_id": "91f2657cbcc24da5afdaf9b744ba0b25",
              "version_major": 2,
              "version_minor": 0
            },
            "text/plain": [
              "Downloading https://huggingface.co/stanfordnlp/stanza-es/resolve/v1.5.0/models/default.zip:   0%|          | 0…"
            ]
          },
          "metadata": {},
          "output_type": "display_data"
        },
        {
          "name": "stderr",
          "output_type": "stream",
          "text": [
            "INFO:stanza:Finished downloading models and saved to /root/stanza_resources.\n",
            "[nltk_data] Downloading package stopwords to /root/nltk_data...\n",
            "[nltk_data]   Unzipping corpora/stopwords.zip.\n"
          ]
        }
      ],
      "source": [
        "#imports para procesamiento de texto\n",
        "\n",
        "#tokenizacion y lematizacion\n",
        "import stanza\n",
        "#Para integrar pasos de la limpieza adicionales\n",
        "from stanza.pipeline.processor import Processor, register_processor\n",
        "#paquete español \n",
        "stanza.download('es') \n",
        "\n",
        "#Para manejo de numeros, singluares, plurarles en lenguaje\n",
        "from num2words import num2words\n",
        "#Deteccion de lenguaje\n",
        "from langdetect import detect\n",
        "\n",
        "import nltk\n",
        "# para identificar palabras comunes a todos los textos \n",
        "nltk.download('stopwords')\n",
        "from nltk.corpus import stopwords\n",
        "\n",
        "#Operaciones con expresiones regulares\n",
        "import re\n",
        "#Unicode character database\n",
        "import unicodedata"
      ]
    },
    {
      "cell_type": "code",
      "execution_count": null,
      "metadata": {
        "id": "NCn-iViQxqGB"
      },
      "outputs": [],
      "source": [
        "import sys\n",
        "\n",
        "# Manipulación y análisis de datos\n",
        "import pandas as pd \n",
        "import numpy as np \n",
        "\n",
        "# Funciones de evaluación de modelos de aprendizaje automático\n",
        "from sklearn.metrics import accuracy_score, precision_score, recall_score, f1_score, confusion_matrix, classification_report\n",
        "\n",
        "# Estructuras y herramientas de procesamiento de datos\n",
        "from sklearn.feature_extraction.text import (TfidfTransformer, TfidfVectorizer)\n",
        "from sklearn.pipeline import Pipeline \n",
        "from sklearn.compose import ColumnTransformer \n",
        "\n",
        "# Bibliotecas de aprendizaje automático\n",
        "import sklearn\n",
        "import mlxtend\n",
        "import joblib\n",
        "from joblib import dump, load\n",
        "from sklearn.linear_model import LogisticRegression\n",
        "import dill\n",
        "from sklearn import metrics\n",
        "\n",
        "\n",
        "# Funciones de guardado y carga de objetos Python\n",
        "from joblib import dump, load \n",
        "\n",
        "\n",
        "pd.set_option('display.max_colwidth', None)"
      ]
    },
    {
      "cell_type": "markdown",
      "metadata": {
        "id": "ZG5Ykj6gAsXF"
      },
      "source": [
        "# Entendimiento de los datos"
      ]
    },
    {
      "cell_type": "code",
      "execution_count": null,
      "metadata": {
        "colab": {
          "base_uri": "https://localhost:8080/",
          "height": 909
        },
        "id": "U0-E_ZlUarYS",
        "outputId": "7e17caa7-48d7-48e4-90e5-1f0053c5867b"
      },
      "outputs": [
        {
          "data": {
            "text/html": [
              "\n",
              "  <div id=\"df-bc289b14-ca40-4775-9d8e-880ed8429c36\">\n",
              "    <div class=\"colab-df-container\">\n",
              "      <div>\n",
              "<style scoped>\n",
              "    .dataframe tbody tr th:only-of-type {\n",
              "        vertical-align: middle;\n",
              "    }\n",
              "\n",
              "    .dataframe tbody tr th {\n",
              "        vertical-align: top;\n",
              "    }\n",
              "\n",
              "    .dataframe thead th {\n",
              "        text-align: right;\n",
              "    }\n",
              "</style>\n",
              "<table border=\"1\" class=\"dataframe\">\n",
              "  <thead>\n",
              "    <tr style=\"text-align: right;\">\n",
              "      <th></th>\n",
              "      <th>Unnamed: 0</th>\n",
              "      <th>review_es</th>\n",
              "      <th>sentimiento</th>\n",
              "    </tr>\n",
              "  </thead>\n",
              "  <tbody>\n",
              "    <tr>\n",
              "      <th>0</th>\n",
              "      <td>0</td>\n",
              "      <td>Si está buscando una película de guerra típica, esta no es así, por lo que una nota a todos los aficionados a la guerra de ansiancia de carnajería de testosterona, no se molesten.Aunque la película se trata de personajes rusos en la Segunda Guerra Mundial, no espere ver a ningún nazis, cañones, sangre, sangre, etc. No es una película sobre las personas que causan una guerra o que luchan contra una guerra.Es una película sobre las personas ordinarias que le ocurren la guerra y las elecciones que hacen para tratar con ella. Cinematografía, escritura: todos los 10s perfectos aquí.Sin duda, lo apreciarás si eres ruso como yo, pero incluso si no, probablemente lo ames.Si no habla ruso, busque la versión DVD del DVD de Ruscico (Russian Cinema Cinema).Tiene subtítulos en unos 14 idiomas diferentes, pero el doblaje inglés en este que diría es igual de bueno.Por supuesto, no es tan bueno como la pista rusa original (algunas cosas se pierden en la traducción), sino tan buenas como los subtítulos en inglés.Así que vaya a revisarlo, especialmente si está estudiando una película en cualquier aspecto.</td>\n",
              "      <td>positivo</td>\n",
              "    </tr>\n",
              "    <tr>\n",
              "      <th>1</th>\n",
              "      <td>1</td>\n",
              "      <td>Supongo que algunos directores de películas de lujo estaban sentados buscando su abrigo, Grappa, Aramangac o jugo de selva alguna noche en los años 80 durante los cannes u otro festival de cine y uno dijo: \"Oye, chicos, hagamos una película donde cada uno de nosotros cree un segmento alrededor una clase mundial aria \". Welllll ... Tipo de tipo de trabajo. Claramente, alguien fue lo suficientemente inteligente como para seleccionar algunas de las mejores grabaciones de las Arias elegidas, por ejemplo, Nessun Dorma de Bjoreling, así que si estuvieras ciego y mintiendo en el piso, simplemente escuchando el DVD, obtuviste más que el valor de tu dinero. No todos los directores lo sucedieron, pero más lo hicieron, lo que no y la película parece mejorar con cada visión a lo largo de los años. Mi favorito es el dúo de amor inquietantemente hermoso de Die Tod Statd; Está bien, un joven desnudo, Elizabeth Hurley es ojos, pero su marido cantó a ella, el fantasma de su esposa, es increíblemente hermoso con la música del amor segundo solo para \"Gia Nella Notte Densa\" de Otello y Desdemona en todo el repertorio operístico. ¿Podría haber sido mejor el flick, seguro, lo que no podría haber sido, pero vale la pena una visión especialmente de un estado de ánimo hiper-romántico?</td>\n",
              "      <td>positivo</td>\n",
              "    </tr>\n",
              "    <tr>\n",
              "      <th>2</th>\n",
              "      <td>2</td>\n",
              "      <td>Es difícil contarle más sobre esta película sin estropearla.Lo disfruté porque no esperaba lo que estaba viendo, sino un drama sexual ordinario, así que ... es un thriller de PSCYHO-sexual, en el que nada es lo que parece.Cuenta con Emmanuelle Seigner, sin extraño al género (y a la desnudez) en la que su esposo, Polanski, la había dirigido.Y un rendimiento espeluznante (dije espeluznante / sí espeluznante) de Toreton (el actor de Bernard Tavernier).Parece que un Pascal Bruckner se encuentra con Roman Polanski (mejor que la luna amarga), como un chabrol que se fue por extravisos o thriller de Clouzot (he visto a alguien que menciona Les diaboliques), pero más cerca de Georges Franju's Les Yeux Sans Visage (ojos sin cara, laPadrino del Dr. Phibes y más).Una gema !Solo me temo que lo hicieran en un remake de Hollywood como lo hicieron con Nighwatch y la desaparición.</td>\n",
              "      <td>positivo</td>\n",
              "    </tr>\n",
              "    <tr>\n",
              "      <th>3</th>\n",
              "      <td>3</td>\n",
              "      <td>La película comienza muy lentamente, con el estilo de vida de Wallace Napalm, un asistente en una estación de entrega de fotografía. Su esposa ha sido restringida a su casa con un brazalete de tobillo como resultado de una oración para el incendio. Wallace es miembro del departamento de bomberos voluntarios, y toma en serio incendio. En serio, observamos el procedimiento de vida bastante aburrida de Wallace, de repente, llega algo nuevo y jarring: un carnaval viajero llega a la ciudad. Una de sus estrellas es Wilder Napalm, el hermano de Wallace. Es un payaso, pero tiene un talento especial. Sobre Wallace. Ambos son pirocinadores ni \"pirótica\", personas capaces de iniciar incendios a través de la energía mental. Wallace mantiene su secreto de poderes; Wilder le permite conocer a sus conocidos lo que puede hacer.Spoiler: algunas de sus diferencias regresan a un incidente de la infancia, donde inadvertidamente causaron la muerte de un vagabundo. Wallace se espera de usar sus poderes; Wilder quiere ir al público en la televisión nacional. Tvelplicando el asunto, Wilder quiere la esposa de Wallace, a quienes ambos fechan los años antes. Se convierte en un hueso de contención, y se convierte en una de las razones que los hermanos finalmente tienen una pelea de incendios literales. La película es entretenida, pero no se ríe, graciosa. Pienso lo suficiente como para tener una copia en mi biblioteca. Es una buena película offbeat.</td>\n",
              "      <td>positivo</td>\n",
              "    </tr>\n",
              "    <tr>\n",
              "      <th>4</th>\n",
              "      <td>4</td>\n",
              "      <td>Esta película es verdadera acción en su máxima expresión, no es mejor que esto.Esta es una de esas películas que puedes simplemente comenzar y observar un buen buen disparo sin parar y matar más, hay algunas líneas excelentes para acompañar todo esto.Mi favorito es que hay un chico malo que se está divirtiendo en esta casa de parejas viejas y él está robando un televisor o algo así, y él va hasta ellos y grita \"¡Voy a venir aquí en cualquier momento que me guste!\"Y justo antes de saltar por la ventana, grita \"en cualquier momento!\"Me refiero a que esto es solo cosas clásicas, por lo que tienes una opción, puedes ver que el mierda, Smith intentara ir a una película de acción o puedes ver a uno de los maestros Charles Bronson !!!!</td>\n",
              "      <td>positivo</td>\n",
              "    </tr>\n",
              "  </tbody>\n",
              "</table>\n",
              "</div>\n",
              "      <button class=\"colab-df-convert\" onclick=\"convertToInteractive('df-bc289b14-ca40-4775-9d8e-880ed8429c36')\"\n",
              "              title=\"Convert this dataframe to an interactive table.\"\n",
              "              style=\"display:none;\">\n",
              "        \n",
              "  <svg xmlns=\"http://www.w3.org/2000/svg\" height=\"24px\"viewBox=\"0 0 24 24\"\n",
              "       width=\"24px\">\n",
              "    <path d=\"M0 0h24v24H0V0z\" fill=\"none\"/>\n",
              "    <path d=\"M18.56 5.44l.94 2.06.94-2.06 2.06-.94-2.06-.94-.94-2.06-.94 2.06-2.06.94zm-11 1L8.5 8.5l.94-2.06 2.06-.94-2.06-.94L8.5 2.5l-.94 2.06-2.06.94zm10 10l.94 2.06.94-2.06 2.06-.94-2.06-.94-.94-2.06-.94 2.06-2.06.94z\"/><path d=\"M17.41 7.96l-1.37-1.37c-.4-.4-.92-.59-1.43-.59-.52 0-1.04.2-1.43.59L10.3 9.45l-7.72 7.72c-.78.78-.78 2.05 0 2.83L4 21.41c.39.39.9.59 1.41.59.51 0 1.02-.2 1.41-.59l7.78-7.78 2.81-2.81c.8-.78.8-2.07 0-2.86zM5.41 20L4 18.59l7.72-7.72 1.47 1.35L5.41 20z\"/>\n",
              "  </svg>\n",
              "      </button>\n",
              "      \n",
              "  <style>\n",
              "    .colab-df-container {\n",
              "      display:flex;\n",
              "      flex-wrap:wrap;\n",
              "      gap: 12px;\n",
              "    }\n",
              "\n",
              "    .colab-df-convert {\n",
              "      background-color: #E8F0FE;\n",
              "      border: none;\n",
              "      border-radius: 50%;\n",
              "      cursor: pointer;\n",
              "      display: none;\n",
              "      fill: #1967D2;\n",
              "      height: 32px;\n",
              "      padding: 0 0 0 0;\n",
              "      width: 32px;\n",
              "    }\n",
              "\n",
              "    .colab-df-convert:hover {\n",
              "      background-color: #E2EBFA;\n",
              "      box-shadow: 0px 1px 2px rgba(60, 64, 67, 0.3), 0px 1px 3px 1px rgba(60, 64, 67, 0.15);\n",
              "      fill: #174EA6;\n",
              "    }\n",
              "\n",
              "    [theme=dark] .colab-df-convert {\n",
              "      background-color: #3B4455;\n",
              "      fill: #D2E3FC;\n",
              "    }\n",
              "\n",
              "    [theme=dark] .colab-df-convert:hover {\n",
              "      background-color: #434B5C;\n",
              "      box-shadow: 0px 1px 3px 1px rgba(0, 0, 0, 0.15);\n",
              "      filter: drop-shadow(0px 1px 2px rgba(0, 0, 0, 0.3));\n",
              "      fill: #FFFFFF;\n",
              "    }\n",
              "  </style>\n",
              "\n",
              "      <script>\n",
              "        const buttonEl =\n",
              "          document.querySelector('#df-bc289b14-ca40-4775-9d8e-880ed8429c36 button.colab-df-convert');\n",
              "        buttonEl.style.display =\n",
              "          google.colab.kernel.accessAllowed ? 'block' : 'none';\n",
              "\n",
              "        async function convertToInteractive(key) {\n",
              "          const element = document.querySelector('#df-bc289b14-ca40-4775-9d8e-880ed8429c36');\n",
              "          const dataTable =\n",
              "            await google.colab.kernel.invokeFunction('convertToInteractive',\n",
              "                                                     [key], {});\n",
              "          if (!dataTable) return;\n",
              "\n",
              "          const docLinkHtml = 'Like what you see? Visit the ' +\n",
              "            '<a target=\"_blank\" href=https://colab.research.google.com/notebooks/data_table.ipynb>data table notebook</a>'\n",
              "            + ' to learn more about interactive tables.';\n",
              "          element.innerHTML = '';\n",
              "          dataTable['output_type'] = 'display_data';\n",
              "          await google.colab.output.renderOutput(dataTable, element);\n",
              "          const docLink = document.createElement('div');\n",
              "          docLink.innerHTML = docLinkHtml;\n",
              "          element.appendChild(docLink);\n",
              "        }\n",
              "      </script>\n",
              "    </div>\n",
              "  </div>\n",
              "  "
            ],
            "text/plain": [
              "   Unnamed: 0  \\\n",
              "0           0   \n",
              "1           1   \n",
              "2           2   \n",
              "3           3   \n",
              "4           4   \n",
              "\n",
              "                                                                                                                                                                                                                                                                                                                                                                                                                                                                                                                                                                                                                                                                                                                                                                                                                                                                                                                                                                                                                                                                                                                                                                                                                                                                                                                                                                                                                                                                                                review_es  \\\n",
              "0                                                                                                                                                                                                                                                                                                                                                        Si está buscando una película de guerra típica, esta no es así, por lo que una nota a todos los aficionados a la guerra de ansiancia de carnajería de testosterona, no se molesten.Aunque la película se trata de personajes rusos en la Segunda Guerra Mundial, no espere ver a ningún nazis, cañones, sangre, sangre, etc. No es una película sobre las personas que causan una guerra o que luchan contra una guerra.Es una película sobre las personas ordinarias que le ocurren la guerra y las elecciones que hacen para tratar con ella. Cinematografía, escritura: todos los 10s perfectos aquí.Sin duda, lo apreciarás si eres ruso como yo, pero incluso si no, probablemente lo ames.Si no habla ruso, busque la versión DVD del DVD de Ruscico (Russian Cinema Cinema).Tiene subtítulos en unos 14 idiomas diferentes, pero el doblaje inglés en este que diría es igual de bueno.Por supuesto, no es tan bueno como la pista rusa original (algunas cosas se pierden en la traducción), sino tan buenas como los subtítulos en inglés.Así que vaya a revisarlo, especialmente si está estudiando una película en cualquier aspecto.   \n",
              "1                                                                                                                                                                        Supongo que algunos directores de películas de lujo estaban sentados buscando su abrigo, Grappa, Aramangac o jugo de selva alguna noche en los años 80 durante los cannes u otro festival de cine y uno dijo: \"Oye, chicos, hagamos una película donde cada uno de nosotros cree un segmento alrededor una clase mundial aria \". Welllll ... Tipo de tipo de trabajo. Claramente, alguien fue lo suficientemente inteligente como para seleccionar algunas de las mejores grabaciones de las Arias elegidas, por ejemplo, Nessun Dorma de Bjoreling, así que si estuvieras ciego y mintiendo en el piso, simplemente escuchando el DVD, obtuviste más que el valor de tu dinero. No todos los directores lo sucedieron, pero más lo hicieron, lo que no y la película parece mejorar con cada visión a lo largo de los años. Mi favorito es el dúo de amor inquietantemente hermoso de Die Tod Statd; Está bien, un joven desnudo, Elizabeth Hurley es ojos, pero su marido cantó a ella, el fantasma de su esposa, es increíblemente hermoso con la música del amor segundo solo para \"Gia Nella Notte Densa\" de Otello y Desdemona en todo el repertorio operístico. ¿Podría haber sido mejor el flick, seguro, lo que no podría haber sido, pero vale la pena una visión especialmente de un estado de ánimo hiper-romántico?   \n",
              "2                                                                                                                                                                                                                                                                                                                                                                                                                                                                                                                                                                                            Es difícil contarle más sobre esta película sin estropearla.Lo disfruté porque no esperaba lo que estaba viendo, sino un drama sexual ordinario, así que ... es un thriller de PSCYHO-sexual, en el que nada es lo que parece.Cuenta con Emmanuelle Seigner, sin extraño al género (y a la desnudez) en la que su esposo, Polanski, la había dirigido.Y un rendimiento espeluznante (dije espeluznante / sí espeluznante) de Toreton (el actor de Bernard Tavernier).Parece que un Pascal Bruckner se encuentra con Roman Polanski (mejor que la luna amarga), como un chabrol que se fue por extravisos o thriller de Clouzot (he visto a alguien que menciona Les diaboliques), pero más cerca de Georges Franju's Les Yeux Sans Visage (ojos sin cara, laPadrino del Dr. Phibes y más).Una gema !Solo me temo que lo hicieran en un remake de Hollywood como lo hicieron con Nighwatch y la desaparición.   \n",
              "3  La película comienza muy lentamente, con el estilo de vida de Wallace Napalm, un asistente en una estación de entrega de fotografía. Su esposa ha sido restringida a su casa con un brazalete de tobillo como resultado de una oración para el incendio. Wallace es miembro del departamento de bomberos voluntarios, y toma en serio incendio. En serio, observamos el procedimiento de vida bastante aburrida de Wallace, de repente, llega algo nuevo y jarring: un carnaval viajero llega a la ciudad. Una de sus estrellas es Wilder Napalm, el hermano de Wallace. Es un payaso, pero tiene un talento especial. Sobre Wallace. Ambos son pirocinadores ni \"pirótica\", personas capaces de iniciar incendios a través de la energía mental. Wallace mantiene su secreto de poderes; Wilder le permite conocer a sus conocidos lo que puede hacer.Spoiler: algunas de sus diferencias regresan a un incidente de la infancia, donde inadvertidamente causaron la muerte de un vagabundo. Wallace se espera de usar sus poderes; Wilder quiere ir al público en la televisión nacional. Tvelplicando el asunto, Wilder quiere la esposa de Wallace, a quienes ambos fechan los años antes. Se convierte en un hueso de contención, y se convierte en una de las razones que los hermanos finalmente tienen una pelea de incendios literales. La película es entretenida, pero no se ríe, graciosa. Pienso lo suficiente como para tener una copia en mi biblioteca. Es una buena película offbeat.   \n",
              "4                                                                                                                                                                                                                                                                                                                                                                                                                                                                                                                                                                                                                                                                                                                                      Esta película es verdadera acción en su máxima expresión, no es mejor que esto.Esta es una de esas películas que puedes simplemente comenzar y observar un buen buen disparo sin parar y matar más, hay algunas líneas excelentes para acompañar todo esto.Mi favorito es que hay un chico malo que se está divirtiendo en esta casa de parejas viejas y él está robando un televisor o algo así, y él va hasta ellos y grita \"¡Voy a venir aquí en cualquier momento que me guste!\"Y justo antes de saltar por la ventana, grita \"en cualquier momento!\"Me refiero a que esto es solo cosas clásicas, por lo que tienes una opción, puedes ver que el mierda, Smith intentara ir a una película de acción o puedes ver a uno de los maestros Charles Bronson !!!!   \n",
              "\n",
              "  sentimiento  \n",
              "0    positivo  \n",
              "1    positivo  \n",
              "2    positivo  \n",
              "3    positivo  \n",
              "4    positivo  "
            ]
          },
          "execution_count": 5,
          "metadata": {},
          "output_type": "execute_result"
        }
      ],
      "source": [
        "# Ruta en la que se encuentra la base de datos de peliculas\n",
        "path = \"MovieReviews.csv\"\n",
        "df = pd.read_csv(path, sep = \",\", encoding='utf-8')\n",
        "\n",
        "df.head()"
      ]
    },
    {
      "cell_type": "code",
      "execution_count": null,
      "metadata": {
        "colab": {
          "base_uri": "https://localhost:8080/"
        },
        "id": "J81M_rLCaexU",
        "outputId": "912560b7-cea3-4179-c020-a59e6a962510"
      },
      "outputs": [
        {
          "data": {
            "text/plain": [
              "(5000, 2)"
            ]
          },
          "execution_count": 6,
          "metadata": {},
          "output_type": "execute_result"
        }
      ],
      "source": [
        "#Eliminamos la columna Unnamed:0 que no esta en el diccionario\n",
        "df = df.drop('Unnamed: 0', axis = 1)\n",
        "df.shape"
      ]
    },
    {
      "cell_type": "code",
      "execution_count": null,
      "metadata": {
        "colab": {
          "base_uri": "https://localhost:8080/"
        },
        "id": "qLt5ADiuaRZV",
        "outputId": "d7a2a538-ad6a-4f9c-a3b8-9740fa11e436"
      },
      "outputs": [
        {
          "data": {
            "text/plain": [
              "review_es      object\n",
              "sentimiento    object\n",
              "dtype: object"
            ]
          },
          "execution_count": 7,
          "metadata": {},
          "output_type": "execute_result"
        }
      ],
      "source": [
        "df.dtypes"
      ]
    },
    {
      "cell_type": "markdown",
      "metadata": {
        "id": "WyEPVvFPcm_3"
      },
      "source": [
        "# Preparacion de los datos"
      ]
    },
    {
      "cell_type": "code",
      "execution_count": null,
      "metadata": {
        "id": "fouzVBf9IL6d"
      },
      "outputs": [],
      "source": [
        "#Eliminamos Duplicados\n",
        "df = df.drop_duplicates()\n",
        "#Eliminamos entradas en otros idiomas\n",
        "df = df.drop(df[df.review_es.map(detect)  != 'es'].index)"
      ]
    },
    {
      "cell_type": "code",
      "execution_count": null,
      "metadata": {
        "colab": {
          "base_uri": "https://localhost:8080/"
        },
        "id": "71yCcdiMQHbx",
        "outputId": "995d192b-ec7a-4e57-e1ab-fec2dd7423cc"
      },
      "outputs": [
        {
          "data": {
            "text/plain": [
              "(4801, 2)"
            ]
          },
          "execution_count": 9,
          "metadata": {},
          "output_type": "execute_result"
        }
      ],
      "source": [
        " #verificamos cuantos datos quedan\n",
        "df.shape"
      ]
    },
    {
      "cell_type": "markdown",
      "metadata": {
        "id": "V6JG9zpMyxz2"
      },
      "source": [
        "## Limpieza, tokenizacion y lemmatizacion"
      ]
    },
    {
      "cell_type": "code",
      "execution_count": null,
      "metadata": {
        "id": "ye90Lf9iuAee"
      },
      "outputs": [],
      "source": [
        "from sklearn.base import BaseEstimator, TransformerMixin\n",
        "\n",
        "class TextPreprocessor(BaseEstimator, TransformerMixin):\n",
        "  def __init__(self):\n",
        "      print('pipe')\n",
        "      \n",
        "\n",
        "  def replace_numbers(self, words):\n",
        "    \"\"\"Replace all interger occurrences in list of tokenized words with textual representation\"\"\"\n",
        "    new_words = []\n",
        "    for word in words:\n",
        "        if word.isdigit():\n",
        "            new_word = num2words(word, lang='es')\n",
        "            new_words.append(new_word)\n",
        "        else:\n",
        "            new_words.append(word)\n",
        "    return new_words\n",
        "  \n",
        "  def remove_nonlatin(self, words):\n",
        "      new_words = []\n",
        "      for word in words:\n",
        "          new_word = ''\n",
        "          for ch in word:\n",
        "              if unicodedata.name(ch).startswith(('LATIN', 'DIGIT', 'SPACE')):\n",
        "                  new_word += ch\n",
        "          new_words.append(new_word)\n",
        "      return new_words\n",
        "\n",
        "  def remove_stopwords(self, words):\n",
        "      \"\"\"Remove stop words from list of tokenized words\"\"\"\n",
        "      new_words = []\n",
        "      stop_words = set(stopwords.words('spanish'))\n",
        "      s = set(stopwords.words('spanish'))\n",
        "      for word in words:\n",
        "          if word not in s:\n",
        "              new_words.append(word)\n",
        "      return new_words\n",
        "\n",
        "  def remove_punctuation(self, words):\n",
        "    \"\"\"Remove punctuation from list of tokenized words\"\"\"\n",
        "    new_words = ''\n",
        "    for word in words:\n",
        "            new_words += re.sub(r'[^\\w\\s]', ' ', word)\n",
        "    return new_words\n",
        "\n",
        "  def tokenLemma(self, X):\n",
        "    nlp = stanza.Pipeline('es', processors='tokenize,mwt,pos,lemma', use_gpu=False)\n",
        "\n",
        "    X = X.apply(self.remove_punctuation)\n",
        "    \n",
        "    in_docs = [stanza.Document([], text=d) for d in X]\n",
        "    return nlp(in_docs)\n",
        "\n",
        "  def procesamientoPalabras(self, words):\n",
        "    words = self.remove_nonlatin(words)\n",
        "    words = self.replace_numbers(words)\n",
        "    words = self.remove_stopwords(words)\n",
        "    return words\n",
        "  \n",
        "  def transform(self, X):\n",
        "    out_docs = self.tokenLemma(X)\n",
        "    palabras = []\n",
        "\n",
        "    for doc in out_docs:\n",
        "      reviewAct = []\n",
        "      for sentence in doc.sentences:\n",
        "        for word in sentence.words:\n",
        "          if(word.pos != 'PUNCT' and word.pos != 'SYM'):\n",
        "            reviewAct.append(word.lemma.lower())\n",
        "      palabras.append(reviewAct)\n",
        "    X = pd.Series(palabras)\n",
        "    X = X.apply(self.procesamientoPalabras)\n",
        "    X = X.apply(lambda x: ' '.join(map(str, x)))\n",
        "    return X\n",
        "\n",
        "\n",
        "  def fit(self, X, y=None):\n",
        "      return self"
      ]
    },
    {
      "cell_type": "markdown",
      "metadata": {
        "id": "j2x1owLqFU-e"
      },
      "source": [
        "## Construimos entrenamiento-test y creamos representación Tfidf"
      ]
    },
    {
      "cell_type": "code",
      "execution_count": null,
      "metadata": {
        "id": "RBeZlYKy882D"
      },
      "outputs": [],
      "source": [
        "#df = df.drop('review_es', axis = 1)\n",
        "entrenamiento, test = sklearn.model_selection.train_test_split(df, test_size=0.2, random_state=0)\n",
        "\n",
        "X_train = entrenamiento['review_es'].to_frame()\n",
        "X_test = test['review_es'].to_frame()\n",
        "y_train = entrenamiento['sentimiento']\n",
        "y_test = test['sentimiento']\n"
      ]
    },
    {
      "cell_type": "markdown",
      "metadata": {
        "id": "WCuiOOAuVA2D"
      },
      "source": [
        "# Modelado y exportación"
      ]
    },
    {
      "cell_type": "markdown",
      "metadata": {
        "id": "GJ6f5AoinWog"
      },
      "source": [
        "## Logistic Regression"
      ]
    },
    {
      "cell_type": "code",
      "execution_count": null,
      "metadata": {
        "id": "2xY_ADE3_xec"
      },
      "outputs": [],
      "source": [
        "# parameter grid\n",
        "parameters = {\n",
        "    'penalty' : 'l2', \n",
        "    'C'       : 10000000000,\n",
        "    'solver'  : 'lbfgs',\n",
        "    'n_jobs'  : -1,  \n",
        "}"
      ]
    },
    {
      "cell_type": "code",
      "execution_count": null,
      "metadata": {
        "colab": {
          "base_uri": "https://localhost:8080/"
        },
        "id": "2iiqUdfiR9b1",
        "outputId": "6313cf2b-aa70-44e1-f4d4-c9ffc4e26b15"
      },
      "outputs": [
        {
          "name": "stdout",
          "output_type": "stream",
          "text": [
            "pipe\n"
          ]
        }
      ],
      "source": [
        "#npl = stanza.Pipeline('es', processors='tokenize,mwt,pos,lemma', use_gpu=False)\n",
        "from sklearn.pipeline import make_pipeline\n",
        "\n",
        "# Create a separate pipeline for transforming test data\n",
        "words_transformer = Pipeline(steps=[(\"vectorizer\", TextPreprocessor()), ('tfidf', TfidfVectorizer())])\n",
        "\n",
        "preprocessor = ColumnTransformer(transformers=[(\"num\", words_transformer, 'review_es')])\n",
        "\n",
        "# Declara el pipeline para aplicar el modelo de regresión con todas las etapas respectivas necesarias\n",
        "pipeline = make_pipeline(preprocessor, LogisticRegression(random_state=0, **parameters))\n"
      ]
    },
    {
      "cell_type": "code",
      "execution_count": null,
      "metadata": {
        "colab": {
          "base_uri": "https://localhost:8080/",
          "height": 225
        },
        "id": "doFB0ScG8Zkn",
        "outputId": "ec2e772d-fbf5-4318-b56f-70ee035107ac"
      },
      "outputs": [
        {
          "data": {
            "text/html": [
              "<style>#sk-container-id-5 {color: black;background-color: white;}#sk-container-id-5 pre{padding: 0;}#sk-container-id-5 div.sk-toggleable {background-color: white;}#sk-container-id-5 label.sk-toggleable__label {cursor: pointer;display: block;width: 100%;margin-bottom: 0;padding: 0.3em;box-sizing: border-box;text-align: center;}#sk-container-id-5 label.sk-toggleable__label-arrow:before {content: \"▸\";float: left;margin-right: 0.25em;color: #696969;}#sk-container-id-5 label.sk-toggleable__label-arrow:hover:before {color: black;}#sk-container-id-5 div.sk-estimator:hover label.sk-toggleable__label-arrow:before {color: black;}#sk-container-id-5 div.sk-toggleable__content {max-height: 0;max-width: 0;overflow: hidden;text-align: left;background-color: #f0f8ff;}#sk-container-id-5 div.sk-toggleable__content pre {margin: 0.2em;color: black;border-radius: 0.25em;background-color: #f0f8ff;}#sk-container-id-5 input.sk-toggleable__control:checked~div.sk-toggleable__content {max-height: 200px;max-width: 100%;overflow: auto;}#sk-container-id-5 input.sk-toggleable__control:checked~label.sk-toggleable__label-arrow:before {content: \"▾\";}#sk-container-id-5 div.sk-estimator input.sk-toggleable__control:checked~label.sk-toggleable__label {background-color: #d4ebff;}#sk-container-id-5 div.sk-label input.sk-toggleable__control:checked~label.sk-toggleable__label {background-color: #d4ebff;}#sk-container-id-5 input.sk-hidden--visually {border: 0;clip: rect(1px 1px 1px 1px);clip: rect(1px, 1px, 1px, 1px);height: 1px;margin: -1px;overflow: hidden;padding: 0;position: absolute;width: 1px;}#sk-container-id-5 div.sk-estimator {font-family: monospace;background-color: #f0f8ff;border: 1px dotted black;border-radius: 0.25em;box-sizing: border-box;margin-bottom: 0.5em;}#sk-container-id-5 div.sk-estimator:hover {background-color: #d4ebff;}#sk-container-id-5 div.sk-parallel-item::after {content: \"\";width: 100%;border-bottom: 1px solid gray;flex-grow: 1;}#sk-container-id-5 div.sk-label:hover label.sk-toggleable__label {background-color: #d4ebff;}#sk-container-id-5 div.sk-serial::before {content: \"\";position: absolute;border-left: 1px solid gray;box-sizing: border-box;top: 0;bottom: 0;left: 50%;z-index: 0;}#sk-container-id-5 div.sk-serial {display: flex;flex-direction: column;align-items: center;background-color: white;padding-right: 0.2em;padding-left: 0.2em;position: relative;}#sk-container-id-5 div.sk-item {position: relative;z-index: 1;}#sk-container-id-5 div.sk-parallel {display: flex;align-items: stretch;justify-content: center;background-color: white;position: relative;}#sk-container-id-5 div.sk-item::before, #sk-container-id-5 div.sk-parallel-item::before {content: \"\";position: absolute;border-left: 1px solid gray;box-sizing: border-box;top: 0;bottom: 0;left: 50%;z-index: -1;}#sk-container-id-5 div.sk-parallel-item {display: flex;flex-direction: column;z-index: 1;position: relative;background-color: white;}#sk-container-id-5 div.sk-parallel-item:first-child::after {align-self: flex-end;width: 50%;}#sk-container-id-5 div.sk-parallel-item:last-child::after {align-self: flex-start;width: 50%;}#sk-container-id-5 div.sk-parallel-item:only-child::after {width: 0;}#sk-container-id-5 div.sk-dashed-wrapped {border: 1px dashed gray;margin: 0 0.4em 0.5em 0.4em;box-sizing: border-box;padding-bottom: 0.4em;background-color: white;}#sk-container-id-5 div.sk-label label {font-family: monospace;font-weight: bold;display: inline-block;line-height: 1.2em;}#sk-container-id-5 div.sk-label-container {text-align: center;}#sk-container-id-5 div.sk-container {/* jupyter's `normalize.less` sets `[hidden] { display: none; }` but bootstrap.min.css set `[hidden] { display: none !important; }` so we also need the `!important` here to be able to override the default hidden behavior on the sphinx rendered scikit-learn.org. See: https://github.com/scikit-learn/scikit-learn/issues/21755 */display: inline-block !important;position: relative;}#sk-container-id-5 div.sk-text-repr-fallback {display: none;}</style><div id=\"sk-container-id-5\" class=\"sk-top-container\"><div class=\"sk-text-repr-fallback\"><pre>Pipeline(steps=[(&#x27;columntransformer&#x27;,\n",
              "                 ColumnTransformer(transformers=[(&#x27;num&#x27;,\n",
              "                                                  Pipeline(steps=[(&#x27;vectorizer&#x27;,\n",
              "                                                                   TextPreprocessor()),\n",
              "                                                                  (&#x27;tfidf&#x27;,\n",
              "                                                                   TfidfVectorizer())]),\n",
              "                                                  &#x27;review_es&#x27;)])),\n",
              "                (&#x27;logisticregression&#x27;,\n",
              "                 LogisticRegression(C=10000000000, random_state=0))])</pre><b>In a Jupyter environment, please rerun this cell to show the HTML representation or trust the notebook. <br />On GitHub, the HTML representation is unable to render, please try loading this page with nbviewer.org.</b></div><div class=\"sk-container\" hidden><div class=\"sk-item sk-dashed-wrapped\"><div class=\"sk-label-container\"><div class=\"sk-label sk-toggleable\"><input class=\"sk-toggleable__control sk-hidden--visually\" id=\"sk-estimator-id-23\" type=\"checkbox\" ><label for=\"sk-estimator-id-23\" class=\"sk-toggleable__label sk-toggleable__label-arrow\">Pipeline</label><div class=\"sk-toggleable__content\"><pre>Pipeline(steps=[(&#x27;columntransformer&#x27;,\n",
              "                 ColumnTransformer(transformers=[(&#x27;num&#x27;,\n",
              "                                                  Pipeline(steps=[(&#x27;vectorizer&#x27;,\n",
              "                                                                   TextPreprocessor()),\n",
              "                                                                  (&#x27;tfidf&#x27;,\n",
              "                                                                   TfidfVectorizer())]),\n",
              "                                                  &#x27;review_es&#x27;)])),\n",
              "                (&#x27;logisticregression&#x27;,\n",
              "                 LogisticRegression(C=10000000000, random_state=0))])</pre></div></div></div><div class=\"sk-serial\"><div class=\"sk-item sk-dashed-wrapped\"><div class=\"sk-label-container\"><div class=\"sk-label sk-toggleable\"><input class=\"sk-toggleable__control sk-hidden--visually\" id=\"sk-estimator-id-24\" type=\"checkbox\" ><label for=\"sk-estimator-id-24\" class=\"sk-toggleable__label sk-toggleable__label-arrow\">columntransformer: ColumnTransformer</label><div class=\"sk-toggleable__content\"><pre>ColumnTransformer(transformers=[(&#x27;num&#x27;,\n",
              "                                 Pipeline(steps=[(&#x27;vectorizer&#x27;,\n",
              "                                                  TextPreprocessor()),\n",
              "                                                 (&#x27;tfidf&#x27;, TfidfVectorizer())]),\n",
              "                                 &#x27;review_es&#x27;)])</pre></div></div></div><div class=\"sk-parallel\"><div class=\"sk-parallel-item\"><div class=\"sk-item\"><div class=\"sk-label-container\"><div class=\"sk-label sk-toggleable\"><input class=\"sk-toggleable__control sk-hidden--visually\" id=\"sk-estimator-id-25\" type=\"checkbox\" ><label for=\"sk-estimator-id-25\" class=\"sk-toggleable__label sk-toggleable__label-arrow\">num</label><div class=\"sk-toggleable__content\"><pre>review_es</pre></div></div></div><div class=\"sk-serial\"><div class=\"sk-item\"><div class=\"sk-serial\"><div class=\"sk-item\"><div class=\"sk-estimator sk-toggleable\"><input class=\"sk-toggleable__control sk-hidden--visually\" id=\"sk-estimator-id-26\" type=\"checkbox\" ><label for=\"sk-estimator-id-26\" class=\"sk-toggleable__label sk-toggleable__label-arrow\">TextPreprocessor</label><div class=\"sk-toggleable__content\"><pre>TextPreprocessor()</pre></div></div></div><div class=\"sk-item\"><div class=\"sk-estimator sk-toggleable\"><input class=\"sk-toggleable__control sk-hidden--visually\" id=\"sk-estimator-id-27\" type=\"checkbox\" ><label for=\"sk-estimator-id-27\" class=\"sk-toggleable__label sk-toggleable__label-arrow\">TfidfVectorizer</label><div class=\"sk-toggleable__content\"><pre>TfidfVectorizer()</pre></div></div></div></div></div></div></div></div></div></div><div class=\"sk-item\"><div class=\"sk-estimator sk-toggleable\"><input class=\"sk-toggleable__control sk-hidden--visually\" id=\"sk-estimator-id-28\" type=\"checkbox\" ><label for=\"sk-estimator-id-28\" class=\"sk-toggleable__label sk-toggleable__label-arrow\">LogisticRegression</label><div class=\"sk-toggleable__content\"><pre>LogisticRegression(C=10000000000, random_state=0)</pre></div></div></div></div></div></div></div>"
            ],
            "text/plain": [
              "Pipeline(steps=[('columntransformer',\n",
              "                 ColumnTransformer(transformers=[('num',\n",
              "                                                  Pipeline(steps=[('vectorizer',\n",
              "                                                                   TextPreprocessor()),\n",
              "                                                                  ('tfidf',\n",
              "                                                                   TfidfVectorizer())]),\n",
              "                                                  'review_es')])),\n",
              "                ('logisticregression',\n",
              "                 LogisticRegression(C=10000000000, random_state=0))])"
            ]
          },
          "execution_count": 30,
          "metadata": {},
          "output_type": "execute_result"
        }
      ],
      "source": [
        "pipeline"
      ]
    },
    {
      "cell_type": "code",
      "execution_count": null,
      "metadata": {
        "colab": {
          "base_uri": "https://localhost:8080/",
          "height": 589,
          "referenced_widgets": [
            "42681523e66b4fb89e8c978f9a57d334",
            "4a4c0195855741f59ab0b0924e5a4b2c",
            "6cf8cdc7fdb2405881dd38c972c7b050",
            "68a9aef2ac914bf2bd7b13f52e7e1614",
            "0ec6aeb644ca41e8afd652d1152c2b56",
            "4d3c22aac3994f419f8f790548cff0f3",
            "1b209e50071b458caad30a0982988b7d",
            "6251a3b56a6c4d07a8bd5b465b3ebe60",
            "9bd198a6e8c24118be77de1b35d5a053",
            "7877c5c61c6b49318569430ad93d1a4b",
            "f42dfb8b8908407aa84b25e62ab51ea3"
          ]
        },
        "id": "i0VXm-ZLlDuP",
        "outputId": "64d0ad09-d9e2-4399-84e9-b5982e5d0a41"
      },
      "outputs": [
        {
          "name": "stderr",
          "output_type": "stream",
          "text": [
            "INFO:stanza:Checking for updates to resources.json in case models have been updated.  Note: this behavior can be turned off with download_method=None or download_method=DownloadMethod.REUSE_RESOURCES\n"
          ]
        },
        {
          "name": "stdout",
          "output_type": "stream",
          "text": [
            "pipe\n"
          ]
        },
        {
          "data": {
            "application/vnd.jupyter.widget-view+json": {
              "model_id": "42681523e66b4fb89e8c978f9a57d334",
              "version_major": 2,
              "version_minor": 0
            },
            "text/plain": [
              "Downloading https://raw.githubusercontent.com/stanfordnlp/stanza-resources/main/resources_1.5.0.json:   0%|   …"
            ]
          },
          "metadata": {},
          "output_type": "display_data"
        },
        {
          "name": "stderr",
          "output_type": "stream",
          "text": [
            "INFO:stanza:Loading these models for language: es (Spanish):\n",
            "=======================\n",
            "| Processor | Package |\n",
            "-----------------------\n",
            "| tokenize  | ancora  |\n",
            "| mwt       | ancora  |\n",
            "| pos       | ancora  |\n",
            "| lemma     | ancora  |\n",
            "=======================\n",
            "\n",
            "INFO:stanza:Using device: cpu\n",
            "INFO:stanza:Loading: tokenize\n",
            "INFO:stanza:Loading: mwt\n",
            "INFO:stanza:Loading: pos\n",
            "INFO:stanza:Loading: lemma\n",
            "INFO:stanza:Done loading processors!\n"
          ]
        },
        {
          "data": {
            "text/html": [
              "<style>#sk-container-id-6 {color: black;background-color: white;}#sk-container-id-6 pre{padding: 0;}#sk-container-id-6 div.sk-toggleable {background-color: white;}#sk-container-id-6 label.sk-toggleable__label {cursor: pointer;display: block;width: 100%;margin-bottom: 0;padding: 0.3em;box-sizing: border-box;text-align: center;}#sk-container-id-6 label.sk-toggleable__label-arrow:before {content: \"▸\";float: left;margin-right: 0.25em;color: #696969;}#sk-container-id-6 label.sk-toggleable__label-arrow:hover:before {color: black;}#sk-container-id-6 div.sk-estimator:hover label.sk-toggleable__label-arrow:before {color: black;}#sk-container-id-6 div.sk-toggleable__content {max-height: 0;max-width: 0;overflow: hidden;text-align: left;background-color: #f0f8ff;}#sk-container-id-6 div.sk-toggleable__content pre {margin: 0.2em;color: black;border-radius: 0.25em;background-color: #f0f8ff;}#sk-container-id-6 input.sk-toggleable__control:checked~div.sk-toggleable__content {max-height: 200px;max-width: 100%;overflow: auto;}#sk-container-id-6 input.sk-toggleable__control:checked~label.sk-toggleable__label-arrow:before {content: \"▾\";}#sk-container-id-6 div.sk-estimator input.sk-toggleable__control:checked~label.sk-toggleable__label {background-color: #d4ebff;}#sk-container-id-6 div.sk-label input.sk-toggleable__control:checked~label.sk-toggleable__label {background-color: #d4ebff;}#sk-container-id-6 input.sk-hidden--visually {border: 0;clip: rect(1px 1px 1px 1px);clip: rect(1px, 1px, 1px, 1px);height: 1px;margin: -1px;overflow: hidden;padding: 0;position: absolute;width: 1px;}#sk-container-id-6 div.sk-estimator {font-family: monospace;background-color: #f0f8ff;border: 1px dotted black;border-radius: 0.25em;box-sizing: border-box;margin-bottom: 0.5em;}#sk-container-id-6 div.sk-estimator:hover {background-color: #d4ebff;}#sk-container-id-6 div.sk-parallel-item::after {content: \"\";width: 100%;border-bottom: 1px solid gray;flex-grow: 1;}#sk-container-id-6 div.sk-label:hover label.sk-toggleable__label {background-color: #d4ebff;}#sk-container-id-6 div.sk-serial::before {content: \"\";position: absolute;border-left: 1px solid gray;box-sizing: border-box;top: 0;bottom: 0;left: 50%;z-index: 0;}#sk-container-id-6 div.sk-serial {display: flex;flex-direction: column;align-items: center;background-color: white;padding-right: 0.2em;padding-left: 0.2em;position: relative;}#sk-container-id-6 div.sk-item {position: relative;z-index: 1;}#sk-container-id-6 div.sk-parallel {display: flex;align-items: stretch;justify-content: center;background-color: white;position: relative;}#sk-container-id-6 div.sk-item::before, #sk-container-id-6 div.sk-parallel-item::before {content: \"\";position: absolute;border-left: 1px solid gray;box-sizing: border-box;top: 0;bottom: 0;left: 50%;z-index: -1;}#sk-container-id-6 div.sk-parallel-item {display: flex;flex-direction: column;z-index: 1;position: relative;background-color: white;}#sk-container-id-6 div.sk-parallel-item:first-child::after {align-self: flex-end;width: 50%;}#sk-container-id-6 div.sk-parallel-item:last-child::after {align-self: flex-start;width: 50%;}#sk-container-id-6 div.sk-parallel-item:only-child::after {width: 0;}#sk-container-id-6 div.sk-dashed-wrapped {border: 1px dashed gray;margin: 0 0.4em 0.5em 0.4em;box-sizing: border-box;padding-bottom: 0.4em;background-color: white;}#sk-container-id-6 div.sk-label label {font-family: monospace;font-weight: bold;display: inline-block;line-height: 1.2em;}#sk-container-id-6 div.sk-label-container {text-align: center;}#sk-container-id-6 div.sk-container {/* jupyter's `normalize.less` sets `[hidden] { display: none; }` but bootstrap.min.css set `[hidden] { display: none !important; }` so we also need the `!important` here to be able to override the default hidden behavior on the sphinx rendered scikit-learn.org. See: https://github.com/scikit-learn/scikit-learn/issues/21755 */display: inline-block !important;position: relative;}#sk-container-id-6 div.sk-text-repr-fallback {display: none;}</style><div id=\"sk-container-id-6\" class=\"sk-top-container\"><div class=\"sk-text-repr-fallback\"><pre>Pipeline(steps=[(&#x27;columntransformer&#x27;,\n",
              "                 ColumnTransformer(transformers=[(&#x27;num&#x27;,\n",
              "                                                  Pipeline(steps=[(&#x27;vectorizer&#x27;,\n",
              "                                                                   TextPreprocessor()),\n",
              "                                                                  (&#x27;tfidf&#x27;,\n",
              "                                                                   TfidfVectorizer())]),\n",
              "                                                  &#x27;review_es&#x27;)])),\n",
              "                (&#x27;logisticregression&#x27;,\n",
              "                 LogisticRegression(C=10000000000, random_state=0))])</pre><b>In a Jupyter environment, please rerun this cell to show the HTML representation or trust the notebook. <br />On GitHub, the HTML representation is unable to render, please try loading this page with nbviewer.org.</b></div><div class=\"sk-container\" hidden><div class=\"sk-item sk-dashed-wrapped\"><div class=\"sk-label-container\"><div class=\"sk-label sk-toggleable\"><input class=\"sk-toggleable__control sk-hidden--visually\" id=\"sk-estimator-id-29\" type=\"checkbox\" ><label for=\"sk-estimator-id-29\" class=\"sk-toggleable__label sk-toggleable__label-arrow\">Pipeline</label><div class=\"sk-toggleable__content\"><pre>Pipeline(steps=[(&#x27;columntransformer&#x27;,\n",
              "                 ColumnTransformer(transformers=[(&#x27;num&#x27;,\n",
              "                                                  Pipeline(steps=[(&#x27;vectorizer&#x27;,\n",
              "                                                                   TextPreprocessor()),\n",
              "                                                                  (&#x27;tfidf&#x27;,\n",
              "                                                                   TfidfVectorizer())]),\n",
              "                                                  &#x27;review_es&#x27;)])),\n",
              "                (&#x27;logisticregression&#x27;,\n",
              "                 LogisticRegression(C=10000000000, random_state=0))])</pre></div></div></div><div class=\"sk-serial\"><div class=\"sk-item sk-dashed-wrapped\"><div class=\"sk-label-container\"><div class=\"sk-label sk-toggleable\"><input class=\"sk-toggleable__control sk-hidden--visually\" id=\"sk-estimator-id-30\" type=\"checkbox\" ><label for=\"sk-estimator-id-30\" class=\"sk-toggleable__label sk-toggleable__label-arrow\">columntransformer: ColumnTransformer</label><div class=\"sk-toggleable__content\"><pre>ColumnTransformer(transformers=[(&#x27;num&#x27;,\n",
              "                                 Pipeline(steps=[(&#x27;vectorizer&#x27;,\n",
              "                                                  TextPreprocessor()),\n",
              "                                                 (&#x27;tfidf&#x27;, TfidfVectorizer())]),\n",
              "                                 &#x27;review_es&#x27;)])</pre></div></div></div><div class=\"sk-parallel\"><div class=\"sk-parallel-item\"><div class=\"sk-item\"><div class=\"sk-label-container\"><div class=\"sk-label sk-toggleable\"><input class=\"sk-toggleable__control sk-hidden--visually\" id=\"sk-estimator-id-31\" type=\"checkbox\" ><label for=\"sk-estimator-id-31\" class=\"sk-toggleable__label sk-toggleable__label-arrow\">num</label><div class=\"sk-toggleable__content\"><pre>review_es</pre></div></div></div><div class=\"sk-serial\"><div class=\"sk-item\"><div class=\"sk-serial\"><div class=\"sk-item\"><div class=\"sk-estimator sk-toggleable\"><input class=\"sk-toggleable__control sk-hidden--visually\" id=\"sk-estimator-id-32\" type=\"checkbox\" ><label for=\"sk-estimator-id-32\" class=\"sk-toggleable__label sk-toggleable__label-arrow\">TextPreprocessor</label><div class=\"sk-toggleable__content\"><pre>TextPreprocessor()</pre></div></div></div><div class=\"sk-item\"><div class=\"sk-estimator sk-toggleable\"><input class=\"sk-toggleable__control sk-hidden--visually\" id=\"sk-estimator-id-33\" type=\"checkbox\" ><label for=\"sk-estimator-id-33\" class=\"sk-toggleable__label sk-toggleable__label-arrow\">TfidfVectorizer</label><div class=\"sk-toggleable__content\"><pre>TfidfVectorizer()</pre></div></div></div></div></div></div></div></div></div></div><div class=\"sk-item\"><div class=\"sk-estimator sk-toggleable\"><input class=\"sk-toggleable__control sk-hidden--visually\" id=\"sk-estimator-id-34\" type=\"checkbox\" ><label for=\"sk-estimator-id-34\" class=\"sk-toggleable__label sk-toggleable__label-arrow\">LogisticRegression</label><div class=\"sk-toggleable__content\"><pre>LogisticRegression(C=10000000000, random_state=0)</pre></div></div></div></div></div></div></div>"
            ],
            "text/plain": [
              "Pipeline(steps=[('columntransformer',\n",
              "                 ColumnTransformer(transformers=[('num',\n",
              "                                                  Pipeline(steps=[('vectorizer',\n",
              "                                                                   TextPreprocessor()),\n",
              "                                                                  ('tfidf',\n",
              "                                                                   TfidfVectorizer())]),\n",
              "                                                  'review_es')])),\n",
              "                ('logisticregression',\n",
              "                 LogisticRegression(C=10000000000, random_state=0))])"
            ]
          },
          "execution_count": 31,
          "metadata": {},
          "output_type": "execute_result"
        }
      ],
      "source": [
        "pipeline.fit(X_train,y_train)"
      ]
    },
    {
      "cell_type": "code",
      "execution_count": null,
      "metadata": {
        "colab": {
          "base_uri": "https://localhost:8080/",
          "height": 381,
          "referenced_widgets": [
            "b87378c96a9f47ff856a1cdff8aef737",
            "034f313f588e4d25b222109392eb4539",
            "f17acd8130104e1892fb0f422585fae1",
            "817e5b491f364a0486a1f96c2eb8d359",
            "108ebfbcde4e4d56ba960432ac71dd73",
            "3faa7f1abd054935926c50b7ad91a78c",
            "aca4d6ecf4f04f6193d72e1d0dd34064",
            "6c1a39dc7e3e4d4d8eaac5c45c2b5fcf",
            "b45db94cca9941de8dfdd9e4ae9f534f",
            "09b8f67ffa094c40b027fa92730354a8",
            "cc832a07c02445bfb010a0efa1ce0920"
          ]
        },
        "id": "KcjWANHvopUF",
        "outputId": "116048f2-c849-49f4-9c3d-06c0e4479bad"
      },
      "outputs": [
        {
          "name": "stderr",
          "output_type": "stream",
          "text": [
            "INFO:stanza:Checking for updates to resources.json in case models have been updated.  Note: this behavior can be turned off with download_method=None or download_method=DownloadMethod.REUSE_RESOURCES\n"
          ]
        },
        {
          "data": {
            "application/vnd.jupyter.widget-view+json": {
              "model_id": "b87378c96a9f47ff856a1cdff8aef737",
              "version_major": 2,
              "version_minor": 0
            },
            "text/plain": [
              "Downloading https://raw.githubusercontent.com/stanfordnlp/stanza-resources/main/resources_1.5.0.json:   0%|   …"
            ]
          },
          "metadata": {},
          "output_type": "display_data"
        },
        {
          "name": "stderr",
          "output_type": "stream",
          "text": [
            "INFO:stanza:Loading these models for language: es (Spanish):\n",
            "=======================\n",
            "| Processor | Package |\n",
            "-----------------------\n",
            "| tokenize  | ancora  |\n",
            "| mwt       | ancora  |\n",
            "| pos       | ancora  |\n",
            "| lemma     | ancora  |\n",
            "=======================\n",
            "\n",
            "INFO:stanza:Using device: cpu\n",
            "INFO:stanza:Loading: tokenize\n",
            "INFO:stanza:Loading: mwt\n",
            "INFO:stanza:Loading: pos\n",
            "INFO:stanza:Loading: lemma\n",
            "INFO:stanza:Done loading processors!\n"
          ]
        },
        {
          "name": "stdout",
          "output_type": "stream",
          "text": [
            "El desempeño del algoritmo fue: 0.8605619146722164\n"
          ]
        }
      ],
      "source": [
        "# Evalúa el modelo en X_test e y_test\n",
        "score = pipeline.score(X_test, y_test)\n",
        "\n",
        "print('El desempeño del algoritmo fue: {}'.format(score))"
      ]
    },
    {
      "cell_type": "code",
      "execution_count": null,
      "metadata": {
        "colab": {
          "base_uri": "https://localhost:8080/",
          "height": 364,
          "referenced_widgets": [
            "ea78769078344f9eb3ab47d02143e764",
            "fc9ec4bfce1b41c9ae48247168f514e3",
            "f1cd70f74a8b4fdea8bf2c5b6ebd465d",
            "84000350a10e4282a2e8259a1caca56d",
            "b8c5922c968047cbb4619595a84a0202",
            "adfbf500968048b881017760b8aad962",
            "9a0d0f311ded442983bd76f46a4a1687",
            "2e4aabdb449c4eb3b8f013a2183d7b93",
            "ac453601104a4ce6836151df129d5fb7",
            "335cca12cf8a4a7ab458fe88f1ce094e",
            "7e05a0fc619c4cc49231b07f2bad7296"
          ]
        },
        "id": "TZxLb7nRyvvA",
        "outputId": "2145da1a-31d9-4b0c-8b14-0c19fb57ac31"
      },
      "outputs": [
        {
          "name": "stderr",
          "output_type": "stream",
          "text": [
            "INFO:stanza:Checking for updates to resources.json in case models have been updated.  Note: this behavior can be turned off with download_method=None or download_method=DownloadMethod.REUSE_RESOURCES\n"
          ]
        },
        {
          "data": {
            "application/vnd.jupyter.widget-view+json": {
              "model_id": "ea78769078344f9eb3ab47d02143e764",
              "version_major": 2,
              "version_minor": 0
            },
            "text/plain": [
              "Downloading https://raw.githubusercontent.com/stanfordnlp/stanza-resources/main/resources_1.5.0.json:   0%|   …"
            ]
          },
          "metadata": {},
          "output_type": "display_data"
        },
        {
          "name": "stderr",
          "output_type": "stream",
          "text": [
            "INFO:stanza:Loading these models for language: es (Spanish):\n",
            "=======================\n",
            "| Processor | Package |\n",
            "-----------------------\n",
            "| tokenize  | ancora  |\n",
            "| mwt       | ancora  |\n",
            "| pos       | ancora  |\n",
            "| lemma     | ancora  |\n",
            "=======================\n",
            "\n",
            "INFO:stanza:Using device: cpu\n",
            "INFO:stanza:Loading: tokenize\n",
            "INFO:stanza:Loading: mwt\n",
            "INFO:stanza:Loading: pos\n",
            "INFO:stanza:Loading: lemma\n",
            "INFO:stanza:Done loading processors!\n"
          ]
        }
      ],
      "source": [
        "y_predicted = pipeline.predict(X_test)"
      ]
    },
    {
      "cell_type": "code",
      "execution_count": null,
      "metadata": {
        "colab": {
          "base_uri": "https://localhost:8080/"
        },
        "id": "E7NZdzb8y_1J",
        "outputId": "6a6a1e79-a636-42a0-f73c-0aa5ef2ec69a"
      },
      "outputs": [
        {
          "name": "stdout",
          "output_type": "stream",
          "text": [
            "[[422  69]\n",
            " [ 65 405]]\n"
          ]
        }
      ],
      "source": [
        "cm = metrics.confusion_matrix(y_test, y_predicted)\n",
        "print(cm)"
      ]
    },
    {
      "cell_type": "code",
      "execution_count": null,
      "metadata": {
        "colab": {
          "base_uri": "https://localhost:8080/"
        },
        "id": "MSyJp3vRyk7l",
        "outputId": "f7907368-40cc-4846-a9f4-2f6ad8049cff"
      },
      "outputs": [
        {
          "name": "stdout",
          "output_type": "stream",
          "text": [
            "\n",
            "Classification Report\n",
            "              precision    recall  f1-score   support\n",
            "\n",
            "    negativo       0.87      0.86      0.86       491\n",
            "    positivo       0.85      0.86      0.86       470\n",
            "\n",
            "    accuracy                           0.86       961\n",
            "   macro avg       0.86      0.86      0.86       961\n",
            "weighted avg       0.86      0.86      0.86       961\n",
            "\n"
          ]
        }
      ],
      "source": [
        "class_report = classification_report(y_test, y_predicted)\n",
        "print(\"\\nClassification Report\")\n",
        "print(class_report)"
      ]
    },
    {
      "cell_type": "code",
      "execution_count": null,
      "metadata": {
        "id": "xGyzvDoRzDND"
      },
      "outputs": [],
      "source": [
        "# Seguarda el modelo\n",
        "dill.dump(pipeline, open('pipeline.joblib', 'wb'))"
      ]
    },
    {
      "cell_type": "code",
      "execution_count": null,
      "metadata": {
        "id": "8Wup2I9Eu-C9"
      },
      "outputs": [],
      "source": [
        "# Proceso de prubea del cliente\n",
        "filename = 'pipelin.joblib' # Ubicación del archivo entregado\n",
        "# Deserializar el objeto del archivo\n",
        "with open(filename, 'rb') as f:\n",
        "    pipeline = dill.load(f)\n"
      ]
    },
    {
      "cell_type": "code",
      "execution_count": null,
      "metadata": {
        "colab": {
          "base_uri": "https://localhost:8080/",
          "height": 364,
          "referenced_widgets": [
            "4bd5000c7922423aa60a0c6e73779633",
            "4007da033f0e4ac08cea68b198b4cbd3",
            "08b6fee9ee4c4bae96b5b8452eab0526",
            "ed469d5252d54b248d3bc2c775afa573",
            "d3690c41600a4b54843b867e3cd32c55",
            "e055b38b26644bd2a1402f324cf37790",
            "6c0bd65f06914228ae4311293c9bc3b6",
            "c2ba3c0c1e37439db721b08bf57d9eef",
            "0e0ee3c11b5b42ae83ecc327f7d1e9f0",
            "0525ca05959f4cfabedfa2afe0f55072",
            "0a06778f53ab491a8d33dac5bc1a6743"
          ]
        },
        "id": "KWSVa2ptwRS-",
        "outputId": "82e46af2-853c-45a8-f65c-de5c406fe63d"
      },
      "outputs": [
        {
          "name": "stderr",
          "output_type": "stream",
          "text": [
            "INFO:stanza:Checking for updates to resources.json in case models have been updated.  Note: this behavior can be turned off with download_method=None or download_method=DownloadMethod.REUSE_RESOURCES\n"
          ]
        },
        {
          "data": {
            "application/vnd.jupyter.widget-view+json": {
              "model_id": "4bd5000c7922423aa60a0c6e73779633",
              "version_major": 2,
              "version_minor": 0
            },
            "text/plain": [
              "Downloading https://raw.githubusercontent.com/stanfordnlp/stanza-resources/main/resources_1.5.0.json:   0%|   …"
            ]
          },
          "metadata": {},
          "output_type": "display_data"
        },
        {
          "name": "stderr",
          "output_type": "stream",
          "text": [
            "INFO:stanza:Loading these models for language: es (Spanish):\n",
            "=======================\n",
            "| Processor | Package |\n",
            "-----------------------\n",
            "| tokenize  | ancora  |\n",
            "| mwt       | ancora  |\n",
            "| pos       | ancora  |\n",
            "| lemma     | ancora  |\n",
            "=======================\n",
            "\n",
            "INFO:stanza:Using device: cpu\n",
            "INFO:stanza:Loading: tokenize\n",
            "INFO:stanza:Loading: mwt\n",
            "INFO:stanza:Loading: pos\n",
            "INFO:stanza:Loading: lemma\n",
            "INFO:stanza:Done loading processors!\n"
          ]
        }
      ],
      "source": [
        "\n",
        "df2 = {'review_es': ['hola pelicula mala triste sueño']}\n",
        "df2 = pd.DataFrame(df2)\n",
        "y_predicted =  pipeline.predict(df2)"
      ]
    },
    {
      "cell_type": "code",
      "execution_count": null,
      "metadata": {
        "colab": {
          "base_uri": "https://localhost:8080/"
        },
        "id": "_e7oqceovDFO",
        "outputId": "4d072145-910e-4ed2-e418-3e301a5827bd"
      },
      "outputs": [
        {
          "data": {
            "text/plain": [
              "array(['negativo'], dtype=object)"
            ]
          },
          "execution_count": 36,
          "metadata": {},
          "output_type": "execute_result"
        }
      ],
      "source": [
        "y_predicted"
      ]
    },
    {
      "cell_type": "markdown",
      "metadata": {
        "id": "4oKl-Jaw64gz"
      },
      "source": [
        "## Prueba con el archivo de pruebas"
      ]
    },
    {
      "cell_type": "code",
      "execution_count": null,
      "metadata": {
        "colab": {
          "base_uri": "https://localhost:8080/",
          "height": 364,
          "referenced_widgets": [
            "a56b97a375d7498b8869cda54946fc82",
            "32025248f21b4b5288e5ef3cf77fb853",
            "8e5d6528bfbb44c08d24b2e00426ea98",
            "f196c6dc3fc84847af800fb655f5b534",
            "e6ade1d0108144ca951deb9812dd34f9",
            "69959f935ce54c549b3a291d1c0d6ed1",
            "72f702d347704ba58ca983f67fdd6701",
            "a1f73432e99142b0ba5f909c5006322f",
            "bc7a59904baa4b28baf6a86e806fbc07",
            "c33f6fbf6fe24527bb844dda0431118f",
            "e984e54d8ea74c3e9bbef3e778c738dd"
          ]
        },
        "id": "DGu0RJrdwXNU",
        "outputId": "0be50d1d-169d-4ecf-9ce7-9a20838596f6"
      },
      "outputs": [
        {
          "name": "stderr",
          "output_type": "stream",
          "text": [
            "INFO:stanza:Checking for updates to resources.json in case models have been updated.  Note: this behavior can be turned off with download_method=None or download_method=DownloadMethod.REUSE_RESOURCES\n"
          ]
        },
        {
          "data": {
            "application/vnd.jupyter.widget-view+json": {
              "model_id": "a56b97a375d7498b8869cda54946fc82",
              "version_major": 2,
              "version_minor": 0
            },
            "text/plain": [
              "Downloading https://raw.githubusercontent.com/stanfordnlp/stanza-resources/main/resources_1.5.0.json:   0%|   …"
            ]
          },
          "metadata": {},
          "output_type": "display_data"
        },
        {
          "name": "stderr",
          "output_type": "stream",
          "text": [
            "INFO:stanza:Loading these models for language: es (Spanish):\n",
            "=======================\n",
            "| Processor | Package |\n",
            "-----------------------\n",
            "| tokenize  | ancora  |\n",
            "| mwt       | ancora  |\n",
            "| pos       | ancora  |\n",
            "| lemma     | ancora  |\n",
            "=======================\n",
            "\n",
            "INFO:stanza:Using device: cpu\n",
            "INFO:stanza:Loading: tokenize\n",
            "INFO:stanza:Loading: mwt\n",
            "INFO:stanza:Loading: pos\n",
            "INFO:stanza:Loading: lemma\n",
            "INFO:stanza:Done loading processors!\n"
          ]
        }
      ],
      "source": [
        "df_recent = pd.read_csv('MovieReviewsPruebas.csv') # Lectura de los datos recientes\n",
        "y_predicted = pipeline.predict(df_recent)\n"
      ]
    },
    {
      "cell_type": "code",
      "execution_count": null,
      "metadata": {
        "id": "tIHBosBUwm9-"
      },
      "outputs": [],
      "source": [
        "df_recent['sentimiento'] =  y_predicted\n"
      ]
    },
    {
      "cell_type": "code",
      "execution_count": null,
      "metadata": {
        "colab": {
          "base_uri": "https://localhost:8080/",
          "height": 1000
        },
        "id": "N8SR8If-wuXV",
        "outputId": "34dcdad4-230b-4ce0-b776-5fe2c05a2602"
      },
      "outputs": [
        {
          "data": {
            "text/html": [
              "\n",
              "  <div id=\"df-1149974c-31ee-4857-a870-cb6a05b0dba2\">\n",
              "    <div class=\"colab-df-container\">\n",
              "      <div>\n",
              "<style scoped>\n",
              "    .dataframe tbody tr th:only-of-type {\n",
              "        vertical-align: middle;\n",
              "    }\n",
              "\n",
              "    .dataframe tbody tr th {\n",
              "        vertical-align: top;\n",
              "    }\n",
              "\n",
              "    .dataframe thead th {\n",
              "        text-align: right;\n",
              "    }\n",
              "</style>\n",
              "<table border=\"1\" class=\"dataframe\">\n",
              "  <thead>\n",
              "    <tr style=\"text-align: right;\">\n",
              "      <th></th>\n",
              "      <th>review_es</th>\n",
              "      <th>sentimiento</th>\n",
              "    </tr>\n",
              "  </thead>\n",
              "  <tbody>\n",
              "    <tr>\n",
              "      <th>216</th>\n",
              "      <td>Esta película, como la primera (\"El hombre del río Snowy\") tiene las mismas características buenas y malas, tal vez incluso más que el original.Desafortunadamente, el mal supera el bien.El bien - paisaje magnífico, mejor que la primera película.Me encantan esas tomas de alto país en Australia.Tom Burlinson sigue siendo un tipo simpático, como \"Jim Craig\".Bruce Rowland también hizo un buen trabajo con la música. El mal, una vez más obtenemos una heroína feminista extremadamente desagradable \"Jessica\" (Sigrid Thornton), que es un Pouter de clase mundial con una cara y manera extremadamente molesta sobre ella.En esta película, también tenemos una gran rebaja en la OMS que paga al Padre.Anteriormente, fue Kirk Douglas, ahora reemplazado por la Siempre -Profia Brian Dennehy.Hablando de eso, es una desgracia que una película de Walt Disney incluiría los usos del nombre del Señor en vano.Esa fue una de las razones casi totalmente en los tubos en la década de 1980.Esta película, como la primera.</td>\n",
              "      <td>negativo</td>\n",
              "    </tr>\n",
              "    <tr>\n",
              "      <th>267</th>\n",
              "      <td>La peor secuela que he visto. ¡Canciones realmente horribles que están molestando considerando lo fantástica que es la primera puntuación y la historia de las primeras películas! Además, que ruina la película para mí es el hecho de que no hay John Cleese, así que Jean Bob podría ni siquiera estar en ella y los nuevos villanos son terribles. Es realmente molesto cómo esa cosa de la anciana tipo no puede cadear una oración simple juntos sin repetir sus palabras una y otra vez. Pero ser justo Uberta, no cerrarse, es un poco divertido. Pero el hecho de que fuera su 50 cumpleaños: ¿Por qué los dibujan pareciendo un niño de 80 años? Iba a dar esto a 1, pero ahora creo que ... podría darle un 2. Pero aún así, la línea de la historia no es tan buena como la primera película. Es similar sin el humor de ciertos personajes. En general, no me gustó esta película por completo debido a la música decepcionante, la grave falta de talento de voz: haber cambiado la voz del príncipe Derek y Jean Bob, los nuevos villanos, la decepcionante historia de los hábitos molestos de algunos personajes y la animación muy simple.</td>\n",
              "      <td>negativo</td>\n",
              "    </tr>\n",
              "    <tr>\n",
              "      <th>173</th>\n",
              "      <td>Para todas sus muchas fallas, me inclino a ser caritativa para \"cosa\". Hay la pepita de una historia de estilo Hitchcock Claustrophobic Hitchcock, interesante, espeluznante. Ponlo en manos de un escritor como Theodore Sturgeon o (si prefiere la perspectiva británica) Robert Bloch, o el tipo que escribió \"Día de los Triffids\", y podría haber tenido una pequeña historia inquietante de Spook, que fue la mejor. Cosa en una antología de libros de historias de horror y suspenso. Sin embargo, alguien decidió contar esta historia como una película de largometraje y una segunda tasa económica en ese momento, y por lo tanto la mayor parte del potencial se desperdicia. Una historia como esta realmente necesita una voz como Sturgeon para aportar una gran cantidad de carácter de carácter en una mejor luz. Su historia clásica \"The -widget-, The -wadget, y Boff\" es un ejemplo de cómo puede reunir a un grupo aislado de personajes \"ordinarios\" y en el espacio de 40 páginas puede convertirlos en los más divertidos, simpáticos y personas fascinantes que hayas conocido. Un buen escritor puede, con algunas palabras elegidas, hacer que el lector \"vea\" algunos de los eventos más vívidos y memorables para detectar sus emociones. En encuentro, obtenemos una película donde algunos de los personajes más irritantes y poco probables jamás hicieron. juntos e hechos para interactuar en poco convincente \"¿De dónde viene eso?\" Momentos que simplemente se encuentran allí. (Es decir, la chica psíquica rubia que declaba que \"eres todo el mal y espero que seas destruido!\". Obtenemos el paso de plomo y el bloqueo de cámara lenta y conjuntos aburridos y actores rígidos. Culpo al director por la parte 'rígida y superficial'. Estos son todos los terceros actores de carácter que nunca hicieron lo mejor, pero también son actores \"reales\", y un buen director podría haber obtenido mejores actuaciones de ellos. Nos afitamos para los matices de lesbianas que hacen que el espectador se sienta incómodo y explotado sin brindar ningún tipo de pago. (Si voy a hacer que mis instintos de base se exploten y se sientan culpables al respecto, quiero hacerlo por cosas mejoradas que esto). Y tenemos más de una hora de acumulación espeluznante difundida en unos 35 segundos en uno de los peores anti-clímaxes que he visto. ¿Cosas de cosas sobre \"cosa\"? Um, bueno ... Algunas de las tomas de primer plano de la cabeza de Warlock, la boca en silencio, sus directivas fueron bastante efectivas. La viuda miserable y astuta sonó fiel a la vida (incluso si quisiera rellenar un calcetín en su boca). La primera escena donde la mano grande, \"simple\", la mano del rancho se vuelve silenciosamente en el vaquero graso y lo mata, tenía un poco de valor de choque, porque la trama se había tomado la molestia de establecer al tipo grande como un personaje bastante simpático. Y como dije anteriormente, la idea de una fuerza insidiosa del pasado convirtió a los miembros de una comunidad aislada entre sí es una buena y puede sufrir intereses muy por encima del mérito real de un mal desempeño. ¿Qué es definitivamente? Como dije, me inclino a ser caritativo, porque el director probablemente estaba trabajando bajo un presupuesto penoso, las limitaciones de tiempo de Breakneck y los mejores actores que podía encontrar por el dinero. El Cielo sabe cómo las generaciones futuras juzgarán la mierda facil como \"la cueva\", \"giro incorrecto\" o el remake de \"Casa de cera\" 40 años a partir de ahora. Espero que sean caritativos para nuestros propios gustos para apoyar a nuestras generaciones desechos de stock de cine.</td>\n",
              "      <td>negativo</td>\n",
              "    </tr>\n",
              "    <tr>\n",
              "      <th>77</th>\n",
              "      <td>Una buena película con actuaciones sólidas (especialmente las dos cables).La película es de dos chicas americanas que están atrapadas con la heroína de 6 kilos en un aeropuerto en Tailandia.Ambos son arrojados a la prisión y uno de ellos firma una confesión.Bill Pullman juega al abogado que intenta sacarlos.Todo lo que tienen que hacer es encontrar nick Parks que ponen los narcóticos en la bolsa de una de las dos chicas.Hasta ahora para la historia, que no es ese original (tiene muchas semejanzas con el mejor regreso al paraíso). La hermosa fotografía de actuación y Newton Thomas Sigel hacen que esta película valga la pena ver.Un 7 de cada 10.</td>\n",
              "      <td>positivo</td>\n",
              "    </tr>\n",
              "    <tr>\n",
              "      <th>208</th>\n",
              "      <td>Si quieres ver una película de terror que es horrible y en muy mal gusto, esta es definitivamente la película para ver.Estas películas comienzan con dos jóvenes adolescentes para obtener ideas silvestres sobre cómo entrar en una sala de chat y salir en las fechas ciegas, y posiblemente, se terminarán como un pequeño cordero a la casa de matadero.Un montón de sangre, sangre, desnudez, esposas y todo tipo de ganchos de drenaje de sangre y cosas que nunca soñará, una persona es capaz de realizar hombres y mujeres.Si te gusta Piercing, este tipo de piercing trata con grandes ganchos pesados y un montón de tatuajes;Además, muchas agujas y hilo para sellar las cosas en el cuerpo humano.Realmente espero que esta película no dé a alguna persona enferma en este mundo, la idea de desempeñar estos horrores en la vida real.</td>\n",
              "      <td>negativo</td>\n",
              "    </tr>\n",
              "    <tr>\n",
              "      <th>245</th>\n",
              "      <td>¿Por qué las personas que no saben qué momento en el pasado era sentir la necesidad de tratar de definir ese tiempo para otros?Reemplace Woodstock con la Guerra Civil y el Aterrizaje de la Luna Apollo con el hundimiento titánico y tiene una película tan realista, ya que esta ópera de jabón fórmula poblada enteramente por la basura de la vida baja.¿Es esto lo que los niños que eran demasiado jóvenes podrían ser obligados a ir a Woodstock y quién fue la composición escolar de grado fallida?\"Mostraré esos viejos medios, ¡pondré a mi propia película y demostraré que no tienes que conocer a Nutttin sobre tu tema para ganar dinero!\"Sí, ya lo sabemos.Lo único que viendo a esta película hizo por mí era darme un poco de información sobre el pensamiento de la clasa.La próxima vez que vea una puta en un bar que se ve como Diane Lane, estoy corriendo por el otro lado.El abuso infantil le permite a los padres que lleven a los niños.El abuso de la audiencia simplemente adhiere a Woodstock y la luna en una película, como si ese IPSO facto significa que la película retrata a 1969.</td>\n",
              "      <td>negativo</td>\n",
              "    </tr>\n",
              "    <tr>\n",
              "      <th>237</th>\n",
              "      <td>Doble proyecto de ley perfecto para los horriblemente Corny \"Beverly Hillbillies\" es esta \"comedia\" igualmente atroz, cojo \",\" hijo en la ley \". La chica de campo Rebecca va a Wild California para asistir a la universidad, solo para ser asaltado por el estilo de vida. 'Asesor residente' \"El rastreo\" le ayuda a instalarse, y pronto los dos son buenos amigos. BEC decide traer el Wacky \"Grawl\" a casa para el Día de Acción de Gracias, con resultados obvios \"Pescado de agua\". El único ángulo cómico Steve Rash (nombrado acertadamente) logra aquí una sexual. Esto nos da la bruma, pero en vano. Tanto los aspectos cómicos fallan, y sabes que la película está a tientas cuando el \"rastreo\" secuestra a la cosechadora combinada y escribe su nombre en el campo de maíz. También se cuesta la película, con varios intentos de asesoramiento familiar y personal de \"Crawl\" incorrectivamente . Entre ellos, Pauly Shore y Carla Gugino logran levantar un par de sonrisas, pero poco más, mientras que el resto del elenco es mero forraje. El problema es que es casi imposible realmente gustarle \"rastrear\", y te encontrarás gastando todo el movimiento preguntándose por qué Rebecca querría pasar un momento con él. Sin embargo, si eres un fanático de la comedia uninteligente, \"hijo en la ley\" está justo en la marca. Sun día, 10 de noviembre de 1996 - T.v.</td>\n",
              "      <td>negativo</td>\n",
              "    </tr>\n",
              "    <tr>\n",
              "      <th>227</th>\n",
              "      <td>Tal vez me perdí la reunión cuando se explicó el significado de \"B-Movie\", pero lo que acabo de ver fue ridículo. ¿Quieres una buena sinopsis de esta película? Tome los alienígenas, reemplace los xenomorfos con vampiros, luego retire todo lo que fue bueno al respecto, y eso es prácticamente. 5 minutos en la película, el \"escuadrón V-SAN\" (ese es el acrónimo más tonto que he escuchado) se comprueba Una \"base\" que ha sido masacrada por vampiros y luego suben (abajo? ¿Qué?) Una escalera obviamente unida a una cartelera con un tren actual obvio en el fondo. ¿Cuándo se supone que esto tiene lugar? 2210. Está bien ... (espera, volveré a eso) Sí. los caracteres. Wow, bueno, hay la token pollita asiática de lesbianas, el Redneck Cowboy Wannabe, el capitán degradado, el goteo de vampiros / Tema Hot-Time Cajero a tiempo parcial, y el Wish Noob Second In. Todos ellos son jugados por sus respectivos actores con la misma falta de ambición. Casi me doleron que vea el Ironside Micheal en esta película. ¿No está recibiendo suficiente dinero la voz de Sam Fisher en Splinter Cell? PERSONA MUCHO Lo único Original sobre las guerras de Vampire es acerca de lo malo que es. Observando este parto posterior de una película, la única diversión que obtuve fue de los débiles intentos de creación. ¿Desde cuándo la grabación de las tarjetas informáticas PCI en un recuento de pared como una habitación lista en una nave estelar? El dinero requerido para hacer esta película podría haberse puesto a un uso mucho más mejor.</td>\n",
              "      <td>negativo</td>\n",
              "    </tr>\n",
              "    <tr>\n",
              "      <th>233</th>\n",
              "      <td>En realidad vi esta película en un cine. En ese momento, estaba trabajando turnos y fui allí durante un Matinée en un caluroso día de verano cuando no podía dormir. El cine fue aéreo. Fue un complejo de pantalla múltiple temprano y de alguna manera me metí en el lugar equivocado. Tenía la intención de dormitar algo más. Pero como las cosas se transpiraron, no habría dormir. Poco después de que comenzó la película incorrecta, también fui desconcertado por un grupo de limpiadores femeninos que entraban y lo usaban como su club social. Yo era la única otra persona allí, y es una medida del atractivo de la película que habitualmente esperaban que el lugar estaba vacío y me preguntaba si me importaba su presencia. Yo no lo hice aproximadamente media hora, la conversación de los limpiadores demostró ser más interesante que el entretenimiento que había pagado. Esta película se eliminó de la pantalla con la posibilidad de que la mayonesa muy estatal. El tipo que tiene pequeños mechones oscuros, peludos, creciendo en la superficie. También recuerdo que mis sentidos son asaltados por cordones de música estridente que se amarrarían con muy poca advertencia, e incluso menos significado. Los limpiadores proporcionaron una cue anticipación al poner sus dedos en sus oídos. Se trataba de que un pájaro de la ciudad va a vivir en los palos entre una carga de una carga de madera, poniéndolos rectos, pero al mismo tiempo que se les enseñaba una lección moral o dos. Como tu lo haces. Una especie de 'viaje de descubrimiento'. Había una sentencia sentenciosa sobre toda la producción. En particular, la actriz líder tenía un hábito irritante de mirar a cada Hick con una especie de intensa compasión beatífica, como si ella misma fuera el santo patrón de los espesores. Y creo en alguna etapa, escribió un libro. , Me sentí fascinado por una de las colas silenciosas y respiradas de la impropiedad sexual. Uno sospecha que hay algunos a quienes se sientan tranquilamente durante un par de horas y no tienen que pensar, constituyen una meditación. Lo mejor que puedo decir es que no quisiera compartir su ensalada. Nunca he visto a esta película anunciada como mostrada en la televisión, lo que me sorprende. Es solo el tipo de PAP que se proyecta en la tarde para castigar a los desempleados por no tener empleos. Si alguna vez trabajas turnos, asegúrese de ingresar al teatro correcto. O esperanza para algunas damas de limpieza.</td>\n",
              "      <td>negativo</td>\n",
              "    </tr>\n",
              "    <tr>\n",
              "      <th>58</th>\n",
              "      <td>La imagen de la novia pinta un retrato realista y en movimiento de lo que debe haber sido como para hombres japoneses llevados a Hawai a la vuelta del siglo XIX para trabajar en los campos de caña de azúcar. La mayoría vino planeando regresar a su tierra natal, pero pocos fueron capaces de hacerlo. Igualmente retratado es el destino de las mujeres japonesas, algunas tan jóvenes como quince o dieciséis, que fueron enviadas como prometidas novias a los hombres que solo sabían a través de fotografías que a menudo eran de 10 o 15 años sin fecha, o eran de algún otro hombre más joven. . Ellos también trabajaban largas horas difíciles en los campos, mientras luchaban contra la nostalgia y para preservar su dignidad. La representación de la fotografía de Hatta de una foto, el coraje de la novia y la perseverancia que luchan por sobrevivir en una tierra extraña y la sociedad alienígena bajo una gran coacción física, es, en última instancia, inspirador y Uplificador: una historia de supervivencia moral y cultural. Hay una gran cantidad y magnificencia de barrido de carácter y paisaje en la novia de la imagen que captura la belleza seductora, así como la dureza violenta de la hawai colonial. Esta es una película que es emocional, intelectual y artística gratificante.</td>\n",
              "      <td>positivo</td>\n",
              "    </tr>\n",
              "    <tr>\n",
              "      <th>9</th>\n",
              "      <td>Este es un Docu-Drama TEPID que no cubre un nuevo terreno, reworks todos los clichés y es descuidado con los hechos. Por ejemplo, Munich es una ciudad muy plana. Entonces, ¿por qué es montando en la película? Por ejemplo, el final de la Gran Guerra en 1918 no fue una rendición, sino un armisticio. Sin embargo, se anuncia como una rendición. Por ejemplo, los vendedores de noticias europeos no hicieron (y no lo hicieron) gritar titulares, ya que halvan sus papeles. Sin embargo, esta costumbre estrictamente estadounidense se emplea en la película. Por ejemplo, los nazis no adoptaron el águila alemana hasta después de que se habían tomado el poder, pero allí se encuentra en el atril, ya que Hitler ofrece uno de sus stem soteners. De hecho, la mayor parte de esta producción decepcionante consiste en poco más que la oratoria hitleriana. La película también perpetúa el mito de que el Ayuntamiento de la cerveza PUTSCH fue incubado en el Múnich Hoffbrauhaus. No era. Robert Carlyle hace un fino representación de su tema. Pero su elenco de apoyo es adecuado en el mejor de los casos, y muy a menudo ni siquiera eso. Estos comentarios se basan únicamente en el primer episodio. Solo puede esperar que el segundo sea mejor, pero no apueste en ello.</td>\n",
              "      <td>negativo</td>\n",
              "    </tr>\n",
              "    <tr>\n",
              "      <th>197</th>\n",
              "      <td>Filatografía: excelentes y agradables ángulos de cámara (no recuerdo haber visto una película de los últimos tiempos, con buenos primeros planos, hasta este. Podría haber evitado escenas espantosas con una cámara suave. NY se ilustra bien. Me gustó los ángulos al revés, en particular (un toque diferente) .Music: No impresionante. Las canciones no se quedan en tu mente incluso después de ver la película. Puede ser, esperaba la misma calidad como \"Anniyan\". Una decepción. Actores: Kamal necesita alejarse lentamente de las secuencias de acción del núcleo duro. Su edad y vientre realmente aparecen. Además, debe evitar las secuencias románticas cercanas al avanzar. Fue muy incómodo ver a una estrella madurosa / envejecida que sigue tratando de jugar como una escena de más de 20 héroes. El amor se puede expresar a cualquier edad; A medida que envejecemos, todavía puede expresar amor muy bien desde la distancia (sin tocar demasiado a una mujer. Por ejemplo, el amor expresado por Rajinikanth en \"Chandrmukhi\"). Jyotika aparece solo para el homónimo en la película. No estoy seguro de por qué ella aceptó esto. Bueno, ese no es mi problema, supongo. Los demás solo tienen una pequeña presencia. Dirección: esperaba que Gautham sobresaliera (o medir-up) a su otra película \"Kakka Kakka\". Él me decepcionó. Tomó mucho tiempo liberar la película debido a varios temas. Se desliza en pocas escenas. Incluso las cosas abvesas se deslizaron de un director famoso. Todas las siguientes: solo una película bien. Demasiados gráficos. Definitivamente no para niños (y adultos que esperan algún tipo de \"entretenimiento\"). Thx</td>\n",
              "      <td>positivo</td>\n",
              "    </tr>\n",
              "    <tr>\n",
              "      <th>225</th>\n",
              "      <td>Beverly Garland nació en el momento equivocado. Era una actriz por delante de su tiempo, trayendo poder y gracia a incluso tales películas cojo como las películas de Corman protagonizó. En Gunslinger, ella es la esposa de la ciudad de Sheriff. Se sale, así que ella asume su trabajo para perseguir a sus asesinos. Ella es mejor que el material con la que está trabajando, de lejos. La película es gris, zancada y en su mayoría aburrida. Hay un humor (involuntario) con las pistas de los neumáticos en todas partes, las personas que corren detrás de un edificio para emerger de repente frente a otro (he oído hablar de Fals Frentes, ¡pero esto es ridículo!), Y la línea verdaderamente estúpida de la trama del recién viudo. Sheriff se enamore del tipo contratado para matarla. ¡Incluso si ella no hubiera amado a su esposo, solo había sido algo así como una semana o dos desde que había muerto! Y ella termina disparando al chico hasta la muerte al final, de todos modos. No hay suerte con los hombres, este. El villano de la pieza es otra mujer, el propietario del salón. Ella está planeando comprar un montón de tierra en caso de que el ferrocarril pase y la haga rica. Su plan de acción, si no es bastante cojo, ella simplemente robará tanto de la ciudad como ella puede y skedaddle. Demonios, es solo ella y su arma contratada al final contra una ciudad entera. ¿Me estás diciendo que estas personas no están armadas? Mira lo que sucedió en las verdaderas ciudades del viejo oeste cuando los ladrones de bancos llegaron a robar el banco, luego fueron cortados en un granizo de balas por la gente armada y peligrosa. Aquí hay un montón de una gran cantidad de pieles que hablan e intercalaron. Con unos cuantos tiros cojos. El final es tan sombrío como de costumbre en un cambio de corma, aunque gracias a Dios que carece de la moral de proselitización al final que estaba conquistada en el mundo. El sheriff se vuelve sobre su placa para Sam Bass y se alza en la puesta del sol, aunque la película era tan gris que nunca viste el sol.</td>\n",
              "      <td>negativo</td>\n",
              "    </tr>\n",
              "    <tr>\n",
              "      <th>250</th>\n",
              "      <td>Pensarías que con Ingrid Bergman y Warner Baxter que esta película hubiera sido mucho mejor. Lamentablemente, la película sufre de caracteres difíciles de creer, así como un problema importante de la parcela que hace que algunos de los personajes parezcan adultos de cerebro. La película comienza con Ingrid Bergman que viene a trabajar para la familia Stoddard. Todo es muy melocotón y hinchado: la familia Adoraciones Bergman y las cosas no podrían ser más perfectas. Bueno, eso es hasta que la madre (WRAY FAY) muera, el mercado de valores se estrella en 1907 (eliminando la fortuna de la familia) y Bergman se ve obligada a volver a casa a Francia. Esta parte de la película es un poco pegajosa, pero no está mal. Later, después de que las fortunas de la familia han mejorado, Bergman regresa. Los cuatro niños ahora están todos crecidos y realmente no hay una razón concebible por la que la contratarían una vez más como institutriz. Pero, brevemente, todo está hinchado una vez más. Pero, cuando ocurre WWI, los cuatro van a la guerra, ¡Dios mío! En medio de esto, uno de los hijos (David) trae a casa su nueva esposa (Susan Hayward). El personaje de la señorita Hayward es tan blanco y negro como los demás, aunque mientras que todos son buenos y se hinchan, obviamente es un diablo caliente. Para empeorar las cosas, viene a vivir en la casa de la familia, mientras que David está en la guerra. Ahora, aquí es donde la película se pone realmente, muy tonta, con punta del cerebro. Hayward comienza un asunto con uno de los hermanos de David, pero cuando el Padre ve una silueta de los amantes, Bergman entra en la habitación desde otra entrada y finge que era ella, ¡no hayanward con Jack! ¡¿POR QUÉ?! ¿Por qué cualquier persona sana hará esto para salvar el trasero de una mujer obviamente mala y conniviente? ¡Esto fue exactamente el tipo de excusa de Bergman necesitaba deshacerse de la gutter-snipe de una vez por todas! Esto es solo un caso de escritura pésimo y me hizo enojado ... y lo más probable es lo mismo que regresó a los audiencias en 1941. El resto de la película consiste en la oportunidad fallida después de que la oportunidad fallida de que la maldad de Hayward esté expuesta. Esto solo vuela contra el sentido común e hizo la película un desastre tonto melodramático. Sin embargo, como se esperaba, la verdad finalmente sale y todos se hinchan una vez más, y felices de ser una gran familia maravillosa amante menos la puta, Hayward. La película sufre debido a la mala escritura. El asunto de Hayward no tenía sentido, al menos en cómo se manejaba. Y, tener personajes que son tan buenos o malos o malos (con nada en medio), se hunden esta película al nivel de un jabón de segunda velocidad. Lo único que lo ahorra en absoluto es la actuación, lo intentaron lo mejor que podrían con un guión turgente. ¡Basta con decir que los escritores de Columbia Pictures que hicieron esta película deberían haber sido abofeteados con un pollo muerto!</td>\n",
              "      <td>negativo</td>\n",
              "    </tr>\n",
              "    <tr>\n",
              "      <th>137</th>\n",
              "      <td>Este es el episodio que probablemente se relaciona más estrechamente con su legislación asociada, \"no matarás\", en el sentido de que él eleva directamente el tema controvertido, \"¿por qué matamos a las personas que matan a las personas a mostrar que el asesinato está mal?\" Este problema se presenta en dos partes dentro del episodio: antes del asesinato, cuando la película muestra la dicotomía entre el abogado idealista y el abogado y el matón de la calle tan atrapado en sus caminos que su vida es simplemente una representación de lo que es Se supone que debe hacer, seguido del período después del juicio y antes de la ejecución, cuando ambos están hechos para sufrir las muertes, se sienten responsables y, por lo tanto, comparten. Una de las grandes cosas sobre la forma en que funcionan estos episodios en los dos pequeños y Grandes formas en que la historia está completamente desarrollada, de modo que entendemos tanto las motivaciones como las historias de los personajes, solo podemos gastar un poco menos de una hora. Para todas sus intenciones criminales y burlas, el asesino sigue siendo muy comprensivo, girando la parte más importante de sus acciones en torno a una historia de muerte accidental. Su forma de matar es más un deseo de controlar la muerte de lo que es un deseo de destruir realmente. Del mismo modo, la ingenuidad idealista del abogado muestra que no está dispuesto a permitir que la muerte suceda en un mundo donde no pueda controlarlo. Su reunión es, de hecho, importante; Ambos tienen que ceder a ella mientras no lo propagan. Como aparte, es interesante cuánto afecta este episodio que afecta a la visualización de Rouge, la finalización posterior de Kieslowski de la trilogía de los colores Trois. Una de las mayores influencias de Kieslowski parece ser la idea de la justicia, y considerando que el decálogo es una meditación en algo que representa la justicia divina, este parece casi el más autoconsciente. Polarisdib</td>\n",
              "      <td>positivo</td>\n",
              "    </tr>\n",
              "    <tr>\n",
              "      <th>95</th>\n",
              "      <td>Este es un clásico comediante británico-thriller que siempre había querido salir, pero no había hecho que la oportunidad había surgido para eso hasta ahora. Se basa en una obra de escenario popular que ya había filmado varias veces (más en 1931 por el mismo director, pero, desafortunadamente, esta versión no parece haber sobrevivido en su totalidad!); Para el remake bajo revisión, la trama se ha actualizado a la entonces situación de tiempo de guerra actual.Andancia, estaba familiarizada principalmente con los comediantes británicos tempranos a través de las películas de Will HAY: Dado que este presenta una parcela similar de hauntings, contrabando y Agentes enemigos, es mucho en ese sentido (en realidad fue escrito por el equipo de escritura regular de Heno de Marriott Edgar, Val Guest y Joc Orton); El elemento de los viajeros varados, entonces, fue una fórmula igualmente probada y verdadera. La estrella esta vez está a su alrededor, Arthur Asky (Abreted por Richard Murdoch), nada de cuyas películas que había visto antes, que es tan poco probable que un héroe como el heno mismo y cuya personalidad demuestra ser igualmente irritante ... pero uno pronto se calienta hasta él, y la aseye se encuentra sin duda una serie de líneas ingeniosas y diversos bits de negocios a lo largo de justificar el hecho de que el carácter principal de la obra (y la versión de la película de 1931) se dividió en dos aquí, con Murdoch actuando como el SPER SOCIED DE STAR STRIPT. La configuración remota (los eventos de la película se realizan en gran medida durante una noche tormentosa) proporciona un ambiente maravilloso; La última media hora, con la repentina aparición de una pareja misteriosa (Raymond Huntley y Linden Travers) y, finalmente, la llegada del propio vehículo titular, es especialmente agarrado y bien manejado. También vale la pena mencionar desde la lista de proyectos restantes, Kathleen Harrison, como la spinter asustada estereotipada, con un loro como su compañero constante y que es impulsado por toda la emoción para tomar su primera bebida.</td>\n",
              "      <td>positivo</td>\n",
              "    </tr>\n",
              "    <tr>\n",
              "      <th>158</th>\n",
              "      <td>Esta película cobarde y ofensiva me había intrigado para empezar. Los personajes son los conocidos hombres jóvenes desposeídos con frecuencia para ser vistos a perder aburridos en una ciudad del lado marino. Robert es un forastero, pero él tiene su música que podría haber sido su alma. En su lugar, la arcilla hace que Robert se convierta en un monstruo que se embarca en un viaje a cannabis y éxtasis y entra con la multitud equivocada. La arcilla parece creer en \"Reefer Madness\" y Robert termina la película como un violador homicida. Uno se pregunta cuánta experiencia tiene la vida real que tiene este joven director. Nadie puede salvar a Pobre Robert. Clay nos deja con el mensaje que los jóvenes británicos están fuera de control. Se hace un enlace muy insuficiente a los insurgentes iraquíes; Durante la violación innecesariamente gráfica, estamos sometidos a explosiones e imágenes de guerra. La película muestra el extremismo de grupo de pares masculino empujado a sus límites. Los jóvenes bombarderos en Londres dibujan un paralelo con la odiosa descripción de la arcilla de los hombres modernos. La arcilla implica que los hombres simplemente no pueden evitar infligir terribles actos de violencia. Es una maravilla que la industria cinematográfica británica permita que el dinero se invierta en películas que abogan a dicha propaganda divisiva, cuando en Londres todavía estamos volviendo a reelirnos de los recientes ataques. Esta es la primera película de Clay, me encantaría que sea su último.</td>\n",
              "      <td>negativo</td>\n",
              "    </tr>\n",
              "    <tr>\n",
              "      <th>243</th>\n",
              "      <td>Una historia terrible (Amis a su peor), \"decadencia\" sin sentido y autoconsciente, las tácticas de golpes obvias y la actuación irregular hacen que esta película (más bien como \"aluminio rancio\") incorpore todo lo que salió mal con el evival británico de cine británico.El humor es, en el mejor de los casos, cojera, y la pretensión de toda la configuración (incluida algún tipo de \"grupo terrorista de Internet\", OOH, cómo contemporáneo) realmente comienza a rejarse. Resumen infantil: un intento medio cocido de ser 'Edgy 'que no tiene ningún favor.Aún así, siempre es un placer ver a Katy Carmichael en la pantalla ...</td>\n",
              "      <td>negativo</td>\n",
              "    </tr>\n",
              "    <tr>\n",
              "      <th>144</th>\n",
              "      <td>Esta fue la película más costosa, cuando se produce. Sir Alexander Korda y H.G. Wells estaban amenazados por sus malas calificaciones, por una buena razón. Fue y permanece muy por delante de su tiempo. Aparte de la dirección aparentemente pobre, probablemente editando, al principio, el trabajo se mueve a una conclusión impresionante. Si su rol \"jefe\" de Sir Ralph Richardson, o incluso mejor, de su esposa, Sir Cedric, como adversario al espacio de espacio. , El rol del centro de \"John Cabal 'de Raymond Massey, todos ofrecen actuaciones de alma mental. La escena con el Sr. El conjunto incomparable de Korda, de la niña pequeña, que se acaba a una escena absolutamente \"sin ser igualada\", comentando \"la vida sigue siendo más hermosa y más hermosa\". que rápidamente trae lágrimas a cualquier padre / abuelo. Esto no es una película para los jóvenes, a menos que \"experimentados\" y más bien, aquellos que han visto \"el horror\" se opone a, el 'Phony-Parachuting', se ve Hokey --- Mientras usa un 'cañón magnético', Ahora se denomina \"piloto masivo\" puede ser visto como ridículo, vs. cohetes --- Dale a Sir Korda un descanso: Sr. Wells hizo esa elección. y en +/- $ 8 millones, esta película fue más allá de \"sobre presupuesto\", por lo que se concentró en lo que podía manejar. El verdadero poder de este mejor del cine descansa en la declaración final del destino humano 'John Cabal' - His amigo 'Passworthy' duda la sabiduría del espacio de espacio, diciendo: 'Somos tan pequeños animales'. La respuesta adecuada de John Cabal es, (parafraseada) \"Sí, pequeños animales, y si eso es todo lo que somos, debemos vivir y morir como tales\". Están parados bajo un gran telescopio astronómico. Barrió su mano por el cielo nocturno. \"Sin embargo, podemos tener todo el universo, o nada.'-- Entonces, el coro final se rompe -\" ¿Cuál será? \"--- Esto no es 'Star Wars', 'Blade Runner' --- Cualquier cosa que pueda considerar 'grande' --- Esto es lo real. Recuerdo a toda la dirección más reciente de Steven Hawking, en su última \"Medalla de Honor\", \"la humanidad debe abandonar la tierra, o morir.\" El mismo núcleo de este trabajo --- Amo 'Entretenimiento estándar', pero esta \"reliquia\", para el espectador sabio, ofrece mucho más. '¿Cuál será?' Estar en el \"estado de ánimo\" apropiado, lo que sea necesario, esto le quitará el aliento, \"Guaronte\", en general, para la humanidad? El más importante del cine. Desde la publicación, observo que muchos han comentado sobre los pobres \"calidad de los medios\" de ejemplos \"sobrevivientes\". En los años 80, desarrollé un proceso de coloración \"propietario\" que requirió un original \"limpio\". Esto me llevó a Michael Korda, quien señaló tristemente a todos, se habían ido, así que debemos disfrutar de lo que queda, \"¡triste pero cierto?\"</td>\n",
              "      <td>positivo</td>\n",
              "    </tr>\n",
              "    <tr>\n",
              "      <th>78</th>\n",
              "      <td>Estaba dispuesto a sartén este episodio, viendo que este 'maestro' realmente no tiene películas de terror debajo de su cinturón. Pero esto es fácilmente el mejor episodio de la temporada. ¡La actuación fue buena !!¡No sé cómo lo arregló, pero tenemos un verdadero talento en este episodio!Y mientras podías ver las cosas que vienen de una milla de distancia, al menos, al menos estaba entretenido y logró mantenerme comprometido a los 56 minutos completos, algo que le ha seguido este punto en la serie. Especialmente me gustó el bit aEl final, no un giro por decir, sino solo un poco divertido donde se convierte, como siempre, el esposo hubby de gallina. Realmente un buen esfuerzo.Como he dicho en otras reseñas, estos no son verdaderos maestros haciendo muchos de estos episodios ... pero pueden algún día terminar siendo maestros en el futuro.</td>\n",
              "      <td>positivo</td>\n",
              "    </tr>\n",
              "  </tbody>\n",
              "</table>\n",
              "</div>\n",
              "      <button class=\"colab-df-convert\" onclick=\"convertToInteractive('df-1149974c-31ee-4857-a870-cb6a05b0dba2')\"\n",
              "              title=\"Convert this dataframe to an interactive table.\"\n",
              "              style=\"display:none;\">\n",
              "        \n",
              "  <svg xmlns=\"http://www.w3.org/2000/svg\" height=\"24px\"viewBox=\"0 0 24 24\"\n",
              "       width=\"24px\">\n",
              "    <path d=\"M0 0h24v24H0V0z\" fill=\"none\"/>\n",
              "    <path d=\"M18.56 5.44l.94 2.06.94-2.06 2.06-.94-2.06-.94-.94-2.06-.94 2.06-2.06.94zm-11 1L8.5 8.5l.94-2.06 2.06-.94-2.06-.94L8.5 2.5l-.94 2.06-2.06.94zm10 10l.94 2.06.94-2.06 2.06-.94-2.06-.94-.94-2.06-.94 2.06-2.06.94z\"/><path d=\"M17.41 7.96l-1.37-1.37c-.4-.4-.92-.59-1.43-.59-.52 0-1.04.2-1.43.59L10.3 9.45l-7.72 7.72c-.78.78-.78 2.05 0 2.83L4 21.41c.39.39.9.59 1.41.59.51 0 1.02-.2 1.41-.59l7.78-7.78 2.81-2.81c.8-.78.8-2.07 0-2.86zM5.41 20L4 18.59l7.72-7.72 1.47 1.35L5.41 20z\"/>\n",
              "  </svg>\n",
              "      </button>\n",
              "      \n",
              "  <style>\n",
              "    .colab-df-container {\n",
              "      display:flex;\n",
              "      flex-wrap:wrap;\n",
              "      gap: 12px;\n",
              "    }\n",
              "\n",
              "    .colab-df-convert {\n",
              "      background-color: #E8F0FE;\n",
              "      border: none;\n",
              "      border-radius: 50%;\n",
              "      cursor: pointer;\n",
              "      display: none;\n",
              "      fill: #1967D2;\n",
              "      height: 32px;\n",
              "      padding: 0 0 0 0;\n",
              "      width: 32px;\n",
              "    }\n",
              "\n",
              "    .colab-df-convert:hover {\n",
              "      background-color: #E2EBFA;\n",
              "      box-shadow: 0px 1px 2px rgba(60, 64, 67, 0.3), 0px 1px 3px 1px rgba(60, 64, 67, 0.15);\n",
              "      fill: #174EA6;\n",
              "    }\n",
              "\n",
              "    [theme=dark] .colab-df-convert {\n",
              "      background-color: #3B4455;\n",
              "      fill: #D2E3FC;\n",
              "    }\n",
              "\n",
              "    [theme=dark] .colab-df-convert:hover {\n",
              "      background-color: #434B5C;\n",
              "      box-shadow: 0px 1px 3px 1px rgba(0, 0, 0, 0.15);\n",
              "      filter: drop-shadow(0px 1px 2px rgba(0, 0, 0, 0.3));\n",
              "      fill: #FFFFFF;\n",
              "    }\n",
              "  </style>\n",
              "\n",
              "      <script>\n",
              "        const buttonEl =\n",
              "          document.querySelector('#df-1149974c-31ee-4857-a870-cb6a05b0dba2 button.colab-df-convert');\n",
              "        buttonEl.style.display =\n",
              "          google.colab.kernel.accessAllowed ? 'block' : 'none';\n",
              "\n",
              "        async function convertToInteractive(key) {\n",
              "          const element = document.querySelector('#df-1149974c-31ee-4857-a870-cb6a05b0dba2');\n",
              "          const dataTable =\n",
              "            await google.colab.kernel.invokeFunction('convertToInteractive',\n",
              "                                                     [key], {});\n",
              "          if (!dataTable) return;\n",
              "\n",
              "          const docLinkHtml = 'Like what you see? Visit the ' +\n",
              "            '<a target=\"_blank\" href=https://colab.research.google.com/notebooks/data_table.ipynb>data table notebook</a>'\n",
              "            + ' to learn more about interactive tables.';\n",
              "          element.innerHTML = '';\n",
              "          dataTable['output_type'] = 'display_data';\n",
              "          await google.colab.output.renderOutput(dataTable, element);\n",
              "          const docLink = document.createElement('div');\n",
              "          docLink.innerHTML = docLinkHtml;\n",
              "          element.appendChild(docLink);\n",
              "        }\n",
              "      </script>\n",
              "    </div>\n",
              "  </div>\n",
              "  "
            ],
            "text/plain": [
              "                                                                                                                                                                                                                                                                                                                                                                                                                                                                                                                                                                                                                                                                                                                                                                                                                                                                                                                                                                                                                                                                                                                                                                                                                                                                                                                                                                                                                                                                                                                                                                                                                                                                                                                                                                                                                                                                                                                                                                                                                                                                                                                                                                                                                                                                                                                                                                                                                                                                                                                                                                                                                                                                                                                                                                                                                                                                                                                                                                                                                                                                                                                                                                                                                                                                                                                                                                                                                                                                                                                                                                                                                                                                                                                              review_es  \\\n",
              "216                                                                                                                                                                                                                                                                                                                                                                                                                                                                                                                                                                                                                                                                                                                                                                                                                                                                                                                                                                                                                                                                                                                                                                                                                                                                                                                                                                                                                                                                                                                                                                                                                                                                                                                                                                                                                                                                                                                                                                                                                                                                                                                                                                                                                                                                                                                                                                                                                                                                                                                                                                                                                                                                                          Esta película, como la primera (\"El hombre del río Snowy\") tiene las mismas características buenas y malas, tal vez incluso más que el original.Desafortunadamente, el mal supera el bien.El bien - paisaje magnífico, mejor que la primera película.Me encantan esas tomas de alto país en Australia.Tom Burlinson sigue siendo un tipo simpático, como \"Jim Craig\".Bruce Rowland también hizo un buen trabajo con la música. El mal, una vez más obtenemos una heroína feminista extremadamente desagradable \"Jessica\" (Sigrid Thornton), que es un Pouter de clase mundial con una cara y manera extremadamente molesta sobre ella.En esta película, también tenemos una gran rebaja en la OMS que paga al Padre.Anteriormente, fue Kirk Douglas, ahora reemplazado por la Siempre -Profia Brian Dennehy.Hablando de eso, es una desgracia que una película de Walt Disney incluiría los usos del nombre del Señor en vano.Esa fue una de las razones casi totalmente en los tubos en la década de 1980.Esta película, como la primera.   \n",
              "267                                                                                                                                                                                                                                                                                                                                                                                                                                                                                                                                                                                                                                                                                                                                                                                                                                                                                                                                                                                                                                                                                                                                                                                                                                                                                                                                                                                                                                                                                                                                                                                                                                                                                                                                                                                                                                                                                                                                                                                                                                                                                                                                                                                                                                                                                                                                                                                                                                                                                                                                                                        La peor secuela que he visto. ¡Canciones realmente horribles que están molestando considerando lo fantástica que es la primera puntuación y la historia de las primeras películas! Además, que ruina la película para mí es el hecho de que no hay John Cleese, así que Jean Bob podría ni siquiera estar en ella y los nuevos villanos son terribles. Es realmente molesto cómo esa cosa de la anciana tipo no puede cadear una oración simple juntos sin repetir sus palabras una y otra vez. Pero ser justo Uberta, no cerrarse, es un poco divertido. Pero el hecho de que fuera su 50 cumpleaños: ¿Por qué los dibujan pareciendo un niño de 80 años? Iba a dar esto a 1, pero ahora creo que ... podría darle un 2. Pero aún así, la línea de la historia no es tan buena como la primera película. Es similar sin el humor de ciertos personajes. En general, no me gustó esta película por completo debido a la música decepcionante, la grave falta de talento de voz: haber cambiado la voz del príncipe Derek y Jean Bob, los nuevos villanos, la decepcionante historia de los hábitos molestos de algunos personajes y la animación muy simple.   \n",
              "173  Para todas sus muchas fallas, me inclino a ser caritativa para \"cosa\". Hay la pepita de una historia de estilo Hitchcock Claustrophobic Hitchcock, interesante, espeluznante. Ponlo en manos de un escritor como Theodore Sturgeon o (si prefiere la perspectiva británica) Robert Bloch, o el tipo que escribió \"Día de los Triffids\", y podría haber tenido una pequeña historia inquietante de Spook, que fue la mejor. Cosa en una antología de libros de historias de horror y suspenso. Sin embargo, alguien decidió contar esta historia como una película de largometraje y una segunda tasa económica en ese momento, y por lo tanto la mayor parte del potencial se desperdicia. Una historia como esta realmente necesita una voz como Sturgeon para aportar una gran cantidad de carácter de carácter en una mejor luz. Su historia clásica \"The -widget-, The -wadget, y Boff\" es un ejemplo de cómo puede reunir a un grupo aislado de personajes \"ordinarios\" y en el espacio de 40 páginas puede convertirlos en los más divertidos, simpáticos y personas fascinantes que hayas conocido. Un buen escritor puede, con algunas palabras elegidas, hacer que el lector \"vea\" algunos de los eventos más vívidos y memorables para detectar sus emociones. En encuentro, obtenemos una película donde algunos de los personajes más irritantes y poco probables jamás hicieron. juntos e hechos para interactuar en poco convincente \"¿De dónde viene eso?\" Momentos que simplemente se encuentran allí. (Es decir, la chica psíquica rubia que declaba que \"eres todo el mal y espero que seas destruido!\". Obtenemos el paso de plomo y el bloqueo de cámara lenta y conjuntos aburridos y actores rígidos. Culpo al director por la parte 'rígida y superficial'. Estos son todos los terceros actores de carácter que nunca hicieron lo mejor, pero también son actores \"reales\", y un buen director podría haber obtenido mejores actuaciones de ellos. Nos afitamos para los matices de lesbianas que hacen que el espectador se sienta incómodo y explotado sin brindar ningún tipo de pago. (Si voy a hacer que mis instintos de base se exploten y se sientan culpables al respecto, quiero hacerlo por cosas mejoradas que esto). Y tenemos más de una hora de acumulación espeluznante difundida en unos 35 segundos en uno de los peores anti-clímaxes que he visto. ¿Cosas de cosas sobre \"cosa\"? Um, bueno ... Algunas de las tomas de primer plano de la cabeza de Warlock, la boca en silencio, sus directivas fueron bastante efectivas. La viuda miserable y astuta sonó fiel a la vida (incluso si quisiera rellenar un calcetín en su boca). La primera escena donde la mano grande, \"simple\", la mano del rancho se vuelve silenciosamente en el vaquero graso y lo mata, tenía un poco de valor de choque, porque la trama se había tomado la molestia de establecer al tipo grande como un personaje bastante simpático. Y como dije anteriormente, la idea de una fuerza insidiosa del pasado convirtió a los miembros de una comunidad aislada entre sí es una buena y puede sufrir intereses muy por encima del mérito real de un mal desempeño. ¿Qué es definitivamente? Como dije, me inclino a ser caritativo, porque el director probablemente estaba trabajando bajo un presupuesto penoso, las limitaciones de tiempo de Breakneck y los mejores actores que podía encontrar por el dinero. El Cielo sabe cómo las generaciones futuras juzgarán la mierda facil como \"la cueva\", \"giro incorrecto\" o el remake de \"Casa de cera\" 40 años a partir de ahora. Espero que sean caritativos para nuestros propios gustos para apoyar a nuestras generaciones desechos de stock de cine.   \n",
              "77                                                                                                                                                                                                                                                                                                                                                                                                                                                                                                                                                                                                                                                                                                                                                                                                                                                                                                                                                                                                                                                                                                                                                                                                                                                                                                                                                                                                                                                                                                                                                                                                                                                                                                                                                                                                                                                                                                                                                                                                                                                                                                                                                                                                                                                                                                                                                                                                                                                                                                                                                                                                                                                                                                                                                                                                                                                                                                                                                                                                                                                          Una buena película con actuaciones sólidas (especialmente las dos cables).La película es de dos chicas americanas que están atrapadas con la heroína de 6 kilos en un aeropuerto en Tailandia.Ambos son arrojados a la prisión y uno de ellos firma una confesión.Bill Pullman juega al abogado que intenta sacarlos.Todo lo que tienen que hacer es encontrar nick Parks que ponen los narcóticos en la bolsa de una de las dos chicas.Hasta ahora para la historia, que no es ese original (tiene muchas semejanzas con el mejor regreso al paraíso). La hermosa fotografía de actuación y Newton Thomas Sigel hacen que esta película valga la pena ver.Un 7 de cada 10.   \n",
              "208                                                                                                                                                                                                                                                                                                                                                                                                                                                                                                                                                                                                                                                                                                                                                                                                                                                                                                                                                                                                                                                                                                                                                                                                                                                                                                                                                                                                                                                                                                                                                                                                                                                                                                                                                                                                                                                                                                                                                                                                                                                                                                                                                                                                                                                                                                                                                                                                                                                                                                                                                                                                                                                                                                                                                                                                                                                                             Si quieres ver una película de terror que es horrible y en muy mal gusto, esta es definitivamente la película para ver.Estas películas comienzan con dos jóvenes adolescentes para obtener ideas silvestres sobre cómo entrar en una sala de chat y salir en las fechas ciegas, y posiblemente, se terminarán como un pequeño cordero a la casa de matadero.Un montón de sangre, sangre, desnudez, esposas y todo tipo de ganchos de drenaje de sangre y cosas que nunca soñará, una persona es capaz de realizar hombres y mujeres.Si te gusta Piercing, este tipo de piercing trata con grandes ganchos pesados y un montón de tatuajes;Además, muchas agujas y hilo para sellar las cosas en el cuerpo humano.Realmente espero que esta película no dé a alguna persona enferma en este mundo, la idea de desempeñar estos horrores en la vida real.   \n",
              "245                                                                                                                                                                                                                                                                                                                                                                                                                                                                                                                                                                                                                                                                                                                                                                                                                                                                                                                                                                                                                                                                                                                                                                                                                                                                                                                                                                                                                                                                                                                                                                                                                                                                                                                                                                                                                                                                                                                                                                                                                                                                                                                                                                                                                                                                                                                                                                                                                                                                                                                                                                                                           ¿Por qué las personas que no saben qué momento en el pasado era sentir la necesidad de tratar de definir ese tiempo para otros?Reemplace Woodstock con la Guerra Civil y el Aterrizaje de la Luna Apollo con el hundimiento titánico y tiene una película tan realista, ya que esta ópera de jabón fórmula poblada enteramente por la basura de la vida baja.¿Es esto lo que los niños que eran demasiado jóvenes podrían ser obligados a ir a Woodstock y quién fue la composición escolar de grado fallida?\"Mostraré esos viejos medios, ¡pondré a mi propia película y demostraré que no tienes que conocer a Nutttin sobre tu tema para ganar dinero!\"Sí, ya lo sabemos.Lo único que viendo a esta película hizo por mí era darme un poco de información sobre el pensamiento de la clasa.La próxima vez que vea una puta en un bar que se ve como Diane Lane, estoy corriendo por el otro lado.El abuso infantil le permite a los padres que lleven a los niños.El abuso de la audiencia simplemente adhiere a Woodstock y la luna en una película, como si ese IPSO facto significa que la película retrata a 1969.   \n",
              "237                                                                                                                                                                                                                                                                                                                                                                                                                                                                                                                                                                                                                                                                                                                                                                                                                                                                                                                                                                                                                                                                                                                                                                                                                                                                                                                                                                                                                                                                                                                                                                                                                                                                                                                                                                                                                                                                                                                                                                                                                                                                                                                                                                                                                                                                                                                                    Doble proyecto de ley perfecto para los horriblemente Corny \"Beverly Hillbillies\" es esta \"comedia\" igualmente atroz, cojo \",\" hijo en la ley \". La chica de campo Rebecca va a Wild California para asistir a la universidad, solo para ser asaltado por el estilo de vida. 'Asesor residente' \"El rastreo\" le ayuda a instalarse, y pronto los dos son buenos amigos. BEC decide traer el Wacky \"Grawl\" a casa para el Día de Acción de Gracias, con resultados obvios \"Pescado de agua\". El único ángulo cómico Steve Rash (nombrado acertadamente) logra aquí una sexual. Esto nos da la bruma, pero en vano. Tanto los aspectos cómicos fallan, y sabes que la película está a tientas cuando el \"rastreo\" secuestra a la cosechadora combinada y escribe su nombre en el campo de maíz. También se cuesta la película, con varios intentos de asesoramiento familiar y personal de \"Crawl\" incorrectivamente . Entre ellos, Pauly Shore y Carla Gugino logran levantar un par de sonrisas, pero poco más, mientras que el resto del elenco es mero forraje. El problema es que es casi imposible realmente gustarle \"rastrear\", y te encontrarás gastando todo el movimiento preguntándose por qué Rebecca querría pasar un momento con él. Sin embargo, si eres un fanático de la comedia uninteligente, \"hijo en la ley\" está justo en la marca. Sun día, 10 de noviembre de 1996 - T.v.   \n",
              "227                                                                                                                                                                                                                                                                                                                                                                                                                                                                                                                                                                                                                                                                                                                                                                                                                                                                                                                                                                                                                                                                                                                                                                                                                                                                                                                                                                                                                                                                                                                                                                                                                                                                                                                                                                                                                                                                                                                                                                                                                                                                                                                                                           Tal vez me perdí la reunión cuando se explicó el significado de \"B-Movie\", pero lo que acabo de ver fue ridículo. ¿Quieres una buena sinopsis de esta película? Tome los alienígenas, reemplace los xenomorfos con vampiros, luego retire todo lo que fue bueno al respecto, y eso es prácticamente. 5 minutos en la película, el \"escuadrón V-SAN\" (ese es el acrónimo más tonto que he escuchado) se comprueba Una \"base\" que ha sido masacrada por vampiros y luego suben (abajo? ¿Qué?) Una escalera obviamente unida a una cartelera con un tren actual obvio en el fondo. ¿Cuándo se supone que esto tiene lugar? 2210. Está bien ... (espera, volveré a eso) Sí. los caracteres. Wow, bueno, hay la token pollita asiática de lesbianas, el Redneck Cowboy Wannabe, el capitán degradado, el goteo de vampiros / Tema Hot-Time Cajero a tiempo parcial, y el Wish Noob Second In. Todos ellos son jugados por sus respectivos actores con la misma falta de ambición. Casi me doleron que vea el Ironside Micheal en esta película. ¿No está recibiendo suficiente dinero la voz de Sam Fisher en Splinter Cell? PERSONA MUCHO Lo único Original sobre las guerras de Vampire es acerca de lo malo que es. Observando este parto posterior de una película, la única diversión que obtuve fue de los débiles intentos de creación. ¿Desde cuándo la grabación de las tarjetas informáticas PCI en un recuento de pared como una habitación lista en una nave estelar? El dinero requerido para hacer esta película podría haberse puesto a un uso mucho más mejor.   \n",
              "233                                                                                                                                                                                                                                                                                                                                                                                                                                                                                                                                                                                                                                                                                                                                                                                                                                                                                                                                                                                                                                                                                                                                                                                                   En realidad vi esta película en un cine. En ese momento, estaba trabajando turnos y fui allí durante un Matinée en un caluroso día de verano cuando no podía dormir. El cine fue aéreo. Fue un complejo de pantalla múltiple temprano y de alguna manera me metí en el lugar equivocado. Tenía la intención de dormitar algo más. Pero como las cosas se transpiraron, no habría dormir. Poco después de que comenzó la película incorrecta, también fui desconcertado por un grupo de limpiadores femeninos que entraban y lo usaban como su club social. Yo era la única otra persona allí, y es una medida del atractivo de la película que habitualmente esperaban que el lugar estaba vacío y me preguntaba si me importaba su presencia. Yo no lo hice aproximadamente media hora, la conversación de los limpiadores demostró ser más interesante que el entretenimiento que había pagado. Esta película se eliminó de la pantalla con la posibilidad de que la mayonesa muy estatal. El tipo que tiene pequeños mechones oscuros, peludos, creciendo en la superficie. También recuerdo que mis sentidos son asaltados por cordones de música estridente que se amarrarían con muy poca advertencia, e incluso menos significado. Los limpiadores proporcionaron una cue anticipación al poner sus dedos en sus oídos. Se trataba de que un pájaro de la ciudad va a vivir en los palos entre una carga de una carga de madera, poniéndolos rectos, pero al mismo tiempo que se les enseñaba una lección moral o dos. Como tu lo haces. Una especie de 'viaje de descubrimiento'. Había una sentencia sentenciosa sobre toda la producción. En particular, la actriz líder tenía un hábito irritante de mirar a cada Hick con una especie de intensa compasión beatífica, como si ella misma fuera el santo patrón de los espesores. Y creo en alguna etapa, escribió un libro. , Me sentí fascinado por una de las colas silenciosas y respiradas de la impropiedad sexual. Uno sospecha que hay algunos a quienes se sientan tranquilamente durante un par de horas y no tienen que pensar, constituyen una meditación. Lo mejor que puedo decir es que no quisiera compartir su ensalada. Nunca he visto a esta película anunciada como mostrada en la televisión, lo que me sorprende. Es solo el tipo de PAP que se proyecta en la tarde para castigar a los desempleados por no tener empleos. Si alguna vez trabajas turnos, asegúrese de ingresar al teatro correcto. O esperanza para algunas damas de limpieza.   \n",
              "58                                                                                                                                                                                                                                                                                                                                                                                                                                                                                                                                                                                                                                                                                                                                                                                                                                                                                                                                                                                                                                                                                                                                                                                                                                                                                                                                                                                                                                                                                                                                                                                                                                                                                                                                                                                                                                                                                                                                                                                                                                                                                                                                                                                                                                                                                                                                                                                                        La imagen de la novia pinta un retrato realista y en movimiento de lo que debe haber sido como para hombres japoneses llevados a Hawai a la vuelta del siglo XIX para trabajar en los campos de caña de azúcar. La mayoría vino planeando regresar a su tierra natal, pero pocos fueron capaces de hacerlo. Igualmente retratado es el destino de las mujeres japonesas, algunas tan jóvenes como quince o dieciséis, que fueron enviadas como prometidas novias a los hombres que solo sabían a través de fotografías que a menudo eran de 10 o 15 años sin fecha, o eran de algún otro hombre más joven. . Ellos también trabajaban largas horas difíciles en los campos, mientras luchaban contra la nostalgia y para preservar su dignidad. La representación de la fotografía de Hatta de una foto, el coraje de la novia y la perseverancia que luchan por sobrevivir en una tierra extraña y la sociedad alienígena bajo una gran coacción física, es, en última instancia, inspirador y Uplificador: una historia de supervivencia moral y cultural. Hay una gran cantidad y magnificencia de barrido de carácter y paisaje en la novia de la imagen que captura la belleza seductora, así como la dureza violenta de la hawai colonial. Esta es una película que es emocional, intelectual y artística gratificante.   \n",
              "9                                                                                                                                                                                                                                                                                                                                                                                                                                                                                                                                                                                                                                                                                                                                                                                                                                                                                                                                                                                                                                                                                                                                                                                                                                                                                                                                                                                                                                                                                                                                                                                                                                                                                                                                                                                                                                                                                                                                                                                                                                                                                                                                                                                                                                                                                                                                                                                                                                   Este es un Docu-Drama TEPID que no cubre un nuevo terreno, reworks todos los clichés y es descuidado con los hechos. Por ejemplo, Munich es una ciudad muy plana. Entonces, ¿por qué es montando en la película? Por ejemplo, el final de la Gran Guerra en 1918 no fue una rendición, sino un armisticio. Sin embargo, se anuncia como una rendición. Por ejemplo, los vendedores de noticias europeos no hicieron (y no lo hicieron) gritar titulares, ya que halvan sus papeles. Sin embargo, esta costumbre estrictamente estadounidense se emplea en la película. Por ejemplo, los nazis no adoptaron el águila alemana hasta después de que se habían tomado el poder, pero allí se encuentra en el atril, ya que Hitler ofrece uno de sus stem soteners. De hecho, la mayor parte de esta producción decepcionante consiste en poco más que la oratoria hitleriana. La película también perpetúa el mito de que el Ayuntamiento de la cerveza PUTSCH fue incubado en el Múnich Hoffbrauhaus. No era. Robert Carlyle hace un fino representación de su tema. Pero su elenco de apoyo es adecuado en el mejor de los casos, y muy a menudo ni siquiera eso. Estos comentarios se basan únicamente en el primer episodio. Solo puede esperar que el segundo sea mejor, pero no apueste en ello.   \n",
              "197                                                                                                                                                                                                                                                                                                                                                                                                                                                                                                                                                                                                                                                                                                                                                                                                                                                                                                                                                                                                                                                                                                                                                                                                                                                                                                                                                                                                                                                                                                                                                                                                                                                                                                                                                                                                                                                                                                                                                                                                                                               Filatografía: excelentes y agradables ángulos de cámara (no recuerdo haber visto una película de los últimos tiempos, con buenos primeros planos, hasta este. Podría haber evitado escenas espantosas con una cámara suave. NY se ilustra bien. Me gustó los ángulos al revés, en particular (un toque diferente) .Music: No impresionante. Las canciones no se quedan en tu mente incluso después de ver la película. Puede ser, esperaba la misma calidad como \"Anniyan\". Una decepción. Actores: Kamal necesita alejarse lentamente de las secuencias de acción del núcleo duro. Su edad y vientre realmente aparecen. Además, debe evitar las secuencias románticas cercanas al avanzar. Fue muy incómodo ver a una estrella madurosa / envejecida que sigue tratando de jugar como una escena de más de 20 héroes. El amor se puede expresar a cualquier edad; A medida que envejecemos, todavía puede expresar amor muy bien desde la distancia (sin tocar demasiado a una mujer. Por ejemplo, el amor expresado por Rajinikanth en \"Chandrmukhi\"). Jyotika aparece solo para el homónimo en la película. No estoy seguro de por qué ella aceptó esto. Bueno, ese no es mi problema, supongo. Los demás solo tienen una pequeña presencia. Dirección: esperaba que Gautham sobresaliera (o medir-up) a su otra película \"Kakka Kakka\". Él me decepcionó. Tomó mucho tiempo liberar la película debido a varios temas. Se desliza en pocas escenas. Incluso las cosas abvesas se deslizaron de un director famoso. Todas las siguientes: solo una película bien. Demasiados gráficos. Definitivamente no para niños (y adultos que esperan algún tipo de \"entretenimiento\"). Thx   \n",
              "225                                                                                                                                                                                                                                                                                                                                                                                                                                                                                                                                                                                                                                                                                                                                                                                                                                                                                                                                                                                                                                                                                                                                                                                                                                                                                                                                                                                                                                                                                                                                                                                                               Beverly Garland nació en el momento equivocado. Era una actriz por delante de su tiempo, trayendo poder y gracia a incluso tales películas cojo como las películas de Corman protagonizó. En Gunslinger, ella es la esposa de la ciudad de Sheriff. Se sale, así que ella asume su trabajo para perseguir a sus asesinos. Ella es mejor que el material con la que está trabajando, de lejos. La película es gris, zancada y en su mayoría aburrida. Hay un humor (involuntario) con las pistas de los neumáticos en todas partes, las personas que corren detrás de un edificio para emerger de repente frente a otro (he oído hablar de Fals Frentes, ¡pero esto es ridículo!), Y la línea verdaderamente estúpida de la trama del recién viudo. Sheriff se enamore del tipo contratado para matarla. ¡Incluso si ella no hubiera amado a su esposo, solo había sido algo así como una semana o dos desde que había muerto! Y ella termina disparando al chico hasta la muerte al final, de todos modos. No hay suerte con los hombres, este. El villano de la pieza es otra mujer, el propietario del salón. Ella está planeando comprar un montón de tierra en caso de que el ferrocarril pase y la haga rica. Su plan de acción, si no es bastante cojo, ella simplemente robará tanto de la ciudad como ella puede y skedaddle. Demonios, es solo ella y su arma contratada al final contra una ciudad entera. ¿Me estás diciendo que estas personas no están armadas? Mira lo que sucedió en las verdaderas ciudades del viejo oeste cuando los ladrones de bancos llegaron a robar el banco, luego fueron cortados en un granizo de balas por la gente armada y peligrosa. Aquí hay un montón de una gran cantidad de pieles que hablan e intercalaron. Con unos cuantos tiros cojos. El final es tan sombrío como de costumbre en un cambio de corma, aunque gracias a Dios que carece de la moral de proselitización al final que estaba conquistada en el mundo. El sheriff se vuelve sobre su placa para Sam Bass y se alza en la puesta del sol, aunque la película era tan gris que nunca viste el sol.   \n",
              "250                                                                                                                                                                                                                                                                                                                                                                                                                                                                                                                                                                                                                                              Pensarías que con Ingrid Bergman y Warner Baxter que esta película hubiera sido mucho mejor. Lamentablemente, la película sufre de caracteres difíciles de creer, así como un problema importante de la parcela que hace que algunos de los personajes parezcan adultos de cerebro. La película comienza con Ingrid Bergman que viene a trabajar para la familia Stoddard. Todo es muy melocotón y hinchado: la familia Adoraciones Bergman y las cosas no podrían ser más perfectas. Bueno, eso es hasta que la madre (WRAY FAY) muera, el mercado de valores se estrella en 1907 (eliminando la fortuna de la familia) y Bergman se ve obligada a volver a casa a Francia. Esta parte de la película es un poco pegajosa, pero no está mal. Later, después de que las fortunas de la familia han mejorado, Bergman regresa. Los cuatro niños ahora están todos crecidos y realmente no hay una razón concebible por la que la contratarían una vez más como institutriz. Pero, brevemente, todo está hinchado una vez más. Pero, cuando ocurre WWI, los cuatro van a la guerra, ¡Dios mío! En medio de esto, uno de los hijos (David) trae a casa su nueva esposa (Susan Hayward). El personaje de la señorita Hayward es tan blanco y negro como los demás, aunque mientras que todos son buenos y se hinchan, obviamente es un diablo caliente. Para empeorar las cosas, viene a vivir en la casa de la familia, mientras que David está en la guerra. Ahora, aquí es donde la película se pone realmente, muy tonta, con punta del cerebro. Hayward comienza un asunto con uno de los hermanos de David, pero cuando el Padre ve una silueta de los amantes, Bergman entra en la habitación desde otra entrada y finge que era ella, ¡no hayanward con Jack! ¡¿POR QUÉ?! ¿Por qué cualquier persona sana hará esto para salvar el trasero de una mujer obviamente mala y conniviente? ¡Esto fue exactamente el tipo de excusa de Bergman necesitaba deshacerse de la gutter-snipe de una vez por todas! Esto es solo un caso de escritura pésimo y me hizo enojado ... y lo más probable es lo mismo que regresó a los audiencias en 1941. El resto de la película consiste en la oportunidad fallida después de que la oportunidad fallida de que la maldad de Hayward esté expuesta. Esto solo vuela contra el sentido común e hizo la película un desastre tonto melodramático. Sin embargo, como se esperaba, la verdad finalmente sale y todos se hinchan una vez más, y felices de ser una gran familia maravillosa amante menos la puta, Hayward. La película sufre debido a la mala escritura. El asunto de Hayward no tenía sentido, al menos en cómo se manejaba. Y, tener personajes que son tan buenos o malos o malos (con nada en medio), se hunden esta película al nivel de un jabón de segunda velocidad. Lo único que lo ahorra en absoluto es la actuación, lo intentaron lo mejor que podrían con un guión turgente. ¡Basta con decir que los escritores de Columbia Pictures que hicieron esta película deberían haber sido abofeteados con un pollo muerto!   \n",
              "137                                                                                                                                                                                                                                                                                                                                                                                                                                                                                                                                                                                                                                                                                                                                                                                                                                                                                                                                                                                                                                                                                                                                                                                                                                                                                                                                                                                                                                                                                                                                                                                                                                                                                              Este es el episodio que probablemente se relaciona más estrechamente con su legislación asociada, \"no matarás\", en el sentido de que él eleva directamente el tema controvertido, \"¿por qué matamos a las personas que matan a las personas a mostrar que el asesinato está mal?\" Este problema se presenta en dos partes dentro del episodio: antes del asesinato, cuando la película muestra la dicotomía entre el abogado idealista y el abogado y el matón de la calle tan atrapado en sus caminos que su vida es simplemente una representación de lo que es Se supone que debe hacer, seguido del período después del juicio y antes de la ejecución, cuando ambos están hechos para sufrir las muertes, se sienten responsables y, por lo tanto, comparten. Una de las grandes cosas sobre la forma en que funcionan estos episodios en los dos pequeños y Grandes formas en que la historia está completamente desarrollada, de modo que entendemos tanto las motivaciones como las historias de los personajes, solo podemos gastar un poco menos de una hora. Para todas sus intenciones criminales y burlas, el asesino sigue siendo muy comprensivo, girando la parte más importante de sus acciones en torno a una historia de muerte accidental. Su forma de matar es más un deseo de controlar la muerte de lo que es un deseo de destruir realmente. Del mismo modo, la ingenuidad idealista del abogado muestra que no está dispuesto a permitir que la muerte suceda en un mundo donde no pueda controlarlo. Su reunión es, de hecho, importante; Ambos tienen que ceder a ella mientras no lo propagan. Como aparte, es interesante cuánto afecta este episodio que afecta a la visualización de Rouge, la finalización posterior de Kieslowski de la trilogía de los colores Trois. Una de las mayores influencias de Kieslowski parece ser la idea de la justicia, y considerando que el decálogo es una meditación en algo que representa la justicia divina, este parece casi el más autoconsciente. Polarisdib   \n",
              "95                                                                                                                                                                                                                                                                                                                                                                                                                                                                                                                                                                                                                                                                                                                                                                                                                                                                                                                                                                                                                                                                                                                                                                                                                                                                                                                                                                                                                                                                                                                                                                                 Este es un clásico comediante británico-thriller que siempre había querido salir, pero no había hecho que la oportunidad había surgido para eso hasta ahora. Se basa en una obra de escenario popular que ya había filmado varias veces (más en 1931 por el mismo director, pero, desafortunadamente, esta versión no parece haber sobrevivido en su totalidad!); Para el remake bajo revisión, la trama se ha actualizado a la entonces situación de tiempo de guerra actual.Andancia, estaba familiarizada principalmente con los comediantes británicos tempranos a través de las películas de Will HAY: Dado que este presenta una parcela similar de hauntings, contrabando y Agentes enemigos, es mucho en ese sentido (en realidad fue escrito por el equipo de escritura regular de Heno de Marriott Edgar, Val Guest y Joc Orton); El elemento de los viajeros varados, entonces, fue una fórmula igualmente probada y verdadera. La estrella esta vez está a su alrededor, Arthur Asky (Abreted por Richard Murdoch), nada de cuyas películas que había visto antes, que es tan poco probable que un héroe como el heno mismo y cuya personalidad demuestra ser igualmente irritante ... pero uno pronto se calienta hasta él, y la aseye se encuentra sin duda una serie de líneas ingeniosas y diversos bits de negocios a lo largo de justificar el hecho de que el carácter principal de la obra (y la versión de la película de 1931) se dividió en dos aquí, con Murdoch actuando como el SPER SOCIED DE STAR STRIPT. La configuración remota (los eventos de la película se realizan en gran medida durante una noche tormentosa) proporciona un ambiente maravilloso; La última media hora, con la repentina aparición de una pareja misteriosa (Raymond Huntley y Linden Travers) y, finalmente, la llegada del propio vehículo titular, es especialmente agarrado y bien manejado. También vale la pena mencionar desde la lista de proyectos restantes, Kathleen Harrison, como la spinter asustada estereotipada, con un loro como su compañero constante y que es impulsado por toda la emoción para tomar su primera bebida.   \n",
              "158                                                                                                                                                                                                                                                                                                                                                                                                                                                                                                                                                                                                                                                                                                                                                                                                                                                                                                                                                                                                                                                                                                                                                                                                                                                                                                                                                                                                                                                                                                                                                                                                                                                                                                                                                                                                                                                                                                                                                                                                                                                                                                                                                              Esta película cobarde y ofensiva me había intrigado para empezar. Los personajes son los conocidos hombres jóvenes desposeídos con frecuencia para ser vistos a perder aburridos en una ciudad del lado marino. Robert es un forastero, pero él tiene su música que podría haber sido su alma. En su lugar, la arcilla hace que Robert se convierta en un monstruo que se embarca en un viaje a cannabis y éxtasis y entra con la multitud equivocada. La arcilla parece creer en \"Reefer Madness\" y Robert termina la película como un violador homicida. Uno se pregunta cuánta experiencia tiene la vida real que tiene este joven director. Nadie puede salvar a Pobre Robert. Clay nos deja con el mensaje que los jóvenes británicos están fuera de control. Se hace un enlace muy insuficiente a los insurgentes iraquíes; Durante la violación innecesariamente gráfica, estamos sometidos a explosiones e imágenes de guerra. La película muestra el extremismo de grupo de pares masculino empujado a sus límites. Los jóvenes bombarderos en Londres dibujan un paralelo con la odiosa descripción de la arcilla de los hombres modernos. La arcilla implica que los hombres simplemente no pueden evitar infligir terribles actos de violencia. Es una maravilla que la industria cinematográfica británica permita que el dinero se invierta en películas que abogan a dicha propaganda divisiva, cuando en Londres todavía estamos volviendo a reelirnos de los recientes ataques. Esta es la primera película de Clay, me encantaría que sea su último.   \n",
              "243                                                                                                                                                                                                                                                                                                                                                                                                                                                                                                                                                                                                                                                                                                                                                                                                                                                                                                                                                                                                                                                                                                                                                                                                                                                                                                                                                                                                                                                                                                                                                                                                                                                                                                                                                                                                                                                                                                                                                                                                                                                                                                                                                                                                                                                                                                                                                                                                                                                                                                                                                                                                                                                                                                                                                                                                                                                                                                                                                                                                                                                                                       Una historia terrible (Amis a su peor), \"decadencia\" sin sentido y autoconsciente, las tácticas de golpes obvias y la actuación irregular hacen que esta película (más bien como \"aluminio rancio\") incorpore todo lo que salió mal con el evival británico de cine británico.El humor es, en el mejor de los casos, cojera, y la pretensión de toda la configuración (incluida algún tipo de \"grupo terrorista de Internet\", OOH, cómo contemporáneo) realmente comienza a rejarse. Resumen infantil: un intento medio cocido de ser 'Edgy 'que no tiene ningún favor.Aún así, siempre es un placer ver a Katy Carmichael en la pantalla ...   \n",
              "144                                                                                                                                                                                                                                                                                                                                                                                                                                                                                                                                                                                                                                                                                                                                                                                                                                              Esta fue la película más costosa, cuando se produce. Sir Alexander Korda y H.G. Wells estaban amenazados por sus malas calificaciones, por una buena razón. Fue y permanece muy por delante de su tiempo. Aparte de la dirección aparentemente pobre, probablemente editando, al principio, el trabajo se mueve a una conclusión impresionante. Si su rol \"jefe\" de Sir Ralph Richardson, o incluso mejor, de su esposa, Sir Cedric, como adversario al espacio de espacio. , El rol del centro de \"John Cabal 'de Raymond Massey, todos ofrecen actuaciones de alma mental. La escena con el Sr. El conjunto incomparable de Korda, de la niña pequeña, que se acaba a una escena absolutamente \"sin ser igualada\", comentando \"la vida sigue siendo más hermosa y más hermosa\". que rápidamente trae lágrimas a cualquier padre / abuelo. Esto no es una película para los jóvenes, a menos que \"experimentados\" y más bien, aquellos que han visto \"el horror\" se opone a, el 'Phony-Parachuting', se ve Hokey --- Mientras usa un 'cañón magnético', Ahora se denomina \"piloto masivo\" puede ser visto como ridículo, vs. cohetes --- Dale a Sir Korda un descanso: Sr. Wells hizo esa elección. y en +/- $ 8 millones, esta película fue más allá de \"sobre presupuesto\", por lo que se concentró en lo que podía manejar. El verdadero poder de este mejor del cine descansa en la declaración final del destino humano 'John Cabal' - His amigo 'Passworthy' duda la sabiduría del espacio de espacio, diciendo: 'Somos tan pequeños animales'. La respuesta adecuada de John Cabal es, (parafraseada) \"Sí, pequeños animales, y si eso es todo lo que somos, debemos vivir y morir como tales\". Están parados bajo un gran telescopio astronómico. Barrió su mano por el cielo nocturno. \"Sin embargo, podemos tener todo el universo, o nada.'-- Entonces, el coro final se rompe -\" ¿Cuál será? \"--- Esto no es 'Star Wars', 'Blade Runner' --- Cualquier cosa que pueda considerar 'grande' --- Esto es lo real. Recuerdo a toda la dirección más reciente de Steven Hawking, en su última \"Medalla de Honor\", \"la humanidad debe abandonar la tierra, o morir.\" El mismo núcleo de este trabajo --- Amo 'Entretenimiento estándar', pero esta \"reliquia\", para el espectador sabio, ofrece mucho más. '¿Cuál será?' Estar en el \"estado de ánimo\" apropiado, lo que sea necesario, esto le quitará el aliento, \"Guaronte\", en general, para la humanidad? El más importante del cine. Desde la publicación, observo que muchos han comentado sobre los pobres \"calidad de los medios\" de ejemplos \"sobrevivientes\". En los años 80, desarrollé un proceso de coloración \"propietario\" que requirió un original \"limpio\". Esto me llevó a Michael Korda, quien señaló tristemente a todos, se habían ido, así que debemos disfrutar de lo que queda, \"¡triste pero cierto?\"   \n",
              "78                                                                                                                                                                                                                                                                                                                                                                                                                                                                                                                                                                                                                                                                                                                                                                                                                                                                                                                                                                                                                                                                                                                                                                                                                                                                                                                                                                                                                                                                                                                                                                                                                                                                                                                                                                                                                                                                                                                                                                                                                                                                                                                                                                                                                                                                                                                                                                                                                                                                                                                                                                                                                                                                                                                                                                                                                                                     Estaba dispuesto a sartén este episodio, viendo que este 'maestro' realmente no tiene películas de terror debajo de su cinturón. Pero esto es fácilmente el mejor episodio de la temporada. ¡La actuación fue buena !!¡No sé cómo lo arregló, pero tenemos un verdadero talento en este episodio!Y mientras podías ver las cosas que vienen de una milla de distancia, al menos, al menos estaba entretenido y logró mantenerme comprometido a los 56 minutos completos, algo que le ha seguido este punto en la serie. Especialmente me gustó el bit aEl final, no un giro por decir, sino solo un poco divertido donde se convierte, como siempre, el esposo hubby de gallina. Realmente un buen esfuerzo.Como he dicho en otras reseñas, estos no son verdaderos maestros haciendo muchos de estos episodios ... pero pueden algún día terminar siendo maestros en el futuro.   \n",
              "\n",
              "    sentimiento  \n",
              "216    negativo  \n",
              "267    negativo  \n",
              "173    negativo  \n",
              "77     positivo  \n",
              "208    negativo  \n",
              "245    negativo  \n",
              "237    negativo  \n",
              "227    negativo  \n",
              "233    negativo  \n",
              "58     positivo  \n",
              "9      negativo  \n",
              "197    positivo  \n",
              "225    negativo  \n",
              "250    negativo  \n",
              "137    positivo  \n",
              "95     positivo  \n",
              "158    negativo  \n",
              "243    negativo  \n",
              "144    positivo  \n",
              "78     positivo  "
            ]
          },
          "execution_count": 39,
          "metadata": {},
          "output_type": "execute_result"
        }
      ],
      "source": [
        "df_recent[['review_es', 'sentimiento']].sample(20)"
      ]
    },
    {
      "cell_type": "code",
      "execution_count": null,
      "metadata": {
        "colab": {
          "base_uri": "https://localhost:8080/"
        },
        "id": "xUIEuqAH62TB",
        "outputId": "1714d523-c0db-43d1-8ef4-3af1cd12ee66"
      },
      "outputs": [
        {
          "name": "stdout",
          "output_type": "stream",
          "text": [
            "Python 3.9.16\n"
          ]
        }
      ],
      "source": [
        "!python --version"
      ]
    },
    {
      "cell_type": "code",
      "execution_count": null,
      "metadata": {
        "id": "wo8frATyS0d5"
      },
      "outputs": [],
      "source": []
    }
  ],
  "metadata": {
    "accelerator": "TPU",
    "colab": {
      "machine_shape": "hm",
      "provenance": []
    },
    "gpuClass": "standard",
    "kernelspec": {
      "display_name": "Python 3",
      "name": "python3"
    },
    "language_info": {
      "name": "python"
    },
    "widgets": {
      "application/vnd.jupyter.widget-state+json": {
        "034f313f588e4d25b222109392eb4539": {
          "model_module": "@jupyter-widgets/controls",
          "model_module_version": "1.5.0",
          "model_name": "HTMLModel",
          "state": {
            "_dom_classes": [],
            "_model_module": "@jupyter-widgets/controls",
            "_model_module_version": "1.5.0",
            "_model_name": "HTMLModel",
            "_view_count": null,
            "_view_module": "@jupyter-widgets/controls",
            "_view_module_version": "1.5.0",
            "_view_name": "HTMLView",
            "description": "",
            "description_tooltip": null,
            "layout": "IPY_MODEL_3faa7f1abd054935926c50b7ad91a78c",
            "placeholder": "​",
            "style": "IPY_MODEL_aca4d6ecf4f04f6193d72e1d0dd34064",
            "value": "Downloading https://raw.githubusercontent.com/stanfordnlp/stanza-resources/main/resources_1.5.0.json: "
          }
        },
        "0525ca05959f4cfabedfa2afe0f55072": {
          "model_module": "@jupyter-widgets/base",
          "model_module_version": "1.2.0",
          "model_name": "LayoutModel",
          "state": {
            "_model_module": "@jupyter-widgets/base",
            "_model_module_version": "1.2.0",
            "_model_name": "LayoutModel",
            "_view_count": null,
            "_view_module": "@jupyter-widgets/base",
            "_view_module_version": "1.2.0",
            "_view_name": "LayoutView",
            "align_content": null,
            "align_items": null,
            "align_self": null,
            "border": null,
            "bottom": null,
            "display": null,
            "flex": null,
            "flex_flow": null,
            "grid_area": null,
            "grid_auto_columns": null,
            "grid_auto_flow": null,
            "grid_auto_rows": null,
            "grid_column": null,
            "grid_gap": null,
            "grid_row": null,
            "grid_template_areas": null,
            "grid_template_columns": null,
            "grid_template_rows": null,
            "height": null,
            "justify_content": null,
            "justify_items": null,
            "left": null,
            "margin": null,
            "max_height": null,
            "max_width": null,
            "min_height": null,
            "min_width": null,
            "object_fit": null,
            "object_position": null,
            "order": null,
            "overflow": null,
            "overflow_x": null,
            "overflow_y": null,
            "padding": null,
            "right": null,
            "top": null,
            "visibility": null,
            "width": null
          }
        },
        "08b6fee9ee4c4bae96b5b8452eab0526": {
          "model_module": "@jupyter-widgets/controls",
          "model_module_version": "1.5.0",
          "model_name": "FloatProgressModel",
          "state": {
            "_dom_classes": [],
            "_model_module": "@jupyter-widgets/controls",
            "_model_module_version": "1.5.0",
            "_model_name": "FloatProgressModel",
            "_view_count": null,
            "_view_module": "@jupyter-widgets/controls",
            "_view_module_version": "1.5.0",
            "_view_name": "ProgressView",
            "bar_style": "success",
            "description": "",
            "description_tooltip": null,
            "layout": "IPY_MODEL_c2ba3c0c1e37439db721b08bf57d9eef",
            "max": 29910,
            "min": 0,
            "orientation": "horizontal",
            "style": "IPY_MODEL_0e0ee3c11b5b42ae83ecc327f7d1e9f0",
            "value": 29910
          }
        },
        "09b8f67ffa094c40b027fa92730354a8": {
          "model_module": "@jupyter-widgets/base",
          "model_module_version": "1.2.0",
          "model_name": "LayoutModel",
          "state": {
            "_model_module": "@jupyter-widgets/base",
            "_model_module_version": "1.2.0",
            "_model_name": "LayoutModel",
            "_view_count": null,
            "_view_module": "@jupyter-widgets/base",
            "_view_module_version": "1.2.0",
            "_view_name": "LayoutView",
            "align_content": null,
            "align_items": null,
            "align_self": null,
            "border": null,
            "bottom": null,
            "display": null,
            "flex": null,
            "flex_flow": null,
            "grid_area": null,
            "grid_auto_columns": null,
            "grid_auto_flow": null,
            "grid_auto_rows": null,
            "grid_column": null,
            "grid_gap": null,
            "grid_row": null,
            "grid_template_areas": null,
            "grid_template_columns": null,
            "grid_template_rows": null,
            "height": null,
            "justify_content": null,
            "justify_items": null,
            "left": null,
            "margin": null,
            "max_height": null,
            "max_width": null,
            "min_height": null,
            "min_width": null,
            "object_fit": null,
            "object_position": null,
            "order": null,
            "overflow": null,
            "overflow_x": null,
            "overflow_y": null,
            "padding": null,
            "right": null,
            "top": null,
            "visibility": null,
            "width": null
          }
        },
        "0a06778f53ab491a8d33dac5bc1a6743": {
          "model_module": "@jupyter-widgets/controls",
          "model_module_version": "1.5.0",
          "model_name": "DescriptionStyleModel",
          "state": {
            "_model_module": "@jupyter-widgets/controls",
            "_model_module_version": "1.5.0",
            "_model_name": "DescriptionStyleModel",
            "_view_count": null,
            "_view_module": "@jupyter-widgets/base",
            "_view_module_version": "1.2.0",
            "_view_name": "StyleView",
            "description_width": ""
          }
        },
        "0e0ee3c11b5b42ae83ecc327f7d1e9f0": {
          "model_module": "@jupyter-widgets/controls",
          "model_module_version": "1.5.0",
          "model_name": "ProgressStyleModel",
          "state": {
            "_model_module": "@jupyter-widgets/controls",
            "_model_module_version": "1.5.0",
            "_model_name": "ProgressStyleModel",
            "_view_count": null,
            "_view_module": "@jupyter-widgets/base",
            "_view_module_version": "1.2.0",
            "_view_name": "StyleView",
            "bar_color": null,
            "description_width": ""
          }
        },
        "0ec6aeb644ca41e8afd652d1152c2b56": {
          "model_module": "@jupyter-widgets/base",
          "model_module_version": "1.2.0",
          "model_name": "LayoutModel",
          "state": {
            "_model_module": "@jupyter-widgets/base",
            "_model_module_version": "1.2.0",
            "_model_name": "LayoutModel",
            "_view_count": null,
            "_view_module": "@jupyter-widgets/base",
            "_view_module_version": "1.2.0",
            "_view_name": "LayoutView",
            "align_content": null,
            "align_items": null,
            "align_self": null,
            "border": null,
            "bottom": null,
            "display": null,
            "flex": null,
            "flex_flow": null,
            "grid_area": null,
            "grid_auto_columns": null,
            "grid_auto_flow": null,
            "grid_auto_rows": null,
            "grid_column": null,
            "grid_gap": null,
            "grid_row": null,
            "grid_template_areas": null,
            "grid_template_columns": null,
            "grid_template_rows": null,
            "height": null,
            "justify_content": null,
            "justify_items": null,
            "left": null,
            "margin": null,
            "max_height": null,
            "max_width": null,
            "min_height": null,
            "min_width": null,
            "object_fit": null,
            "object_position": null,
            "order": null,
            "overflow": null,
            "overflow_x": null,
            "overflow_y": null,
            "padding": null,
            "right": null,
            "top": null,
            "visibility": null,
            "width": null
          }
        },
        "108ebfbcde4e4d56ba960432ac71dd73": {
          "model_module": "@jupyter-widgets/base",
          "model_module_version": "1.2.0",
          "model_name": "LayoutModel",
          "state": {
            "_model_module": "@jupyter-widgets/base",
            "_model_module_version": "1.2.0",
            "_model_name": "LayoutModel",
            "_view_count": null,
            "_view_module": "@jupyter-widgets/base",
            "_view_module_version": "1.2.0",
            "_view_name": "LayoutView",
            "align_content": null,
            "align_items": null,
            "align_self": null,
            "border": null,
            "bottom": null,
            "display": null,
            "flex": null,
            "flex_flow": null,
            "grid_area": null,
            "grid_auto_columns": null,
            "grid_auto_flow": null,
            "grid_auto_rows": null,
            "grid_column": null,
            "grid_gap": null,
            "grid_row": null,
            "grid_template_areas": null,
            "grid_template_columns": null,
            "grid_template_rows": null,
            "height": null,
            "justify_content": null,
            "justify_items": null,
            "left": null,
            "margin": null,
            "max_height": null,
            "max_width": null,
            "min_height": null,
            "min_width": null,
            "object_fit": null,
            "object_position": null,
            "order": null,
            "overflow": null,
            "overflow_x": null,
            "overflow_y": null,
            "padding": null,
            "right": null,
            "top": null,
            "visibility": null,
            "width": null
          }
        },
        "115f589e29b9434dbe4156b9037a6a73": {
          "model_module": "@jupyter-widgets/controls",
          "model_module_version": "1.5.0",
          "model_name": "DescriptionStyleModel",
          "state": {
            "_model_module": "@jupyter-widgets/controls",
            "_model_module_version": "1.5.0",
            "_model_name": "DescriptionStyleModel",
            "_view_count": null,
            "_view_module": "@jupyter-widgets/base",
            "_view_module_version": "1.2.0",
            "_view_name": "StyleView",
            "description_width": ""
          }
        },
        "1b209e50071b458caad30a0982988b7d": {
          "model_module": "@jupyter-widgets/controls",
          "model_module_version": "1.5.0",
          "model_name": "DescriptionStyleModel",
          "state": {
            "_model_module": "@jupyter-widgets/controls",
            "_model_module_version": "1.5.0",
            "_model_name": "DescriptionStyleModel",
            "_view_count": null,
            "_view_module": "@jupyter-widgets/base",
            "_view_module_version": "1.2.0",
            "_view_name": "StyleView",
            "description_width": ""
          }
        },
        "1c89c815618b42d0abadfcb246e45397": {
          "model_module": "@jupyter-widgets/controls",
          "model_module_version": "1.5.0",
          "model_name": "ProgressStyleModel",
          "state": {
            "_model_module": "@jupyter-widgets/controls",
            "_model_module_version": "1.5.0",
            "_model_name": "ProgressStyleModel",
            "_view_count": null,
            "_view_module": "@jupyter-widgets/base",
            "_view_module_version": "1.2.0",
            "_view_name": "StyleView",
            "bar_color": null,
            "description_width": ""
          }
        },
        "1e2c1b2877f9477c9378624996f08746": {
          "model_module": "@jupyter-widgets/controls",
          "model_module_version": "1.5.0",
          "model_name": "ProgressStyleModel",
          "state": {
            "_model_module": "@jupyter-widgets/controls",
            "_model_module_version": "1.5.0",
            "_model_name": "ProgressStyleModel",
            "_view_count": null,
            "_view_module": "@jupyter-widgets/base",
            "_view_module_version": "1.2.0",
            "_view_name": "StyleView",
            "bar_color": null,
            "description_width": ""
          }
        },
        "2bc86082198045b293e0dd78afa8bd0d": {
          "model_module": "@jupyter-widgets/controls",
          "model_module_version": "1.5.0",
          "model_name": "HTMLModel",
          "state": {
            "_dom_classes": [],
            "_model_module": "@jupyter-widgets/controls",
            "_model_module_version": "1.5.0",
            "_model_name": "HTMLModel",
            "_view_count": null,
            "_view_module": "@jupyter-widgets/controls",
            "_view_module_version": "1.5.0",
            "_view_name": "HTMLView",
            "description": "",
            "description_tooltip": null,
            "layout": "IPY_MODEL_408b4c772c69495c92dd3aaf1280f3aa",
            "placeholder": "​",
            "style": "IPY_MODEL_115f589e29b9434dbe4156b9037a6a73",
            "value": " 200k/? [00:00&lt;00:00, 11.5MB/s]"
          }
        },
        "2e4aabdb449c4eb3b8f013a2183d7b93": {
          "model_module": "@jupyter-widgets/base",
          "model_module_version": "1.2.0",
          "model_name": "LayoutModel",
          "state": {
            "_model_module": "@jupyter-widgets/base",
            "_model_module_version": "1.2.0",
            "_model_name": "LayoutModel",
            "_view_count": null,
            "_view_module": "@jupyter-widgets/base",
            "_view_module_version": "1.2.0",
            "_view_name": "LayoutView",
            "align_content": null,
            "align_items": null,
            "align_self": null,
            "border": null,
            "bottom": null,
            "display": null,
            "flex": null,
            "flex_flow": null,
            "grid_area": null,
            "grid_auto_columns": null,
            "grid_auto_flow": null,
            "grid_auto_rows": null,
            "grid_column": null,
            "grid_gap": null,
            "grid_row": null,
            "grid_template_areas": null,
            "grid_template_columns": null,
            "grid_template_rows": null,
            "height": null,
            "justify_content": null,
            "justify_items": null,
            "left": null,
            "margin": null,
            "max_height": null,
            "max_width": null,
            "min_height": null,
            "min_width": null,
            "object_fit": null,
            "object_position": null,
            "order": null,
            "overflow": null,
            "overflow_x": null,
            "overflow_y": null,
            "padding": null,
            "right": null,
            "top": null,
            "visibility": null,
            "width": null
          }
        },
        "32025248f21b4b5288e5ef3cf77fb853": {
          "model_module": "@jupyter-widgets/controls",
          "model_module_version": "1.5.0",
          "model_name": "HTMLModel",
          "state": {
            "_dom_classes": [],
            "_model_module": "@jupyter-widgets/controls",
            "_model_module_version": "1.5.0",
            "_model_name": "HTMLModel",
            "_view_count": null,
            "_view_module": "@jupyter-widgets/controls",
            "_view_module_version": "1.5.0",
            "_view_name": "HTMLView",
            "description": "",
            "description_tooltip": null,
            "layout": "IPY_MODEL_69959f935ce54c549b3a291d1c0d6ed1",
            "placeholder": "​",
            "style": "IPY_MODEL_72f702d347704ba58ca983f67fdd6701",
            "value": "Downloading https://raw.githubusercontent.com/stanfordnlp/stanza-resources/main/resources_1.5.0.json: "
          }
        },
        "32099af64d06442eaf9174ea425c43a7": {
          "model_module": "@jupyter-widgets/controls",
          "model_module_version": "1.5.0",
          "model_name": "FloatProgressModel",
          "state": {
            "_dom_classes": [],
            "_model_module": "@jupyter-widgets/controls",
            "_model_module_version": "1.5.0",
            "_model_name": "FloatProgressModel",
            "_view_count": null,
            "_view_module": "@jupyter-widgets/controls",
            "_view_module_version": "1.5.0",
            "_view_name": "ProgressView",
            "bar_style": "success",
            "description": "",
            "description_tooltip": null,
            "layout": "IPY_MODEL_dc9c644842e3418599a57c51cc42fd85",
            "max": 602924008,
            "min": 0,
            "orientation": "horizontal",
            "style": "IPY_MODEL_1c89c815618b42d0abadfcb246e45397",
            "value": 602924008
          }
        },
        "335cca12cf8a4a7ab458fe88f1ce094e": {
          "model_module": "@jupyter-widgets/base",
          "model_module_version": "1.2.0",
          "model_name": "LayoutModel",
          "state": {
            "_model_module": "@jupyter-widgets/base",
            "_model_module_version": "1.2.0",
            "_model_name": "LayoutModel",
            "_view_count": null,
            "_view_module": "@jupyter-widgets/base",
            "_view_module_version": "1.2.0",
            "_view_name": "LayoutView",
            "align_content": null,
            "align_items": null,
            "align_self": null,
            "border": null,
            "bottom": null,
            "display": null,
            "flex": null,
            "flex_flow": null,
            "grid_area": null,
            "grid_auto_columns": null,
            "grid_auto_flow": null,
            "grid_auto_rows": null,
            "grid_column": null,
            "grid_gap": null,
            "grid_row": null,
            "grid_template_areas": null,
            "grid_template_columns": null,
            "grid_template_rows": null,
            "height": null,
            "justify_content": null,
            "justify_items": null,
            "left": null,
            "margin": null,
            "max_height": null,
            "max_width": null,
            "min_height": null,
            "min_width": null,
            "object_fit": null,
            "object_position": null,
            "order": null,
            "overflow": null,
            "overflow_x": null,
            "overflow_y": null,
            "padding": null,
            "right": null,
            "top": null,
            "visibility": null,
            "width": null
          }
        },
        "3faa7f1abd054935926c50b7ad91a78c": {
          "model_module": "@jupyter-widgets/base",
          "model_module_version": "1.2.0",
          "model_name": "LayoutModel",
          "state": {
            "_model_module": "@jupyter-widgets/base",
            "_model_module_version": "1.2.0",
            "_model_name": "LayoutModel",
            "_view_count": null,
            "_view_module": "@jupyter-widgets/base",
            "_view_module_version": "1.2.0",
            "_view_name": "LayoutView",
            "align_content": null,
            "align_items": null,
            "align_self": null,
            "border": null,
            "bottom": null,
            "display": null,
            "flex": null,
            "flex_flow": null,
            "grid_area": null,
            "grid_auto_columns": null,
            "grid_auto_flow": null,
            "grid_auto_rows": null,
            "grid_column": null,
            "grid_gap": null,
            "grid_row": null,
            "grid_template_areas": null,
            "grid_template_columns": null,
            "grid_template_rows": null,
            "height": null,
            "justify_content": null,
            "justify_items": null,
            "left": null,
            "margin": null,
            "max_height": null,
            "max_width": null,
            "min_height": null,
            "min_width": null,
            "object_fit": null,
            "object_position": null,
            "order": null,
            "overflow": null,
            "overflow_x": null,
            "overflow_y": null,
            "padding": null,
            "right": null,
            "top": null,
            "visibility": null,
            "width": null
          }
        },
        "4007da033f0e4ac08cea68b198b4cbd3": {
          "model_module": "@jupyter-widgets/controls",
          "model_module_version": "1.5.0",
          "model_name": "HTMLModel",
          "state": {
            "_dom_classes": [],
            "_model_module": "@jupyter-widgets/controls",
            "_model_module_version": "1.5.0",
            "_model_name": "HTMLModel",
            "_view_count": null,
            "_view_module": "@jupyter-widgets/controls",
            "_view_module_version": "1.5.0",
            "_view_name": "HTMLView",
            "description": "",
            "description_tooltip": null,
            "layout": "IPY_MODEL_e055b38b26644bd2a1402f324cf37790",
            "placeholder": "​",
            "style": "IPY_MODEL_6c0bd65f06914228ae4311293c9bc3b6",
            "value": "Downloading https://raw.githubusercontent.com/stanfordnlp/stanza-resources/main/resources_1.5.0.json: "
          }
        },
        "408b4c772c69495c92dd3aaf1280f3aa": {
          "model_module": "@jupyter-widgets/base",
          "model_module_version": "1.2.0",
          "model_name": "LayoutModel",
          "state": {
            "_model_module": "@jupyter-widgets/base",
            "_model_module_version": "1.2.0",
            "_model_name": "LayoutModel",
            "_view_count": null,
            "_view_module": "@jupyter-widgets/base",
            "_view_module_version": "1.2.0",
            "_view_name": "LayoutView",
            "align_content": null,
            "align_items": null,
            "align_self": null,
            "border": null,
            "bottom": null,
            "display": null,
            "flex": null,
            "flex_flow": null,
            "grid_area": null,
            "grid_auto_columns": null,
            "grid_auto_flow": null,
            "grid_auto_rows": null,
            "grid_column": null,
            "grid_gap": null,
            "grid_row": null,
            "grid_template_areas": null,
            "grid_template_columns": null,
            "grid_template_rows": null,
            "height": null,
            "justify_content": null,
            "justify_items": null,
            "left": null,
            "margin": null,
            "max_height": null,
            "max_width": null,
            "min_height": null,
            "min_width": null,
            "object_fit": null,
            "object_position": null,
            "order": null,
            "overflow": null,
            "overflow_x": null,
            "overflow_y": null,
            "padding": null,
            "right": null,
            "top": null,
            "visibility": null,
            "width": null
          }
        },
        "42681523e66b4fb89e8c978f9a57d334": {
          "model_module": "@jupyter-widgets/controls",
          "model_module_version": "1.5.0",
          "model_name": "HBoxModel",
          "state": {
            "_dom_classes": [],
            "_model_module": "@jupyter-widgets/controls",
            "_model_module_version": "1.5.0",
            "_model_name": "HBoxModel",
            "_view_count": null,
            "_view_module": "@jupyter-widgets/controls",
            "_view_module_version": "1.5.0",
            "_view_name": "HBoxView",
            "box_style": "",
            "children": [
              "IPY_MODEL_4a4c0195855741f59ab0b0924e5a4b2c",
              "IPY_MODEL_6cf8cdc7fdb2405881dd38c972c7b050",
              "IPY_MODEL_68a9aef2ac914bf2bd7b13f52e7e1614"
            ],
            "layout": "IPY_MODEL_0ec6aeb644ca41e8afd652d1152c2b56"
          }
        },
        "4506227dbbed461da908acd868b28a6e": {
          "model_module": "@jupyter-widgets/base",
          "model_module_version": "1.2.0",
          "model_name": "LayoutModel",
          "state": {
            "_model_module": "@jupyter-widgets/base",
            "_model_module_version": "1.2.0",
            "_model_name": "LayoutModel",
            "_view_count": null,
            "_view_module": "@jupyter-widgets/base",
            "_view_module_version": "1.2.0",
            "_view_name": "LayoutView",
            "align_content": null,
            "align_items": null,
            "align_self": null,
            "border": null,
            "bottom": null,
            "display": null,
            "flex": null,
            "flex_flow": null,
            "grid_area": null,
            "grid_auto_columns": null,
            "grid_auto_flow": null,
            "grid_auto_rows": null,
            "grid_column": null,
            "grid_gap": null,
            "grid_row": null,
            "grid_template_areas": null,
            "grid_template_columns": null,
            "grid_template_rows": null,
            "height": null,
            "justify_content": null,
            "justify_items": null,
            "left": null,
            "margin": null,
            "max_height": null,
            "max_width": null,
            "min_height": null,
            "min_width": null,
            "object_fit": null,
            "object_position": null,
            "order": null,
            "overflow": null,
            "overflow_x": null,
            "overflow_y": null,
            "padding": null,
            "right": null,
            "top": null,
            "visibility": null,
            "width": null
          }
        },
        "4970d05ef5a84ca7a716a999907551e8": {
          "model_module": "@jupyter-widgets/controls",
          "model_module_version": "1.5.0",
          "model_name": "DescriptionStyleModel",
          "state": {
            "_model_module": "@jupyter-widgets/controls",
            "_model_module_version": "1.5.0",
            "_model_name": "DescriptionStyleModel",
            "_view_count": null,
            "_view_module": "@jupyter-widgets/base",
            "_view_module_version": "1.2.0",
            "_view_name": "StyleView",
            "description_width": ""
          }
        },
        "4a4c0195855741f59ab0b0924e5a4b2c": {
          "model_module": "@jupyter-widgets/controls",
          "model_module_version": "1.5.0",
          "model_name": "HTMLModel",
          "state": {
            "_dom_classes": [],
            "_model_module": "@jupyter-widgets/controls",
            "_model_module_version": "1.5.0",
            "_model_name": "HTMLModel",
            "_view_count": null,
            "_view_module": "@jupyter-widgets/controls",
            "_view_module_version": "1.5.0",
            "_view_name": "HTMLView",
            "description": "",
            "description_tooltip": null,
            "layout": "IPY_MODEL_4d3c22aac3994f419f8f790548cff0f3",
            "placeholder": "​",
            "style": "IPY_MODEL_1b209e50071b458caad30a0982988b7d",
            "value": "Downloading https://raw.githubusercontent.com/stanfordnlp/stanza-resources/main/resources_1.5.0.json: "
          }
        },
        "4bb292c3269e4f03b5ca475207127290": {
          "model_module": "@jupyter-widgets/controls",
          "model_module_version": "1.5.0",
          "model_name": "HBoxModel",
          "state": {
            "_dom_classes": [],
            "_model_module": "@jupyter-widgets/controls",
            "_model_module_version": "1.5.0",
            "_model_name": "HBoxModel",
            "_view_count": null,
            "_view_module": "@jupyter-widgets/controls",
            "_view_module_version": "1.5.0",
            "_view_name": "HBoxView",
            "box_style": "",
            "children": [
              "IPY_MODEL_d7b95c0ab18c4306b808ba43b1be2845",
              "IPY_MODEL_b6800d7fe6af49ef9cb0105c9804a7f6",
              "IPY_MODEL_2bc86082198045b293e0dd78afa8bd0d"
            ],
            "layout": "IPY_MODEL_8374edffc7044370a167669c4f5a7c2c"
          }
        },
        "4bd5000c7922423aa60a0c6e73779633": {
          "model_module": "@jupyter-widgets/controls",
          "model_module_version": "1.5.0",
          "model_name": "HBoxModel",
          "state": {
            "_dom_classes": [],
            "_model_module": "@jupyter-widgets/controls",
            "_model_module_version": "1.5.0",
            "_model_name": "HBoxModel",
            "_view_count": null,
            "_view_module": "@jupyter-widgets/controls",
            "_view_module_version": "1.5.0",
            "_view_name": "HBoxView",
            "box_style": "",
            "children": [
              "IPY_MODEL_4007da033f0e4ac08cea68b198b4cbd3",
              "IPY_MODEL_08b6fee9ee4c4bae96b5b8452eab0526",
              "IPY_MODEL_ed469d5252d54b248d3bc2c775afa573"
            ],
            "layout": "IPY_MODEL_d3690c41600a4b54843b867e3cd32c55"
          }
        },
        "4d3c22aac3994f419f8f790548cff0f3": {
          "model_module": "@jupyter-widgets/base",
          "model_module_version": "1.2.0",
          "model_name": "LayoutModel",
          "state": {
            "_model_module": "@jupyter-widgets/base",
            "_model_module_version": "1.2.0",
            "_model_name": "LayoutModel",
            "_view_count": null,
            "_view_module": "@jupyter-widgets/base",
            "_view_module_version": "1.2.0",
            "_view_name": "LayoutView",
            "align_content": null,
            "align_items": null,
            "align_self": null,
            "border": null,
            "bottom": null,
            "display": null,
            "flex": null,
            "flex_flow": null,
            "grid_area": null,
            "grid_auto_columns": null,
            "grid_auto_flow": null,
            "grid_auto_rows": null,
            "grid_column": null,
            "grid_gap": null,
            "grid_row": null,
            "grid_template_areas": null,
            "grid_template_columns": null,
            "grid_template_rows": null,
            "height": null,
            "justify_content": null,
            "justify_items": null,
            "left": null,
            "margin": null,
            "max_height": null,
            "max_width": null,
            "min_height": null,
            "min_width": null,
            "object_fit": null,
            "object_position": null,
            "order": null,
            "overflow": null,
            "overflow_x": null,
            "overflow_y": null,
            "padding": null,
            "right": null,
            "top": null,
            "visibility": null,
            "width": null
          }
        },
        "57ab7fb19dc04c1890f2856fae44208e": {
          "model_module": "@jupyter-widgets/controls",
          "model_module_version": "1.5.0",
          "model_name": "DescriptionStyleModel",
          "state": {
            "_model_module": "@jupyter-widgets/controls",
            "_model_module_version": "1.5.0",
            "_model_name": "DescriptionStyleModel",
            "_view_count": null,
            "_view_module": "@jupyter-widgets/base",
            "_view_module_version": "1.2.0",
            "_view_name": "StyleView",
            "description_width": ""
          }
        },
        "613d058a6c9648969911d25f8308cd83": {
          "model_module": "@jupyter-widgets/controls",
          "model_module_version": "1.5.0",
          "model_name": "DescriptionStyleModel",
          "state": {
            "_model_module": "@jupyter-widgets/controls",
            "_model_module_version": "1.5.0",
            "_model_name": "DescriptionStyleModel",
            "_view_count": null,
            "_view_module": "@jupyter-widgets/base",
            "_view_module_version": "1.2.0",
            "_view_name": "StyleView",
            "description_width": ""
          }
        },
        "6251a3b56a6c4d07a8bd5b465b3ebe60": {
          "model_module": "@jupyter-widgets/base",
          "model_module_version": "1.2.0",
          "model_name": "LayoutModel",
          "state": {
            "_model_module": "@jupyter-widgets/base",
            "_model_module_version": "1.2.0",
            "_model_name": "LayoutModel",
            "_view_count": null,
            "_view_module": "@jupyter-widgets/base",
            "_view_module_version": "1.2.0",
            "_view_name": "LayoutView",
            "align_content": null,
            "align_items": null,
            "align_self": null,
            "border": null,
            "bottom": null,
            "display": null,
            "flex": null,
            "flex_flow": null,
            "grid_area": null,
            "grid_auto_columns": null,
            "grid_auto_flow": null,
            "grid_auto_rows": null,
            "grid_column": null,
            "grid_gap": null,
            "grid_row": null,
            "grid_template_areas": null,
            "grid_template_columns": null,
            "grid_template_rows": null,
            "height": null,
            "justify_content": null,
            "justify_items": null,
            "left": null,
            "margin": null,
            "max_height": null,
            "max_width": null,
            "min_height": null,
            "min_width": null,
            "object_fit": null,
            "object_position": null,
            "order": null,
            "overflow": null,
            "overflow_x": null,
            "overflow_y": null,
            "padding": null,
            "right": null,
            "top": null,
            "visibility": null,
            "width": null
          }
        },
        "68a9aef2ac914bf2bd7b13f52e7e1614": {
          "model_module": "@jupyter-widgets/controls",
          "model_module_version": "1.5.0",
          "model_name": "HTMLModel",
          "state": {
            "_dom_classes": [],
            "_model_module": "@jupyter-widgets/controls",
            "_model_module_version": "1.5.0",
            "_model_name": "HTMLModel",
            "_view_count": null,
            "_view_module": "@jupyter-widgets/controls",
            "_view_module_version": "1.5.0",
            "_view_name": "HTMLView",
            "description": "",
            "description_tooltip": null,
            "layout": "IPY_MODEL_7877c5c61c6b49318569430ad93d1a4b",
            "placeholder": "​",
            "style": "IPY_MODEL_f42dfb8b8908407aa84b25e62ab51ea3",
            "value": " 200k/? [00:00&lt;00:00, 9.90MB/s]"
          }
        },
        "69959f935ce54c549b3a291d1c0d6ed1": {
          "model_module": "@jupyter-widgets/base",
          "model_module_version": "1.2.0",
          "model_name": "LayoutModel",
          "state": {
            "_model_module": "@jupyter-widgets/base",
            "_model_module_version": "1.2.0",
            "_model_name": "LayoutModel",
            "_view_count": null,
            "_view_module": "@jupyter-widgets/base",
            "_view_module_version": "1.2.0",
            "_view_name": "LayoutView",
            "align_content": null,
            "align_items": null,
            "align_self": null,
            "border": null,
            "bottom": null,
            "display": null,
            "flex": null,
            "flex_flow": null,
            "grid_area": null,
            "grid_auto_columns": null,
            "grid_auto_flow": null,
            "grid_auto_rows": null,
            "grid_column": null,
            "grid_gap": null,
            "grid_row": null,
            "grid_template_areas": null,
            "grid_template_columns": null,
            "grid_template_rows": null,
            "height": null,
            "justify_content": null,
            "justify_items": null,
            "left": null,
            "margin": null,
            "max_height": null,
            "max_width": null,
            "min_height": null,
            "min_width": null,
            "object_fit": null,
            "object_position": null,
            "order": null,
            "overflow": null,
            "overflow_x": null,
            "overflow_y": null,
            "padding": null,
            "right": null,
            "top": null,
            "visibility": null,
            "width": null
          }
        },
        "6c0bd65f06914228ae4311293c9bc3b6": {
          "model_module": "@jupyter-widgets/controls",
          "model_module_version": "1.5.0",
          "model_name": "DescriptionStyleModel",
          "state": {
            "_model_module": "@jupyter-widgets/controls",
            "_model_module_version": "1.5.0",
            "_model_name": "DescriptionStyleModel",
            "_view_count": null,
            "_view_module": "@jupyter-widgets/base",
            "_view_module_version": "1.2.0",
            "_view_name": "StyleView",
            "description_width": ""
          }
        },
        "6c1a39dc7e3e4d4d8eaac5c45c2b5fcf": {
          "model_module": "@jupyter-widgets/base",
          "model_module_version": "1.2.0",
          "model_name": "LayoutModel",
          "state": {
            "_model_module": "@jupyter-widgets/base",
            "_model_module_version": "1.2.0",
            "_model_name": "LayoutModel",
            "_view_count": null,
            "_view_module": "@jupyter-widgets/base",
            "_view_module_version": "1.2.0",
            "_view_name": "LayoutView",
            "align_content": null,
            "align_items": null,
            "align_self": null,
            "border": null,
            "bottom": null,
            "display": null,
            "flex": null,
            "flex_flow": null,
            "grid_area": null,
            "grid_auto_columns": null,
            "grid_auto_flow": null,
            "grid_auto_rows": null,
            "grid_column": null,
            "grid_gap": null,
            "grid_row": null,
            "grid_template_areas": null,
            "grid_template_columns": null,
            "grid_template_rows": null,
            "height": null,
            "justify_content": null,
            "justify_items": null,
            "left": null,
            "margin": null,
            "max_height": null,
            "max_width": null,
            "min_height": null,
            "min_width": null,
            "object_fit": null,
            "object_position": null,
            "order": null,
            "overflow": null,
            "overflow_x": null,
            "overflow_y": null,
            "padding": null,
            "right": null,
            "top": null,
            "visibility": null,
            "width": null
          }
        },
        "6cf8cdc7fdb2405881dd38c972c7b050": {
          "model_module": "@jupyter-widgets/controls",
          "model_module_version": "1.5.0",
          "model_name": "FloatProgressModel",
          "state": {
            "_dom_classes": [],
            "_model_module": "@jupyter-widgets/controls",
            "_model_module_version": "1.5.0",
            "_model_name": "FloatProgressModel",
            "_view_count": null,
            "_view_module": "@jupyter-widgets/controls",
            "_view_module_version": "1.5.0",
            "_view_name": "ProgressView",
            "bar_style": "success",
            "description": "",
            "description_tooltip": null,
            "layout": "IPY_MODEL_6251a3b56a6c4d07a8bd5b465b3ebe60",
            "max": 29910,
            "min": 0,
            "orientation": "horizontal",
            "style": "IPY_MODEL_9bd198a6e8c24118be77de1b35d5a053",
            "value": 29910
          }
        },
        "72f702d347704ba58ca983f67fdd6701": {
          "model_module": "@jupyter-widgets/controls",
          "model_module_version": "1.5.0",
          "model_name": "DescriptionStyleModel",
          "state": {
            "_model_module": "@jupyter-widgets/controls",
            "_model_module_version": "1.5.0",
            "_model_name": "DescriptionStyleModel",
            "_view_count": null,
            "_view_module": "@jupyter-widgets/base",
            "_view_module_version": "1.2.0",
            "_view_name": "StyleView",
            "description_width": ""
          }
        },
        "784147c7d2a541e79333aba27993bffb": {
          "model_module": "@jupyter-widgets/base",
          "model_module_version": "1.2.0",
          "model_name": "LayoutModel",
          "state": {
            "_model_module": "@jupyter-widgets/base",
            "_model_module_version": "1.2.0",
            "_model_name": "LayoutModel",
            "_view_count": null,
            "_view_module": "@jupyter-widgets/base",
            "_view_module_version": "1.2.0",
            "_view_name": "LayoutView",
            "align_content": null,
            "align_items": null,
            "align_self": null,
            "border": null,
            "bottom": null,
            "display": null,
            "flex": null,
            "flex_flow": null,
            "grid_area": null,
            "grid_auto_columns": null,
            "grid_auto_flow": null,
            "grid_auto_rows": null,
            "grid_column": null,
            "grid_gap": null,
            "grid_row": null,
            "grid_template_areas": null,
            "grid_template_columns": null,
            "grid_template_rows": null,
            "height": null,
            "justify_content": null,
            "justify_items": null,
            "left": null,
            "margin": null,
            "max_height": null,
            "max_width": null,
            "min_height": null,
            "min_width": null,
            "object_fit": null,
            "object_position": null,
            "order": null,
            "overflow": null,
            "overflow_x": null,
            "overflow_y": null,
            "padding": null,
            "right": null,
            "top": null,
            "visibility": null,
            "width": null
          }
        },
        "7877c5c61c6b49318569430ad93d1a4b": {
          "model_module": "@jupyter-widgets/base",
          "model_module_version": "1.2.0",
          "model_name": "LayoutModel",
          "state": {
            "_model_module": "@jupyter-widgets/base",
            "_model_module_version": "1.2.0",
            "_model_name": "LayoutModel",
            "_view_count": null,
            "_view_module": "@jupyter-widgets/base",
            "_view_module_version": "1.2.0",
            "_view_name": "LayoutView",
            "align_content": null,
            "align_items": null,
            "align_self": null,
            "border": null,
            "bottom": null,
            "display": null,
            "flex": null,
            "flex_flow": null,
            "grid_area": null,
            "grid_auto_columns": null,
            "grid_auto_flow": null,
            "grid_auto_rows": null,
            "grid_column": null,
            "grid_gap": null,
            "grid_row": null,
            "grid_template_areas": null,
            "grid_template_columns": null,
            "grid_template_rows": null,
            "height": null,
            "justify_content": null,
            "justify_items": null,
            "left": null,
            "margin": null,
            "max_height": null,
            "max_width": null,
            "min_height": null,
            "min_width": null,
            "object_fit": null,
            "object_position": null,
            "order": null,
            "overflow": null,
            "overflow_x": null,
            "overflow_y": null,
            "padding": null,
            "right": null,
            "top": null,
            "visibility": null,
            "width": null
          }
        },
        "7e05a0fc619c4cc49231b07f2bad7296": {
          "model_module": "@jupyter-widgets/controls",
          "model_module_version": "1.5.0",
          "model_name": "DescriptionStyleModel",
          "state": {
            "_model_module": "@jupyter-widgets/controls",
            "_model_module_version": "1.5.0",
            "_model_name": "DescriptionStyleModel",
            "_view_count": null,
            "_view_module": "@jupyter-widgets/base",
            "_view_module_version": "1.2.0",
            "_view_name": "StyleView",
            "description_width": ""
          }
        },
        "817e5b491f364a0486a1f96c2eb8d359": {
          "model_module": "@jupyter-widgets/controls",
          "model_module_version": "1.5.0",
          "model_name": "HTMLModel",
          "state": {
            "_dom_classes": [],
            "_model_module": "@jupyter-widgets/controls",
            "_model_module_version": "1.5.0",
            "_model_name": "HTMLModel",
            "_view_count": null,
            "_view_module": "@jupyter-widgets/controls",
            "_view_module_version": "1.5.0",
            "_view_name": "HTMLView",
            "description": "",
            "description_tooltip": null,
            "layout": "IPY_MODEL_09b8f67ffa094c40b027fa92730354a8",
            "placeholder": "​",
            "style": "IPY_MODEL_cc832a07c02445bfb010a0efa1ce0920",
            "value": " 200k/? [00:00&lt;00:00, 10.8MB/s]"
          }
        },
        "8374edffc7044370a167669c4f5a7c2c": {
          "model_module": "@jupyter-widgets/base",
          "model_module_version": "1.2.0",
          "model_name": "LayoutModel",
          "state": {
            "_model_module": "@jupyter-widgets/base",
            "_model_module_version": "1.2.0",
            "_model_name": "LayoutModel",
            "_view_count": null,
            "_view_module": "@jupyter-widgets/base",
            "_view_module_version": "1.2.0",
            "_view_name": "LayoutView",
            "align_content": null,
            "align_items": null,
            "align_self": null,
            "border": null,
            "bottom": null,
            "display": null,
            "flex": null,
            "flex_flow": null,
            "grid_area": null,
            "grid_auto_columns": null,
            "grid_auto_flow": null,
            "grid_auto_rows": null,
            "grid_column": null,
            "grid_gap": null,
            "grid_row": null,
            "grid_template_areas": null,
            "grid_template_columns": null,
            "grid_template_rows": null,
            "height": null,
            "justify_content": null,
            "justify_items": null,
            "left": null,
            "margin": null,
            "max_height": null,
            "max_width": null,
            "min_height": null,
            "min_width": null,
            "object_fit": null,
            "object_position": null,
            "order": null,
            "overflow": null,
            "overflow_x": null,
            "overflow_y": null,
            "padding": null,
            "right": null,
            "top": null,
            "visibility": null,
            "width": null
          }
        },
        "84000350a10e4282a2e8259a1caca56d": {
          "model_module": "@jupyter-widgets/controls",
          "model_module_version": "1.5.0",
          "model_name": "HTMLModel",
          "state": {
            "_dom_classes": [],
            "_model_module": "@jupyter-widgets/controls",
            "_model_module_version": "1.5.0",
            "_model_name": "HTMLModel",
            "_view_count": null,
            "_view_module": "@jupyter-widgets/controls",
            "_view_module_version": "1.5.0",
            "_view_name": "HTMLView",
            "description": "",
            "description_tooltip": null,
            "layout": "IPY_MODEL_335cca12cf8a4a7ab458fe88f1ce094e",
            "placeholder": "​",
            "style": "IPY_MODEL_7e05a0fc619c4cc49231b07f2bad7296",
            "value": " 200k/? [00:00&lt;00:00, 11.2MB/s]"
          }
        },
        "8e5d6528bfbb44c08d24b2e00426ea98": {
          "model_module": "@jupyter-widgets/controls",
          "model_module_version": "1.5.0",
          "model_name": "FloatProgressModel",
          "state": {
            "_dom_classes": [],
            "_model_module": "@jupyter-widgets/controls",
            "_model_module_version": "1.5.0",
            "_model_name": "FloatProgressModel",
            "_view_count": null,
            "_view_module": "@jupyter-widgets/controls",
            "_view_module_version": "1.5.0",
            "_view_name": "ProgressView",
            "bar_style": "success",
            "description": "",
            "description_tooltip": null,
            "layout": "IPY_MODEL_a1f73432e99142b0ba5f909c5006322f",
            "max": 29910,
            "min": 0,
            "orientation": "horizontal",
            "style": "IPY_MODEL_bc7a59904baa4b28baf6a86e806fbc07",
            "value": 29910
          }
        },
        "91f2657cbcc24da5afdaf9b744ba0b25": {
          "model_module": "@jupyter-widgets/controls",
          "model_module_version": "1.5.0",
          "model_name": "HBoxModel",
          "state": {
            "_dom_classes": [],
            "_model_module": "@jupyter-widgets/controls",
            "_model_module_version": "1.5.0",
            "_model_name": "HBoxModel",
            "_view_count": null,
            "_view_module": "@jupyter-widgets/controls",
            "_view_module_version": "1.5.0",
            "_view_name": "HBoxView",
            "box_style": "",
            "children": [
              "IPY_MODEL_f9e2568b5444463fa9cf0482d6db38e3",
              "IPY_MODEL_32099af64d06442eaf9174ea425c43a7",
              "IPY_MODEL_d20f8b4b851a47a2a9702f71da96c4ec"
            ],
            "layout": "IPY_MODEL_eab448ca450f4fdd8578b8fe9a9b1be1"
          }
        },
        "9a0d0f311ded442983bd76f46a4a1687": {
          "model_module": "@jupyter-widgets/controls",
          "model_module_version": "1.5.0",
          "model_name": "DescriptionStyleModel",
          "state": {
            "_model_module": "@jupyter-widgets/controls",
            "_model_module_version": "1.5.0",
            "_model_name": "DescriptionStyleModel",
            "_view_count": null,
            "_view_module": "@jupyter-widgets/base",
            "_view_module_version": "1.2.0",
            "_view_name": "StyleView",
            "description_width": ""
          }
        },
        "9bd198a6e8c24118be77de1b35d5a053": {
          "model_module": "@jupyter-widgets/controls",
          "model_module_version": "1.5.0",
          "model_name": "ProgressStyleModel",
          "state": {
            "_model_module": "@jupyter-widgets/controls",
            "_model_module_version": "1.5.0",
            "_model_name": "ProgressStyleModel",
            "_view_count": null,
            "_view_module": "@jupyter-widgets/base",
            "_view_module_version": "1.2.0",
            "_view_name": "StyleView",
            "bar_color": null,
            "description_width": ""
          }
        },
        "a1f73432e99142b0ba5f909c5006322f": {
          "model_module": "@jupyter-widgets/base",
          "model_module_version": "1.2.0",
          "model_name": "LayoutModel",
          "state": {
            "_model_module": "@jupyter-widgets/base",
            "_model_module_version": "1.2.0",
            "_model_name": "LayoutModel",
            "_view_count": null,
            "_view_module": "@jupyter-widgets/base",
            "_view_module_version": "1.2.0",
            "_view_name": "LayoutView",
            "align_content": null,
            "align_items": null,
            "align_self": null,
            "border": null,
            "bottom": null,
            "display": null,
            "flex": null,
            "flex_flow": null,
            "grid_area": null,
            "grid_auto_columns": null,
            "grid_auto_flow": null,
            "grid_auto_rows": null,
            "grid_column": null,
            "grid_gap": null,
            "grid_row": null,
            "grid_template_areas": null,
            "grid_template_columns": null,
            "grid_template_rows": null,
            "height": null,
            "justify_content": null,
            "justify_items": null,
            "left": null,
            "margin": null,
            "max_height": null,
            "max_width": null,
            "min_height": null,
            "min_width": null,
            "object_fit": null,
            "object_position": null,
            "order": null,
            "overflow": null,
            "overflow_x": null,
            "overflow_y": null,
            "padding": null,
            "right": null,
            "top": null,
            "visibility": null,
            "width": null
          }
        },
        "a56b97a375d7498b8869cda54946fc82": {
          "model_module": "@jupyter-widgets/controls",
          "model_module_version": "1.5.0",
          "model_name": "HBoxModel",
          "state": {
            "_dom_classes": [],
            "_model_module": "@jupyter-widgets/controls",
            "_model_module_version": "1.5.0",
            "_model_name": "HBoxModel",
            "_view_count": null,
            "_view_module": "@jupyter-widgets/controls",
            "_view_module_version": "1.5.0",
            "_view_name": "HBoxView",
            "box_style": "",
            "children": [
              "IPY_MODEL_32025248f21b4b5288e5ef3cf77fb853",
              "IPY_MODEL_8e5d6528bfbb44c08d24b2e00426ea98",
              "IPY_MODEL_f196c6dc3fc84847af800fb655f5b534"
            ],
            "layout": "IPY_MODEL_e6ade1d0108144ca951deb9812dd34f9"
          }
        },
        "ac453601104a4ce6836151df129d5fb7": {
          "model_module": "@jupyter-widgets/controls",
          "model_module_version": "1.5.0",
          "model_name": "ProgressStyleModel",
          "state": {
            "_model_module": "@jupyter-widgets/controls",
            "_model_module_version": "1.5.0",
            "_model_name": "ProgressStyleModel",
            "_view_count": null,
            "_view_module": "@jupyter-widgets/base",
            "_view_module_version": "1.2.0",
            "_view_name": "StyleView",
            "bar_color": null,
            "description_width": ""
          }
        },
        "aca4d6ecf4f04f6193d72e1d0dd34064": {
          "model_module": "@jupyter-widgets/controls",
          "model_module_version": "1.5.0",
          "model_name": "DescriptionStyleModel",
          "state": {
            "_model_module": "@jupyter-widgets/controls",
            "_model_module_version": "1.5.0",
            "_model_name": "DescriptionStyleModel",
            "_view_count": null,
            "_view_module": "@jupyter-widgets/base",
            "_view_module_version": "1.2.0",
            "_view_name": "StyleView",
            "description_width": ""
          }
        },
        "adfbf500968048b881017760b8aad962": {
          "model_module": "@jupyter-widgets/base",
          "model_module_version": "1.2.0",
          "model_name": "LayoutModel",
          "state": {
            "_model_module": "@jupyter-widgets/base",
            "_model_module_version": "1.2.0",
            "_model_name": "LayoutModel",
            "_view_count": null,
            "_view_module": "@jupyter-widgets/base",
            "_view_module_version": "1.2.0",
            "_view_name": "LayoutView",
            "align_content": null,
            "align_items": null,
            "align_self": null,
            "border": null,
            "bottom": null,
            "display": null,
            "flex": null,
            "flex_flow": null,
            "grid_area": null,
            "grid_auto_columns": null,
            "grid_auto_flow": null,
            "grid_auto_rows": null,
            "grid_column": null,
            "grid_gap": null,
            "grid_row": null,
            "grid_template_areas": null,
            "grid_template_columns": null,
            "grid_template_rows": null,
            "height": null,
            "justify_content": null,
            "justify_items": null,
            "left": null,
            "margin": null,
            "max_height": null,
            "max_width": null,
            "min_height": null,
            "min_width": null,
            "object_fit": null,
            "object_position": null,
            "order": null,
            "overflow": null,
            "overflow_x": null,
            "overflow_y": null,
            "padding": null,
            "right": null,
            "top": null,
            "visibility": null,
            "width": null
          }
        },
        "b45db94cca9941de8dfdd9e4ae9f534f": {
          "model_module": "@jupyter-widgets/controls",
          "model_module_version": "1.5.0",
          "model_name": "ProgressStyleModel",
          "state": {
            "_model_module": "@jupyter-widgets/controls",
            "_model_module_version": "1.5.0",
            "_model_name": "ProgressStyleModel",
            "_view_count": null,
            "_view_module": "@jupyter-widgets/base",
            "_view_module_version": "1.2.0",
            "_view_name": "StyleView",
            "bar_color": null,
            "description_width": ""
          }
        },
        "b6800d7fe6af49ef9cb0105c9804a7f6": {
          "model_module": "@jupyter-widgets/controls",
          "model_module_version": "1.5.0",
          "model_name": "FloatProgressModel",
          "state": {
            "_dom_classes": [],
            "_model_module": "@jupyter-widgets/controls",
            "_model_module_version": "1.5.0",
            "_model_name": "FloatProgressModel",
            "_view_count": null,
            "_view_module": "@jupyter-widgets/controls",
            "_view_module_version": "1.5.0",
            "_view_name": "ProgressView",
            "bar_style": "success",
            "description": "",
            "description_tooltip": null,
            "layout": "IPY_MODEL_d7b9a44ae80048e3b8146379c6059917",
            "max": 29910,
            "min": 0,
            "orientation": "horizontal",
            "style": "IPY_MODEL_1e2c1b2877f9477c9378624996f08746",
            "value": 29910
          }
        },
        "b87378c96a9f47ff856a1cdff8aef737": {
          "model_module": "@jupyter-widgets/controls",
          "model_module_version": "1.5.0",
          "model_name": "HBoxModel",
          "state": {
            "_dom_classes": [],
            "_model_module": "@jupyter-widgets/controls",
            "_model_module_version": "1.5.0",
            "_model_name": "HBoxModel",
            "_view_count": null,
            "_view_module": "@jupyter-widgets/controls",
            "_view_module_version": "1.5.0",
            "_view_name": "HBoxView",
            "box_style": "",
            "children": [
              "IPY_MODEL_034f313f588e4d25b222109392eb4539",
              "IPY_MODEL_f17acd8130104e1892fb0f422585fae1",
              "IPY_MODEL_817e5b491f364a0486a1f96c2eb8d359"
            ],
            "layout": "IPY_MODEL_108ebfbcde4e4d56ba960432ac71dd73"
          }
        },
        "b8c5922c968047cbb4619595a84a0202": {
          "model_module": "@jupyter-widgets/base",
          "model_module_version": "1.2.0",
          "model_name": "LayoutModel",
          "state": {
            "_model_module": "@jupyter-widgets/base",
            "_model_module_version": "1.2.0",
            "_model_name": "LayoutModel",
            "_view_count": null,
            "_view_module": "@jupyter-widgets/base",
            "_view_module_version": "1.2.0",
            "_view_name": "LayoutView",
            "align_content": null,
            "align_items": null,
            "align_self": null,
            "border": null,
            "bottom": null,
            "display": null,
            "flex": null,
            "flex_flow": null,
            "grid_area": null,
            "grid_auto_columns": null,
            "grid_auto_flow": null,
            "grid_auto_rows": null,
            "grid_column": null,
            "grid_gap": null,
            "grid_row": null,
            "grid_template_areas": null,
            "grid_template_columns": null,
            "grid_template_rows": null,
            "height": null,
            "justify_content": null,
            "justify_items": null,
            "left": null,
            "margin": null,
            "max_height": null,
            "max_width": null,
            "min_height": null,
            "min_width": null,
            "object_fit": null,
            "object_position": null,
            "order": null,
            "overflow": null,
            "overflow_x": null,
            "overflow_y": null,
            "padding": null,
            "right": null,
            "top": null,
            "visibility": null,
            "width": null
          }
        },
        "bc7a59904baa4b28baf6a86e806fbc07": {
          "model_module": "@jupyter-widgets/controls",
          "model_module_version": "1.5.0",
          "model_name": "ProgressStyleModel",
          "state": {
            "_model_module": "@jupyter-widgets/controls",
            "_model_module_version": "1.5.0",
            "_model_name": "ProgressStyleModel",
            "_view_count": null,
            "_view_module": "@jupyter-widgets/base",
            "_view_module_version": "1.2.0",
            "_view_name": "StyleView",
            "bar_color": null,
            "description_width": ""
          }
        },
        "c2ba3c0c1e37439db721b08bf57d9eef": {
          "model_module": "@jupyter-widgets/base",
          "model_module_version": "1.2.0",
          "model_name": "LayoutModel",
          "state": {
            "_model_module": "@jupyter-widgets/base",
            "_model_module_version": "1.2.0",
            "_model_name": "LayoutModel",
            "_view_count": null,
            "_view_module": "@jupyter-widgets/base",
            "_view_module_version": "1.2.0",
            "_view_name": "LayoutView",
            "align_content": null,
            "align_items": null,
            "align_self": null,
            "border": null,
            "bottom": null,
            "display": null,
            "flex": null,
            "flex_flow": null,
            "grid_area": null,
            "grid_auto_columns": null,
            "grid_auto_flow": null,
            "grid_auto_rows": null,
            "grid_column": null,
            "grid_gap": null,
            "grid_row": null,
            "grid_template_areas": null,
            "grid_template_columns": null,
            "grid_template_rows": null,
            "height": null,
            "justify_content": null,
            "justify_items": null,
            "left": null,
            "margin": null,
            "max_height": null,
            "max_width": null,
            "min_height": null,
            "min_width": null,
            "object_fit": null,
            "object_position": null,
            "order": null,
            "overflow": null,
            "overflow_x": null,
            "overflow_y": null,
            "padding": null,
            "right": null,
            "top": null,
            "visibility": null,
            "width": null
          }
        },
        "c33f6fbf6fe24527bb844dda0431118f": {
          "model_module": "@jupyter-widgets/base",
          "model_module_version": "1.2.0",
          "model_name": "LayoutModel",
          "state": {
            "_model_module": "@jupyter-widgets/base",
            "_model_module_version": "1.2.0",
            "_model_name": "LayoutModel",
            "_view_count": null,
            "_view_module": "@jupyter-widgets/base",
            "_view_module_version": "1.2.0",
            "_view_name": "LayoutView",
            "align_content": null,
            "align_items": null,
            "align_self": null,
            "border": null,
            "bottom": null,
            "display": null,
            "flex": null,
            "flex_flow": null,
            "grid_area": null,
            "grid_auto_columns": null,
            "grid_auto_flow": null,
            "grid_auto_rows": null,
            "grid_column": null,
            "grid_gap": null,
            "grid_row": null,
            "grid_template_areas": null,
            "grid_template_columns": null,
            "grid_template_rows": null,
            "height": null,
            "justify_content": null,
            "justify_items": null,
            "left": null,
            "margin": null,
            "max_height": null,
            "max_width": null,
            "min_height": null,
            "min_width": null,
            "object_fit": null,
            "object_position": null,
            "order": null,
            "overflow": null,
            "overflow_x": null,
            "overflow_y": null,
            "padding": null,
            "right": null,
            "top": null,
            "visibility": null,
            "width": null
          }
        },
        "c8179eedc39b47a8b29a2100290effa2": {
          "model_module": "@jupyter-widgets/base",
          "model_module_version": "1.2.0",
          "model_name": "LayoutModel",
          "state": {
            "_model_module": "@jupyter-widgets/base",
            "_model_module_version": "1.2.0",
            "_model_name": "LayoutModel",
            "_view_count": null,
            "_view_module": "@jupyter-widgets/base",
            "_view_module_version": "1.2.0",
            "_view_name": "LayoutView",
            "align_content": null,
            "align_items": null,
            "align_self": null,
            "border": null,
            "bottom": null,
            "display": null,
            "flex": null,
            "flex_flow": null,
            "grid_area": null,
            "grid_auto_columns": null,
            "grid_auto_flow": null,
            "grid_auto_rows": null,
            "grid_column": null,
            "grid_gap": null,
            "grid_row": null,
            "grid_template_areas": null,
            "grid_template_columns": null,
            "grid_template_rows": null,
            "height": null,
            "justify_content": null,
            "justify_items": null,
            "left": null,
            "margin": null,
            "max_height": null,
            "max_width": null,
            "min_height": null,
            "min_width": null,
            "object_fit": null,
            "object_position": null,
            "order": null,
            "overflow": null,
            "overflow_x": null,
            "overflow_y": null,
            "padding": null,
            "right": null,
            "top": null,
            "visibility": null,
            "width": null
          }
        },
        "cc832a07c02445bfb010a0efa1ce0920": {
          "model_module": "@jupyter-widgets/controls",
          "model_module_version": "1.5.0",
          "model_name": "DescriptionStyleModel",
          "state": {
            "_model_module": "@jupyter-widgets/controls",
            "_model_module_version": "1.5.0",
            "_model_name": "DescriptionStyleModel",
            "_view_count": null,
            "_view_module": "@jupyter-widgets/base",
            "_view_module_version": "1.2.0",
            "_view_name": "StyleView",
            "description_width": ""
          }
        },
        "d20f8b4b851a47a2a9702f71da96c4ec": {
          "model_module": "@jupyter-widgets/controls",
          "model_module_version": "1.5.0",
          "model_name": "HTMLModel",
          "state": {
            "_dom_classes": [],
            "_model_module": "@jupyter-widgets/controls",
            "_model_module_version": "1.5.0",
            "_model_name": "HTMLModel",
            "_view_count": null,
            "_view_module": "@jupyter-widgets/controls",
            "_view_module_version": "1.5.0",
            "_view_name": "HTMLView",
            "description": "",
            "description_tooltip": null,
            "layout": "IPY_MODEL_784147c7d2a541e79333aba27993bffb",
            "placeholder": "​",
            "style": "IPY_MODEL_57ab7fb19dc04c1890f2856fae44208e",
            "value": " 603M/603M [00:02&lt;00:00, 275MB/s]"
          }
        },
        "d3690c41600a4b54843b867e3cd32c55": {
          "model_module": "@jupyter-widgets/base",
          "model_module_version": "1.2.0",
          "model_name": "LayoutModel",
          "state": {
            "_model_module": "@jupyter-widgets/base",
            "_model_module_version": "1.2.0",
            "_model_name": "LayoutModel",
            "_view_count": null,
            "_view_module": "@jupyter-widgets/base",
            "_view_module_version": "1.2.0",
            "_view_name": "LayoutView",
            "align_content": null,
            "align_items": null,
            "align_self": null,
            "border": null,
            "bottom": null,
            "display": null,
            "flex": null,
            "flex_flow": null,
            "grid_area": null,
            "grid_auto_columns": null,
            "grid_auto_flow": null,
            "grid_auto_rows": null,
            "grid_column": null,
            "grid_gap": null,
            "grid_row": null,
            "grid_template_areas": null,
            "grid_template_columns": null,
            "grid_template_rows": null,
            "height": null,
            "justify_content": null,
            "justify_items": null,
            "left": null,
            "margin": null,
            "max_height": null,
            "max_width": null,
            "min_height": null,
            "min_width": null,
            "object_fit": null,
            "object_position": null,
            "order": null,
            "overflow": null,
            "overflow_x": null,
            "overflow_y": null,
            "padding": null,
            "right": null,
            "top": null,
            "visibility": null,
            "width": null
          }
        },
        "d7b95c0ab18c4306b808ba43b1be2845": {
          "model_module": "@jupyter-widgets/controls",
          "model_module_version": "1.5.0",
          "model_name": "HTMLModel",
          "state": {
            "_dom_classes": [],
            "_model_module": "@jupyter-widgets/controls",
            "_model_module_version": "1.5.0",
            "_model_name": "HTMLModel",
            "_view_count": null,
            "_view_module": "@jupyter-widgets/controls",
            "_view_module_version": "1.5.0",
            "_view_name": "HTMLView",
            "description": "",
            "description_tooltip": null,
            "layout": "IPY_MODEL_4506227dbbed461da908acd868b28a6e",
            "placeholder": "​",
            "style": "IPY_MODEL_613d058a6c9648969911d25f8308cd83",
            "value": "Downloading https://raw.githubusercontent.com/stanfordnlp/stanza-resources/main/resources_1.5.0.json: "
          }
        },
        "d7b9a44ae80048e3b8146379c6059917": {
          "model_module": "@jupyter-widgets/base",
          "model_module_version": "1.2.0",
          "model_name": "LayoutModel",
          "state": {
            "_model_module": "@jupyter-widgets/base",
            "_model_module_version": "1.2.0",
            "_model_name": "LayoutModel",
            "_view_count": null,
            "_view_module": "@jupyter-widgets/base",
            "_view_module_version": "1.2.0",
            "_view_name": "LayoutView",
            "align_content": null,
            "align_items": null,
            "align_self": null,
            "border": null,
            "bottom": null,
            "display": null,
            "flex": null,
            "flex_flow": null,
            "grid_area": null,
            "grid_auto_columns": null,
            "grid_auto_flow": null,
            "grid_auto_rows": null,
            "grid_column": null,
            "grid_gap": null,
            "grid_row": null,
            "grid_template_areas": null,
            "grid_template_columns": null,
            "grid_template_rows": null,
            "height": null,
            "justify_content": null,
            "justify_items": null,
            "left": null,
            "margin": null,
            "max_height": null,
            "max_width": null,
            "min_height": null,
            "min_width": null,
            "object_fit": null,
            "object_position": null,
            "order": null,
            "overflow": null,
            "overflow_x": null,
            "overflow_y": null,
            "padding": null,
            "right": null,
            "top": null,
            "visibility": null,
            "width": null
          }
        },
        "dc9c644842e3418599a57c51cc42fd85": {
          "model_module": "@jupyter-widgets/base",
          "model_module_version": "1.2.0",
          "model_name": "LayoutModel",
          "state": {
            "_model_module": "@jupyter-widgets/base",
            "_model_module_version": "1.2.0",
            "_model_name": "LayoutModel",
            "_view_count": null,
            "_view_module": "@jupyter-widgets/base",
            "_view_module_version": "1.2.0",
            "_view_name": "LayoutView",
            "align_content": null,
            "align_items": null,
            "align_self": null,
            "border": null,
            "bottom": null,
            "display": null,
            "flex": null,
            "flex_flow": null,
            "grid_area": null,
            "grid_auto_columns": null,
            "grid_auto_flow": null,
            "grid_auto_rows": null,
            "grid_column": null,
            "grid_gap": null,
            "grid_row": null,
            "grid_template_areas": null,
            "grid_template_columns": null,
            "grid_template_rows": null,
            "height": null,
            "justify_content": null,
            "justify_items": null,
            "left": null,
            "margin": null,
            "max_height": null,
            "max_width": null,
            "min_height": null,
            "min_width": null,
            "object_fit": null,
            "object_position": null,
            "order": null,
            "overflow": null,
            "overflow_x": null,
            "overflow_y": null,
            "padding": null,
            "right": null,
            "top": null,
            "visibility": null,
            "width": null
          }
        },
        "e055b38b26644bd2a1402f324cf37790": {
          "model_module": "@jupyter-widgets/base",
          "model_module_version": "1.2.0",
          "model_name": "LayoutModel",
          "state": {
            "_model_module": "@jupyter-widgets/base",
            "_model_module_version": "1.2.0",
            "_model_name": "LayoutModel",
            "_view_count": null,
            "_view_module": "@jupyter-widgets/base",
            "_view_module_version": "1.2.0",
            "_view_name": "LayoutView",
            "align_content": null,
            "align_items": null,
            "align_self": null,
            "border": null,
            "bottom": null,
            "display": null,
            "flex": null,
            "flex_flow": null,
            "grid_area": null,
            "grid_auto_columns": null,
            "grid_auto_flow": null,
            "grid_auto_rows": null,
            "grid_column": null,
            "grid_gap": null,
            "grid_row": null,
            "grid_template_areas": null,
            "grid_template_columns": null,
            "grid_template_rows": null,
            "height": null,
            "justify_content": null,
            "justify_items": null,
            "left": null,
            "margin": null,
            "max_height": null,
            "max_width": null,
            "min_height": null,
            "min_width": null,
            "object_fit": null,
            "object_position": null,
            "order": null,
            "overflow": null,
            "overflow_x": null,
            "overflow_y": null,
            "padding": null,
            "right": null,
            "top": null,
            "visibility": null,
            "width": null
          }
        },
        "e6ade1d0108144ca951deb9812dd34f9": {
          "model_module": "@jupyter-widgets/base",
          "model_module_version": "1.2.0",
          "model_name": "LayoutModel",
          "state": {
            "_model_module": "@jupyter-widgets/base",
            "_model_module_version": "1.2.0",
            "_model_name": "LayoutModel",
            "_view_count": null,
            "_view_module": "@jupyter-widgets/base",
            "_view_module_version": "1.2.0",
            "_view_name": "LayoutView",
            "align_content": null,
            "align_items": null,
            "align_self": null,
            "border": null,
            "bottom": null,
            "display": null,
            "flex": null,
            "flex_flow": null,
            "grid_area": null,
            "grid_auto_columns": null,
            "grid_auto_flow": null,
            "grid_auto_rows": null,
            "grid_column": null,
            "grid_gap": null,
            "grid_row": null,
            "grid_template_areas": null,
            "grid_template_columns": null,
            "grid_template_rows": null,
            "height": null,
            "justify_content": null,
            "justify_items": null,
            "left": null,
            "margin": null,
            "max_height": null,
            "max_width": null,
            "min_height": null,
            "min_width": null,
            "object_fit": null,
            "object_position": null,
            "order": null,
            "overflow": null,
            "overflow_x": null,
            "overflow_y": null,
            "padding": null,
            "right": null,
            "top": null,
            "visibility": null,
            "width": null
          }
        },
        "e984e54d8ea74c3e9bbef3e778c738dd": {
          "model_module": "@jupyter-widgets/controls",
          "model_module_version": "1.5.0",
          "model_name": "DescriptionStyleModel",
          "state": {
            "_model_module": "@jupyter-widgets/controls",
            "_model_module_version": "1.5.0",
            "_model_name": "DescriptionStyleModel",
            "_view_count": null,
            "_view_module": "@jupyter-widgets/base",
            "_view_module_version": "1.2.0",
            "_view_name": "StyleView",
            "description_width": ""
          }
        },
        "ea78769078344f9eb3ab47d02143e764": {
          "model_module": "@jupyter-widgets/controls",
          "model_module_version": "1.5.0",
          "model_name": "HBoxModel",
          "state": {
            "_dom_classes": [],
            "_model_module": "@jupyter-widgets/controls",
            "_model_module_version": "1.5.0",
            "_model_name": "HBoxModel",
            "_view_count": null,
            "_view_module": "@jupyter-widgets/controls",
            "_view_module_version": "1.5.0",
            "_view_name": "HBoxView",
            "box_style": "",
            "children": [
              "IPY_MODEL_fc9ec4bfce1b41c9ae48247168f514e3",
              "IPY_MODEL_f1cd70f74a8b4fdea8bf2c5b6ebd465d",
              "IPY_MODEL_84000350a10e4282a2e8259a1caca56d"
            ],
            "layout": "IPY_MODEL_b8c5922c968047cbb4619595a84a0202"
          }
        },
        "eab448ca450f4fdd8578b8fe9a9b1be1": {
          "model_module": "@jupyter-widgets/base",
          "model_module_version": "1.2.0",
          "model_name": "LayoutModel",
          "state": {
            "_model_module": "@jupyter-widgets/base",
            "_model_module_version": "1.2.0",
            "_model_name": "LayoutModel",
            "_view_count": null,
            "_view_module": "@jupyter-widgets/base",
            "_view_module_version": "1.2.0",
            "_view_name": "LayoutView",
            "align_content": null,
            "align_items": null,
            "align_self": null,
            "border": null,
            "bottom": null,
            "display": null,
            "flex": null,
            "flex_flow": null,
            "grid_area": null,
            "grid_auto_columns": null,
            "grid_auto_flow": null,
            "grid_auto_rows": null,
            "grid_column": null,
            "grid_gap": null,
            "grid_row": null,
            "grid_template_areas": null,
            "grid_template_columns": null,
            "grid_template_rows": null,
            "height": null,
            "justify_content": null,
            "justify_items": null,
            "left": null,
            "margin": null,
            "max_height": null,
            "max_width": null,
            "min_height": null,
            "min_width": null,
            "object_fit": null,
            "object_position": null,
            "order": null,
            "overflow": null,
            "overflow_x": null,
            "overflow_y": null,
            "padding": null,
            "right": null,
            "top": null,
            "visibility": null,
            "width": null
          }
        },
        "ed469d5252d54b248d3bc2c775afa573": {
          "model_module": "@jupyter-widgets/controls",
          "model_module_version": "1.5.0",
          "model_name": "HTMLModel",
          "state": {
            "_dom_classes": [],
            "_model_module": "@jupyter-widgets/controls",
            "_model_module_version": "1.5.0",
            "_model_name": "HTMLModel",
            "_view_count": null,
            "_view_module": "@jupyter-widgets/controls",
            "_view_module_version": "1.5.0",
            "_view_name": "HTMLView",
            "description": "",
            "description_tooltip": null,
            "layout": "IPY_MODEL_0525ca05959f4cfabedfa2afe0f55072",
            "placeholder": "​",
            "style": "IPY_MODEL_0a06778f53ab491a8d33dac5bc1a6743",
            "value": " 200k/? [00:00&lt;00:00, 10.1MB/s]"
          }
        },
        "f17acd8130104e1892fb0f422585fae1": {
          "model_module": "@jupyter-widgets/controls",
          "model_module_version": "1.5.0",
          "model_name": "FloatProgressModel",
          "state": {
            "_dom_classes": [],
            "_model_module": "@jupyter-widgets/controls",
            "_model_module_version": "1.5.0",
            "_model_name": "FloatProgressModel",
            "_view_count": null,
            "_view_module": "@jupyter-widgets/controls",
            "_view_module_version": "1.5.0",
            "_view_name": "ProgressView",
            "bar_style": "success",
            "description": "",
            "description_tooltip": null,
            "layout": "IPY_MODEL_6c1a39dc7e3e4d4d8eaac5c45c2b5fcf",
            "max": 29910,
            "min": 0,
            "orientation": "horizontal",
            "style": "IPY_MODEL_b45db94cca9941de8dfdd9e4ae9f534f",
            "value": 29910
          }
        },
        "f196c6dc3fc84847af800fb655f5b534": {
          "model_module": "@jupyter-widgets/controls",
          "model_module_version": "1.5.0",
          "model_name": "HTMLModel",
          "state": {
            "_dom_classes": [],
            "_model_module": "@jupyter-widgets/controls",
            "_model_module_version": "1.5.0",
            "_model_name": "HTMLModel",
            "_view_count": null,
            "_view_module": "@jupyter-widgets/controls",
            "_view_module_version": "1.5.0",
            "_view_name": "HTMLView",
            "description": "",
            "description_tooltip": null,
            "layout": "IPY_MODEL_c33f6fbf6fe24527bb844dda0431118f",
            "placeholder": "​",
            "style": "IPY_MODEL_e984e54d8ea74c3e9bbef3e778c738dd",
            "value": " 200k/? [00:00&lt;00:00, 11.0MB/s]"
          }
        },
        "f1cd70f74a8b4fdea8bf2c5b6ebd465d": {
          "model_module": "@jupyter-widgets/controls",
          "model_module_version": "1.5.0",
          "model_name": "FloatProgressModel",
          "state": {
            "_dom_classes": [],
            "_model_module": "@jupyter-widgets/controls",
            "_model_module_version": "1.5.0",
            "_model_name": "FloatProgressModel",
            "_view_count": null,
            "_view_module": "@jupyter-widgets/controls",
            "_view_module_version": "1.5.0",
            "_view_name": "ProgressView",
            "bar_style": "success",
            "description": "",
            "description_tooltip": null,
            "layout": "IPY_MODEL_2e4aabdb449c4eb3b8f013a2183d7b93",
            "max": 29910,
            "min": 0,
            "orientation": "horizontal",
            "style": "IPY_MODEL_ac453601104a4ce6836151df129d5fb7",
            "value": 29910
          }
        },
        "f42dfb8b8908407aa84b25e62ab51ea3": {
          "model_module": "@jupyter-widgets/controls",
          "model_module_version": "1.5.0",
          "model_name": "DescriptionStyleModel",
          "state": {
            "_model_module": "@jupyter-widgets/controls",
            "_model_module_version": "1.5.0",
            "_model_name": "DescriptionStyleModel",
            "_view_count": null,
            "_view_module": "@jupyter-widgets/base",
            "_view_module_version": "1.2.0",
            "_view_name": "StyleView",
            "description_width": ""
          }
        },
        "f9e2568b5444463fa9cf0482d6db38e3": {
          "model_module": "@jupyter-widgets/controls",
          "model_module_version": "1.5.0",
          "model_name": "HTMLModel",
          "state": {
            "_dom_classes": [],
            "_model_module": "@jupyter-widgets/controls",
            "_model_module_version": "1.5.0",
            "_model_name": "HTMLModel",
            "_view_count": null,
            "_view_module": "@jupyter-widgets/controls",
            "_view_module_version": "1.5.0",
            "_view_name": "HTMLView",
            "description": "",
            "description_tooltip": null,
            "layout": "IPY_MODEL_c8179eedc39b47a8b29a2100290effa2",
            "placeholder": "​",
            "style": "IPY_MODEL_4970d05ef5a84ca7a716a999907551e8",
            "value": "Downloading https://huggingface.co/stanfordnlp/stanza-es/resolve/v1.5.0/models/default.zip: 100%"
          }
        },
        "fc9ec4bfce1b41c9ae48247168f514e3": {
          "model_module": "@jupyter-widgets/controls",
          "model_module_version": "1.5.0",
          "model_name": "HTMLModel",
          "state": {
            "_dom_classes": [],
            "_model_module": "@jupyter-widgets/controls",
            "_model_module_version": "1.5.0",
            "_model_name": "HTMLModel",
            "_view_count": null,
            "_view_module": "@jupyter-widgets/controls",
            "_view_module_version": "1.5.0",
            "_view_name": "HTMLView",
            "description": "",
            "description_tooltip": null,
            "layout": "IPY_MODEL_adfbf500968048b881017760b8aad962",
            "placeholder": "​",
            "style": "IPY_MODEL_9a0d0f311ded442983bd76f46a4a1687",
            "value": "Downloading https://raw.githubusercontent.com/stanfordnlp/stanza-resources/main/resources_1.5.0.json: "
          }
        }
      }
    }
  },
  "nbformat": 4,
  "nbformat_minor": 0
}
